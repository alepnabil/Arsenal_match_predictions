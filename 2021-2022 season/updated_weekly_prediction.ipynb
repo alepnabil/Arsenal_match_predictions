{
 "cells": [
  {
   "cell_type": "code",
   "execution_count": 1,
   "id": "6f029b26",
   "metadata": {},
   "outputs": [],
   "source": [
    "import pandas as pd\n",
    "\n",
    "from sklearn.linear_model import LogisticRegression\n",
    "from sklearn.neighbors import KNeighborsClassifier\n",
    "from sklearn.svm import SVC\n",
    "from sklearn.ensemble import RandomForestClassifier\n",
    "from sklearn.naive_bayes import MultinomialNB\n",
    "from sklearn.ensemble import GradientBoostingClassifier\n",
    "from sklearn.ensemble import AdaBoostClassifier\n",
    "from xgboost import XGBClassifier\n",
    "from sklearn.preprocessing import StandardScaler\n",
    "from sklearn.multioutput import MultiOutputClassifier\n",
    "\n",
    "\n",
    "from sklearn.metrics import accuracy_score,confusion_matrix,classification_report,plot_confusion_matrix,roc_auc_score\n",
    "from sklearn.model_selection import cross_val_score\n",
    "\n",
    "from sklearn.model_selection import GridSearchCV\n",
    "\n",
    "\n",
    "import warnings\n",
    "warnings.filterwarnings('ignore')"
   ]
  },
  {
   "cell_type": "markdown",
   "id": "ff772059",
   "metadata": {},
   "source": [
    "# Column descriptions:"
   ]
  },
  {
   "cell_type": "markdown",
   "id": "4fe8eabe",
   "metadata": {},
   "source": [
    "# Prediction vs Norwich (23/12/2021)"
   ]
  },
  {
   "cell_type": "code",
   "execution_count": 2,
   "id": "7b9a98ab",
   "metadata": {},
   "outputs": [],
   "source": [
    "df=pd.read_csv('Arsenal season 2021_2022 - Sheet1 (2).csv')\n",
    "drop=['pred_poss','Day','Date','Round','Prediction','GF_prediction', 'GA_prediction','Predicted_formation','pred_gk_Ratings','pred_def_ratings', 'pred_mid_ratings', 'pred_forw_ratings','Opponent','Venue','Result']\n",
    "\n",
    "\n",
    "opponent=pd.get_dummies(df['Opponent'],drop_first=True)\n",
    "venue=pd.get_dummies(df['Venue'],drop_first=True)\n",
    "result=pd.get_dummies(df['Result'],drop_first=True)\n",
    "\n",
    "df=pd.concat([df,opponent,venue,result],axis=1)\n",
    "df=df.iloc[:18]\n",
    "\n",
    "df=df.drop(drop,axis=1)\n",
    "\n",
    "df['Formation'].replace('3-4-2003','3-4-3',inplace=True)\n",
    "df['Formation']=df['Formation'].apply(lambda x:int(x.replace('-','')))"
   ]
  },
  {
   "cell_type": "code",
   "execution_count": 5,
   "id": "4334e7d8",
   "metadata": {},
   "outputs": [],
   "source": [
    "train=df.iloc[:14]\n",
    "test=df.iloc[14:]"
   ]
  },
  {
   "cell_type": "code",
   "execution_count": 6,
   "id": "2015707f",
   "metadata": {},
   "outputs": [],
   "source": [
    "x_train=train.drop(['GF','GA','L','W'],axis=1)\n",
    "y_train=train[['L','W']]"
   ]
  },
  {
   "cell_type": "code",
   "execution_count": 7,
   "id": "91703d2f",
   "metadata": {},
   "outputs": [],
   "source": [
    "x_test=test.drop(['GF','GA','L','W'],axis=1)\n",
    "y_test=test[['L','W']]"
   ]
  },
  {
   "cell_type": "code",
   "execution_count": 16,
   "id": "0386aa04",
   "metadata": {},
   "outputs": [],
   "source": [
    "y_train_scoring=train[['GF','GA']]\n",
    "y_test_scoring=test[['GF','GA']]"
   ]
  },
  {
   "cell_type": "markdown",
   "id": "01180db8",
   "metadata": {},
   "source": [
    "    These are the inputs that are supposed to be given to the model. Each value of norwich_input represent the respective value"
   ]
  },
  {
   "cell_type": "code",
   "execution_count": 24,
   "id": "d47ca971",
   "metadata": {},
   "outputs": [
    {
     "data": {
      "text/plain": [
       "Index(['xG', 'xGA', 'Poss', 'Formation', 'act_gk_ratings', 'act_def_ratings',\n",
       "       'act_mid_ratings', 'act_forw_ratings', 'Brentford', 'Brighton',\n",
       "       'Burnley', 'Chelsea', 'Crystal Palace', 'Everton', 'Leeds United',\n",
       "       'Leicester City', 'Liverpool', 'Manchester City', 'Manchester Utd',\n",
       "       'Newcastle Utd', 'Norwich City', 'Southampton', 'Tottenham', 'Watford',\n",
       "       'West Ham', 'Wolves', 'Home'],\n",
       "      dtype='object')"
      ]
     },
     "execution_count": 24,
     "metadata": {},
     "output_type": "execute_result"
    }
   ],
   "source": [
    "x_train.columns"
   ]
  },
  {
   "cell_type": "markdown",
   "id": "1c43ea5a",
   "metadata": {},
   "source": [
    "Predicting match results"
   ]
  },
  {
   "cell_type": "code",
   "execution_count": 21,
   "id": "9adb3885",
   "metadata": {},
   "outputs": [],
   "source": [
    "norwich_input=[[2.033333333,0.9333333333,58,4411,7.051666667,6.963333333,7.070416667,7.343333333,0,0,0,0,0,0,0,0,0,0,0,0,1,0,0,0,0,0,0]]"
   ]
  },
  {
   "cell_type": "code",
   "execution_count": 22,
   "id": "43f22f39",
   "metadata": {},
   "outputs": [
    {
     "data": {
      "text/plain": [
       "array([[0, 1]], dtype=uint8)"
      ]
     },
     "execution_count": 22,
     "metadata": {},
     "output_type": "execute_result"
    }
   ],
   "source": [
    "model = LogisticRegression(C=100)\n",
    "lr=MultiOutputClassifier(model)\n",
    "lr.fit(x_train,y_train)\n",
    "lr.predict(norwich_input)"
   ]
  },
  {
   "cell_type": "markdown",
   "id": "da30076f",
   "metadata": {},
   "source": [
    "Predicting match scoring"
   ]
  },
  {
   "cell_type": "code",
   "execution_count": 20,
   "id": "d62f839e",
   "metadata": {},
   "outputs": [
    {
     "data": {
      "text/plain": [
       "array([[1., 0.]])"
      ]
     },
     "execution_count": 20,
     "metadata": {},
     "output_type": "execute_result"
    }
   ],
   "source": [
    "model = LogisticRegression(C=100)\n",
    "lr=MultiOutputClassifier(model)\n",
    "lr.fit(x_train,y_train_scoring)\n",
    "lr.predict(norwich_input)"
   ]
  },
  {
   "cell_type": "markdown",
   "id": "87b0d21e",
   "metadata": {},
   "source": [
    "###    The model predicts Arsenal will win against Norwich with a score of 1-0."
   ]
  },
  {
   "cell_type": "markdown",
   "id": "2de3f79e",
   "metadata": {},
   "source": [
    "\n",
    "*******************************************************\n",
    "\n",
    "\n"
   ]
  },
  {
   "cell_type": "markdown",
   "id": "cca37c75",
   "metadata": {},
   "source": [
    "# Prediction vs Manchester City (1/1/2021)"
   ]
  },
  {
   "cell_type": "markdown",
   "id": "428c5abe",
   "metadata": {},
   "source": [
    "    - Dropping all predicted data that were used since the model we will train is based on the actual data only.\n",
    "    \n",
    "    - Predicted data will only be used as an input for predicting the match results."
   ]
  },
  {
   "cell_type": "code",
   "execution_count": 51,
   "id": "1397503b",
   "metadata": {},
   "outputs": [],
   "source": [
    "df=pd.read_csv('Arsenal season 2021_2022 - Sheet1 (3).csv')\n",
    "drop=['result_prediction','predicted_poss','Day','Date','Round','GF_prediction', 'GA_prediction','Predicted_formation','pred_gk_Ratings','pred_def_ratings', 'pred_mid_ratings', 'pred_forw_ratings','Opponent','Venue','Result','GF_prediction','GA_prediction','predicted_xg','predicted_xga']\n",
    "\n",
    "\n",
    "opponent=pd.get_dummies(df['Opponent'],drop_first=True)\n",
    "venue=pd.get_dummies(df['Venue'],drop_first=True)\n",
    "result=pd.get_dummies(df['Result'],drop_first=True)\n",
    "\n",
    "df=pd.concat([df,opponent,venue,result],axis=1)\n",
    "#needs to be change every week since there will be new match data\n",
    "df=df.iloc[:19]\n",
    "\n",
    "df=df.drop(drop,axis=1)\n",
    "\n",
    "df['Formation'].replace('3-4-2003','3-4-3',inplace=True)\n",
    "df['Formation']=df['Formation'].apply(lambda x:int(x.replace('-','')))"
   ]
  },
  {
   "cell_type": "markdown",
   "id": "ac1e56df",
   "metadata": {},
   "source": [
    "##### To predict match results"
   ]
  },
  {
   "cell_type": "code",
   "execution_count": 94,
   "id": "9e1f2cf1",
   "metadata": {},
   "outputs": [],
   "source": [
    "x_train=df.drop(['GF','GA','L','W'],axis=1)\n",
    "y_train=df[['L','W']]"
   ]
  },
  {
   "cell_type": "markdown",
   "id": "54eea7aa",
   "metadata": {},
   "source": [
    "##### To predict score results"
   ]
  },
  {
   "cell_type": "code",
   "execution_count": 101,
   "id": "6c585de4",
   "metadata": {},
   "outputs": [],
   "source": [
    "y_train_scoring=df[['GF','GA']]"
   ]
  },
  {
   "cell_type": "markdown",
   "id": "37907b00",
   "metadata": {},
   "source": [
    "##### Making match result predictions"
   ]
  },
  {
   "cell_type": "code",
   "execution_count": 118,
   "id": "439db039",
   "metadata": {},
   "outputs": [
    {
     "data": {
      "text/plain": [
       "Index(['xG', 'xGA', 'Poss', 'Formation', 'act_gk_ratings', 'act_def_ratings',\n",
       "       'act_mid_ratings', 'act_forw_ratings', 'Brentford', 'Brighton',\n",
       "       'Burnley', 'Chelsea', 'Crystal Palace', 'Everton', 'Leeds United',\n",
       "       'Leicester City', 'Liverpool', 'Manchester City', 'Manchester Utd',\n",
       "       'Newcastle Utd', 'Norwich City', 'Southampton', 'Tottenham', 'Watford',\n",
       "       'West Ham', 'Wolves', 'Home'],\n",
       "      dtype='object')"
      ]
     },
     "execution_count": 118,
     "metadata": {},
     "output_type": "execute_result"
    }
   ],
   "source": [
    "x_train.columns"
   ]
  },
  {
   "cell_type": "markdown",
   "id": "85608561",
   "metadata": {},
   "source": [
    "> These are **predicted data** used as **inputs** for the model to predict(taken from excel)."
   ]
  },
  {
   "cell_type": "code",
   "execution_count": 81,
   "id": "b3636e08",
   "metadata": {},
   "outputs": [],
   "source": [
    "mc_input=[[2.116666667,0.9166666667,57.83333333,4411,7.011666667,6.892916667,7.219166667,7.566666667,0,0,0,0,0,0,0,0,0,1,0,0,0,0,0,0,0,0,1]]"
   ]
  },
  {
   "cell_type": "code",
   "execution_count": 106,
   "id": "c2543150",
   "metadata": {},
   "outputs": [
    {
     "name": "stdout",
     "output_type": "stream",
     "text": [
      "LOSE------WIN\n"
     ]
    },
    {
     "data": {
      "text/plain": [
       "array([[0, 1]], dtype=uint8)"
      ]
     },
     "execution_count": 106,
     "metadata": {},
     "output_type": "execute_result"
    }
   ],
   "source": [
    "model = LogisticRegression(C=100)\n",
    "lr=MultiOutputClassifier(model)\n",
    "lr.fit(x_train,y_train)\n",
    "#make prediction using input for this match\n",
    "\n",
    "print('LOSE------WIN')\n",
    "lr.predict(mc_input)\n",
    "#lr.predict(mc_input)"
   ]
  },
  {
   "cell_type": "markdown",
   "id": "495e785b",
   "metadata": {},
   "source": [
    "##### Predicting score results"
   ]
  },
  {
   "cell_type": "code",
   "execution_count": 107,
   "id": "02b63583",
   "metadata": {},
   "outputs": [
    {
     "name": "stdout",
     "output_type": "stream",
     "text": [
      "ARS----MC\n"
     ]
    },
    {
     "data": {
      "text/plain": [
       "array([[2., 0.]])"
      ]
     },
     "execution_count": 107,
     "metadata": {},
     "output_type": "execute_result"
    }
   ],
   "source": [
    "model = LogisticRegression(C=100)\n",
    "lr=MultiOutputClassifier(model)\n",
    "lr.fit(x_train,y_train_scoring)\n",
    "\n",
    "print('ARS----MC')\n",
    "lr.predict(mc_input)"
   ]
  },
  {
   "cell_type": "markdown",
   "id": "f4423bf8",
   "metadata": {},
   "source": [
    "## The model predicts Arsenal will win against Manchester City with a score of 2-0."
   ]
  }
 ],
 "metadata": {
  "kernelspec": {
   "display_name": "Python 3 (ipykernel)",
   "language": "python",
   "name": "python3"
  },
  "language_info": {
   "codemirror_mode": {
    "name": "ipython",
    "version": 3
   },
   "file_extension": ".py",
   "mimetype": "text/x-python",
   "name": "python",
   "nbconvert_exporter": "python",
   "pygments_lexer": "ipython3",
   "version": "3.7.8"
  }
 },
 "nbformat": 4,
 "nbformat_minor": 5
}
