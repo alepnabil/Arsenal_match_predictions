{
 "cells": [
  {
   "cell_type": "code",
   "execution_count": 1,
   "id": "5ca8da64",
   "metadata": {},
   "outputs": [],
   "source": [
    "import pandas as pd\n",
    "\n",
    "from sklearn.linear_model import LogisticRegression\n",
    "from sklearn.neighbors import KNeighborsClassifier\n",
    "from sklearn.svm import SVC\n",
    "from sklearn.ensemble import RandomForestClassifier\n",
    "from sklearn.naive_bayes import MultinomialNB\n",
    "from sklearn.ensemble import GradientBoostingClassifier\n",
    "from sklearn.ensemble import AdaBoostClassifier\n",
    "from xgboost import XGBClassifier\n",
    "from sklearn.preprocessing import StandardScaler\n",
    "from sklearn.multioutput import MultiOutputClassifier\n",
    "\n",
    "\n",
    "from sklearn.metrics import accuracy_score,confusion_matrix,classification_report,plot_confusion_matrix,roc_auc_score\n",
    "from sklearn.model_selection import cross_val_score\n",
    "\n",
    "from sklearn.model_selection import GridSearchCV\n",
    "\n",
    "\n",
    "import warnings\n",
    "warnings.filterwarnings('ignore')"
   ]
  },
  {
   "cell_type": "markdown",
   "id": "7e838b95",
   "metadata": {},
   "source": [
    "# Prediction vs Norwich (23/12/2021)"
   ]
  },
  {
   "cell_type": "code",
   "execution_count": 2,
   "id": "d4533318",
   "metadata": {},
   "outputs": [],
   "source": [
    "df=pd.read_csv('Arsenal season 2021_2022 - Sheet1 (2).csv')\n",
    "drop=['pred_poss','Day','Date','Round','Prediction','GF_prediction', 'GA_prediction','Predicted_formation','pred_gk_Ratings','pred_def_ratings', 'pred_mid_ratings', 'pred_forw_ratings','Opponent','Venue','Result']\n",
    "\n",
    "\n",
    "opponent=pd.get_dummies(df['Opponent'],drop_first=True)\n",
    "venue=pd.get_dummies(df['Venue'],drop_first=True)\n",
    "result=pd.get_dummies(df['Result'],drop_first=True)\n",
    "\n",
    "df=pd.concat([df,opponent,venue,result],axis=1)\n",
    "df=df.iloc[:18]\n",
    "\n",
    "df=df.drop(drop,axis=1)\n",
    "\n",
    "df['Formation'].replace('3-4-2003','3-4-3',inplace=True)\n",
    "df['Formation']=df['Formation'].apply(lambda x:int(x.replace('-','')))"
   ]
  },
  {
   "cell_type": "code",
   "execution_count": 5,
   "id": "130712eb",
   "metadata": {},
   "outputs": [],
   "source": [
    "train=df.iloc[:14]\n",
    "test=df.iloc[14:]"
   ]
  },
  {
   "cell_type": "code",
   "execution_count": 6,
   "id": "7ff1e87c",
   "metadata": {},
   "outputs": [],
   "source": [
    "x_train=train.drop(['GF','GA','L','W'],axis=1)\n",
    "y_train=train[['L','W']]"
   ]
  },
  {
   "cell_type": "code",
   "execution_count": 7,
   "id": "0a478f6f",
   "metadata": {},
   "outputs": [],
   "source": [
    "x_test=test.drop(['GF','GA','L','W'],axis=1)\n",
    "y_test=test[['L','W']]"
   ]
  },
  {
   "cell_type": "code",
   "execution_count": 16,
   "id": "52be9b25",
   "metadata": {},
   "outputs": [],
   "source": [
    "y_train_scoring=train[['GF','GA']]\n",
    "y_test_scoring=test[['GF','GA']]"
   ]
  },
  {
   "cell_type": "markdown",
   "id": "bb9452be",
   "metadata": {},
   "source": [
    "Predicting match results"
   ]
  },
  {
   "cell_type": "code",
   "execution_count": 21,
   "id": "5f6e4fce",
   "metadata": {},
   "outputs": [],
   "source": [
    "norwich_input=[[2.033333333,0.9333333333,58,4411,7.051666667,6.963333333,7.070416667,7.343333333,0,0,0,0,0,0,0,0,0,0,0,0,1,0,0,0,0,0,0]]"
   ]
  },
  {
   "cell_type": "code",
   "execution_count": 22,
   "id": "67156876",
   "metadata": {},
   "outputs": [
    {
     "data": {
      "text/plain": [
       "array([[0, 1]], dtype=uint8)"
      ]
     },
     "execution_count": 22,
     "metadata": {},
     "output_type": "execute_result"
    }
   ],
   "source": [
    "model = LogisticRegression(C=100)\n",
    "lr=MultiOutputClassifier(model)\n",
    "lr.fit(x_train,y_train)\n",
    "lr.predict(norwich_input)"
   ]
  },
  {
   "cell_type": "markdown",
   "id": "c5d7679a",
   "metadata": {},
   "source": [
    "Predicting match scoring"
   ]
  },
  {
   "cell_type": "code",
   "execution_count": 20,
   "id": "03dfeb81",
   "metadata": {},
   "outputs": [
    {
     "data": {
      "text/plain": [
       "array([[1., 0.]])"
      ]
     },
     "execution_count": 20,
     "metadata": {},
     "output_type": "execute_result"
    }
   ],
   "source": [
    "model = LogisticRegression(C=100)\n",
    "lr=MultiOutputClassifier(model)\n",
    "lr.fit(x_train,y_train_scoring)\n",
    "lr.predict(norwich_input)"
   ]
  },
  {
   "cell_type": "markdown",
   "id": "e15b0c7e",
   "metadata": {},
   "source": [
    "###    The model predicts Arsenal will win against Norwich with a score of 1-0."
   ]
  }
 ],
 "metadata": {
  "kernelspec": {
   "display_name": "Python 3 (ipykernel)",
   "language": "python",
   "name": "python3"
  },
  "language_info": {
   "codemirror_mode": {
    "name": "ipython",
    "version": 3
   },
   "file_extension": ".py",
   "mimetype": "text/x-python",
   "name": "python",
   "nbconvert_exporter": "python",
   "pygments_lexer": "ipython3",
   "version": "3.7.8"
  }
 },
 "nbformat": 4,
 "nbformat_minor": 5
}
