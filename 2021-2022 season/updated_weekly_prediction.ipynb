{
 "cells": [
  {
   "cell_type": "code",
   "execution_count": 1,
   "id": "6f029b26",
   "metadata": {},
   "outputs": [],
   "source": [
    "import pandas as pd\n",
    "\n",
    "from sklearn.linear_model import LogisticRegression\n",
    "from sklearn.neighbors import KNeighborsClassifier\n",
    "from sklearn.svm import SVC\n",
    "from sklearn.ensemble import RandomForestClassifier\n",
    "from sklearn.naive_bayes import MultinomialNB\n",
    "from sklearn.ensemble import GradientBoostingClassifier\n",
    "from sklearn.ensemble import AdaBoostClassifier\n",
    "#from xgboost import XGBClassifier\n",
    "from sklearn.preprocessing import StandardScaler\n",
    "from sklearn.multioutput import MultiOutputClassifier\n",
    "\n",
    "\n",
    "from sklearn.metrics import accuracy_score,confusion_matrix,classification_report,plot_confusion_matrix,roc_auc_score\n",
    "from sklearn.model_selection import cross_val_score\n",
    "\n",
    "from sklearn.model_selection import GridSearchCV\n",
    "\n",
    "\n",
    "import warnings\n",
    "warnings.filterwarnings('ignore')"
   ]
  },
  {
   "cell_type": "markdown",
   "id": "9311924b",
   "metadata": {},
   "source": [
    "# Column descriptions:"
   ]
  },
  {
   "cell_type": "markdown",
   "id": "4fe8eabe",
   "metadata": {},
   "source": [
    "# Prediction vs Norwich (23/12/2021)"
   ]
  },
  {
   "cell_type": "code",
   "execution_count": 2,
   "id": "7b9a98ab",
   "metadata": {},
   "outputs": [],
   "source": [
    "df=pd.read_csv('Arsenal season 2021_2022 - Sheet1 (2).csv')\n",
    "drop=['pred_poss','Day','Date','Round','Prediction','GF_prediction', 'GA_prediction','Predicted_formation','pred_gk_Ratings','pred_def_ratings', 'pred_mid_ratings', 'pred_forw_ratings','Opponent','Venue','Result']\n",
    "\n",
    "\n",
    "opponent=pd.get_dummies(df['Opponent'],drop_first=True)\n",
    "venue=pd.get_dummies(df['Venue'],drop_first=True)\n",
    "result=pd.get_dummies(df['Result'],drop_first=True)\n",
    "\n",
    "df=pd.concat([df,opponent,venue,result],axis=1)\n",
    "df=df.iloc[:18]\n",
    "\n",
    "df=df.drop(drop,axis=1)\n",
    "\n",
    "df['Formation'].replace('3-4-2003','3-4-3',inplace=True)\n",
    "df['Formation']=df['Formation'].apply(lambda x:int(x.replace('-','')))"
   ]
  },
  {
   "cell_type": "code",
   "execution_count": 5,
   "id": "4334e7d8",
   "metadata": {},
   "outputs": [],
   "source": [
    "train=df.iloc[:14]\n",
    "test=df.iloc[14:]"
   ]
  },
  {
   "cell_type": "code",
   "execution_count": 6,
   "id": "2015707f",
   "metadata": {},
   "outputs": [],
   "source": [
    "x_train=train.drop(['GF','GA','L','W'],axis=1)\n",
    "y_train=train[['L','W']]"
   ]
  },
  {
   "cell_type": "code",
   "execution_count": 7,
   "id": "91703d2f",
   "metadata": {},
   "outputs": [],
   "source": [
    "x_test=test.drop(['GF','GA','L','W'],axis=1)\n",
    "y_test=test[['L','W']]"
   ]
  },
  {
   "cell_type": "code",
   "execution_count": 16,
   "id": "0386aa04",
   "metadata": {},
   "outputs": [],
   "source": [
    "y_train_scoring=train[['GF','GA']]\n",
    "y_test_scoring=test[['GF','GA']]"
   ]
  },
  {
   "cell_type": "markdown",
   "id": "01180db8",
   "metadata": {},
   "source": [
    "    These are the inputs that are supposed to be given to the model. Each value of norwich_input represent the respective value"
   ]
  },
  {
   "cell_type": "code",
   "execution_count": 24,
   "id": "d47ca971",
   "metadata": {},
   "outputs": [
    {
     "data": {
      "text/plain": [
       "Index(['xG', 'xGA', 'Poss', 'Formation', 'act_gk_ratings', 'act_def_ratings',\n",
       "       'act_mid_ratings', 'act_forw_ratings', 'Brentford', 'Brighton',\n",
       "       'Burnley', 'Chelsea', 'Crystal Palace', 'Everton', 'Leeds United',\n",
       "       'Leicester City', 'Liverpool', 'Manchester City', 'Manchester Utd',\n",
       "       'Newcastle Utd', 'Norwich City', 'Southampton', 'Tottenham', 'Watford',\n",
       "       'West Ham', 'Wolves', 'Home'],\n",
       "      dtype='object')"
      ]
     },
     "execution_count": 24,
     "metadata": {},
     "output_type": "execute_result"
    }
   ],
   "source": [
    "x_train.columns"
   ]
  },
  {
   "cell_type": "markdown",
   "id": "1c43ea5a",
   "metadata": {},
   "source": [
    "Predicting match results"
   ]
  },
  {
   "cell_type": "code",
   "execution_count": 21,
   "id": "9adb3885",
   "metadata": {},
   "outputs": [],
   "source": [
    "norwich_input=[[2.033333333,0.9333333333,58,4411,7.051666667,6.963333333,7.070416667,7.343333333,0,0,0,0,0,0,0,0,0,0,0,0,1,0,0,0,0,0,0]]"
   ]
  },
  {
   "cell_type": "code",
   "execution_count": 22,
   "id": "43f22f39",
   "metadata": {},
   "outputs": [
    {
     "data": {
      "text/plain": [
       "array([[0, 1]], dtype=uint8)"
      ]
     },
     "execution_count": 22,
     "metadata": {},
     "output_type": "execute_result"
    }
   ],
   "source": [
    "model = LogisticRegression(C=100)\n",
    "lr=MultiOutputClassifier(model)\n",
    "lr.fit(x_train,y_train)\n",
    "lr.predict(norwich_input)"
   ]
  },
  {
   "cell_type": "markdown",
   "id": "da30076f",
   "metadata": {},
   "source": [
    "Predicting match scoring"
   ]
  },
  {
   "cell_type": "code",
   "execution_count": 20,
   "id": "d62f839e",
   "metadata": {},
   "outputs": [
    {
     "data": {
      "text/plain": [
       "array([[1., 0.]])"
      ]
     },
     "execution_count": 20,
     "metadata": {},
     "output_type": "execute_result"
    }
   ],
   "source": [
    "model = LogisticRegression(C=100)\n",
    "lr=MultiOutputClassifier(model)\n",
    "lr.fit(x_train,y_train_scoring)\n",
    "lr.predict(norwich_input)"
   ]
  },
  {
   "cell_type": "markdown",
   "id": "87b0d21e",
   "metadata": {},
   "source": [
    "###    The model predicts Arsenal will win against Norwich with a score of 1-0."
   ]
  },
  {
   "cell_type": "markdown",
   "id": "04db9fc2",
   "metadata": {},
   "source": [
    "\n",
    "*******************************************************\n",
    "\n",
    "\n"
   ]
  },
  {
   "cell_type": "markdown",
   "id": "f7731f35",
   "metadata": {},
   "source": [
    "# Prediction vs Manchester City (1/1/2021)"
   ]
  },
  {
   "cell_type": "markdown",
   "id": "2daab8cb",
   "metadata": {},
   "source": [
    "    - Dropping all predicted data that were used since the model we will train is based on the actual data only.\n",
    "    \n",
    "    - Predicted data will only be used as an input for predicting the match results."
   ]
  },
  {
   "cell_type": "code",
   "execution_count": 51,
   "id": "c317208c",
   "metadata": {},
   "outputs": [],
   "source": [
    "df=pd.read_csv('Arsenal season 2021_2022 - Sheet1 (3).csv')\n",
    "drop=['result_prediction','predicted_poss','Day','Date','Round','GF_prediction', 'GA_prediction','Predicted_formation','pred_gk_Ratings','pred_def_ratings', 'pred_mid_ratings', 'pred_forw_ratings','Opponent','Venue','Result','GF_prediction','GA_prediction','predicted_xg','predicted_xga']\n",
    "\n",
    "\n",
    "opponent=pd.get_dummies(df['Opponent'],drop_first=True)\n",
    "venue=pd.get_dummies(df['Venue'],drop_first=True)\n",
    "result=pd.get_dummies(df['Result'],drop_first=True)\n",
    "\n",
    "df=pd.concat([df,opponent,venue,result],axis=1)\n",
    "#needs to be change every week since there will be new match data\n",
    "df=df.iloc[:19]\n",
    "\n",
    "df=df.drop(drop,axis=1)\n",
    "\n",
    "df['Formation'].replace('3-4-2003','3-4-3',inplace=True)\n",
    "df['Formation']=df['Formation'].apply(lambda x:int(x.replace('-','')))"
   ]
  },
  {
   "cell_type": "markdown",
   "id": "e540761e",
   "metadata": {},
   "source": [
    "##### To predict match results"
   ]
  },
  {
   "cell_type": "code",
   "execution_count": 94,
   "id": "45d53197",
   "metadata": {},
   "outputs": [],
   "source": [
    "x_train=df.drop(['GF','GA','L','W'],axis=1)\n",
    "y_train=df[['L','W']]"
   ]
  },
  {
   "cell_type": "markdown",
   "id": "0b7e3c1f",
   "metadata": {},
   "source": [
    "##### To predict score results"
   ]
  },
  {
   "cell_type": "code",
   "execution_count": 101,
   "id": "8e25ad6f",
   "metadata": {},
   "outputs": [],
   "source": [
    "y_train_scoring=df[['GF','GA']]"
   ]
  },
  {
   "cell_type": "markdown",
   "id": "07b05107",
   "metadata": {},
   "source": [
    "##### Making match result predictions"
   ]
  },
  {
   "cell_type": "code",
   "execution_count": 118,
   "id": "6fe65aba",
   "metadata": {},
   "outputs": [
    {
     "data": {
      "text/plain": [
       "Index(['xG', 'xGA', 'Poss', 'Formation', 'act_gk_ratings', 'act_def_ratings',\n",
       "       'act_mid_ratings', 'act_forw_ratings', 'Brentford', 'Brighton',\n",
       "       'Burnley', 'Chelsea', 'Crystal Palace', 'Everton', 'Leeds United',\n",
       "       'Leicester City', 'Liverpool', 'Manchester City', 'Manchester Utd',\n",
       "       'Newcastle Utd', 'Norwich City', 'Southampton', 'Tottenham', 'Watford',\n",
       "       'West Ham', 'Wolves', 'Home'],\n",
       "      dtype='object')"
      ]
     },
     "execution_count": 118,
     "metadata": {},
     "output_type": "execute_result"
    }
   ],
   "source": [
    "x_train.columns"
   ]
  },
  {
   "cell_type": "markdown",
   "id": "6f98bffb",
   "metadata": {},
   "source": [
    "> These are **predicted data** used as **inputs** for the model to predict(taken from excel)."
   ]
  },
  {
   "cell_type": "code",
   "execution_count": 81,
   "id": "9d8f70d4",
   "metadata": {},
   "outputs": [],
   "source": [
    "mc_input=[[2.116666667,0.9166666667,57.83333333,4411,7.011666667,6.892916667,7.219166667,7.566666667,0,0,0,0,0,0,0,0,0,1,0,0,0,0,0,0,0,0,1]]"
   ]
  },
  {
   "cell_type": "code",
   "execution_count": 106,
   "id": "99eb79c3",
   "metadata": {},
   "outputs": [
    {
     "name": "stdout",
     "output_type": "stream",
     "text": [
      "LOSE------WIN\n"
     ]
    },
    {
     "data": {
      "text/plain": [
       "array([[0, 1]], dtype=uint8)"
      ]
     },
     "execution_count": 106,
     "metadata": {},
     "output_type": "execute_result"
    }
   ],
   "source": [
    "model = LogisticRegression(C=100)\n",
    "lr=MultiOutputClassifier(model)\n",
    "lr.fit(x_train,y_train)\n",
    "#make prediction using input for this match\n",
    "\n",
    "print('LOSE------WIN')\n",
    "lr.predict(mc_input)\n",
    "#lr.predict(mc_input)"
   ]
  },
  {
   "cell_type": "markdown",
   "id": "b5123a1a",
   "metadata": {},
   "source": [
    "##### Predicting score results"
   ]
  },
  {
   "cell_type": "code",
   "execution_count": 107,
   "id": "a116f0fc",
   "metadata": {},
   "outputs": [
    {
     "name": "stdout",
     "output_type": "stream",
     "text": [
      "ARS----MC\n"
     ]
    },
    {
     "data": {
      "text/plain": [
       "array([[2., 0.]])"
      ]
     },
     "execution_count": 107,
     "metadata": {},
     "output_type": "execute_result"
    }
   ],
   "source": [
    "model = LogisticRegression(C=100)\n",
    "lr=MultiOutputClassifier(model)\n",
    "lr.fit(x_train,y_train_scoring)\n",
    "\n",
    "print('ARS----MC')\n",
    "lr.predict(mc_input)"
   ]
  },
  {
   "cell_type": "markdown",
   "id": "31a2cbfe",
   "metadata": {},
   "source": [
    "## The model predicts Arsenal will win against Manchester City with a score of 2-0."
   ]
  },
  {
   "cell_type": "markdown",
   "id": "18d492f9",
   "metadata": {},
   "source": [
    "********************************************"
   ]
  },
  {
   "cell_type": "markdown",
   "id": "e04182dd",
   "metadata": {},
   "source": [
    "# Prediction vs Burnley (23/1/2022)"
   ]
  },
  {
   "cell_type": "code",
   "execution_count": 72,
   "id": "55577d31",
   "metadata": {},
   "outputs": [],
   "source": [
    "df=pd.read_csv('Arsenal season 2021_2022 - Sheet1.csv')"
   ]
  },
  {
   "cell_type": "markdown",
   "id": "a131146d",
   "metadata": {},
   "source": [
    "Dropping the 2 match that was delayed"
   ]
  },
  {
   "cell_type": "code",
   "execution_count": 73,
   "id": "9a550bd2",
   "metadata": {},
   "outputs": [],
   "source": [
    "df.drop([19,21], axis=0, inplace=True)"
   ]
  },
  {
   "cell_type": "code",
   "execution_count": 74,
   "id": "b035e875",
   "metadata": {},
   "outputs": [],
   "source": [
    "#df=pd.read_csv('Arsenal season 2021_2022 - Sheet1.csv')\n",
    "drop=['result_prediction','predicted_poss','Day','Date','Round','GF_prediction', 'GA_prediction','Predicted_formation','pred_gk_Ratings','pred_def_ratings', 'pred_mid_ratings', 'pred_forw_ratings','Opponent','Venue','Result','GF_prediction','GA_prediction','predicted_xg','predicted_xga']\n",
    "\n",
    "\n",
    "opponent=pd.get_dummies(df['Opponent'],drop_first=True)\n",
    "venue=pd.get_dummies(df['Venue'],drop_first=True)\n",
    "result=pd.get_dummies(df['Result'],drop_first=True)\n",
    "\n",
    "df=pd.concat([df,opponent,venue,result],axis=1)\n",
    "#needs to be change every week since there will be new match data\n",
    "df=df.iloc[:20]\n",
    "\n",
    "\n",
    "\n",
    "df=df.drop(drop,axis=1)\n",
    "\n",
    "df['Formation'].replace('3-4-2003','3-4-3',inplace=True)\n",
    "df['Formation']=df['Formation'].apply(lambda x:int(x.replace('-','')))"
   ]
  },
  {
   "cell_type": "code",
   "execution_count": 83,
   "id": "203a28f6",
   "metadata": {},
   "outputs": [
    {
     "data": {
      "text/html": [
       "<div>\n",
       "<style scoped>\n",
       "    .dataframe tbody tr th:only-of-type {\n",
       "        vertical-align: middle;\n",
       "    }\n",
       "\n",
       "    .dataframe tbody tr th {\n",
       "        vertical-align: top;\n",
       "    }\n",
       "\n",
       "    .dataframe thead th {\n",
       "        text-align: right;\n",
       "    }\n",
       "</style>\n",
       "<table border=\"1\" class=\"dataframe\">\n",
       "  <thead>\n",
       "    <tr style=\"text-align: right;\">\n",
       "      <th></th>\n",
       "      <th>xG</th>\n",
       "      <th>xGA</th>\n",
       "      <th>Poss</th>\n",
       "      <th>Formation</th>\n",
       "      <th>act_gk_ratings</th>\n",
       "      <th>act_def_ratings</th>\n",
       "      <th>act_mid_ratings</th>\n",
       "      <th>act_forw_ratings</th>\n",
       "      <th>GF</th>\n",
       "      <th>GA</th>\n",
       "      <th>...</th>\n",
       "      <th>Newcastle Utd</th>\n",
       "      <th>Norwich City</th>\n",
       "      <th>Southampton</th>\n",
       "      <th>Tottenham</th>\n",
       "      <th>Watford</th>\n",
       "      <th>West Ham</th>\n",
       "      <th>Wolves</th>\n",
       "      <th>Home</th>\n",
       "      <th>L</th>\n",
       "      <th>W</th>\n",
       "    </tr>\n",
       "  </thead>\n",
       "  <tbody>\n",
       "    <tr>\n",
       "      <th>0</th>\n",
       "      <td>1.4</td>\n",
       "      <td>1.3</td>\n",
       "      <td>66.0</td>\n",
       "      <td>4231</td>\n",
       "      <td>5.78</td>\n",
       "      <td>6.330000</td>\n",
       "      <td>6.660000</td>\n",
       "      <td>5.956667</td>\n",
       "      <td>0.0</td>\n",
       "      <td>2.0</td>\n",
       "      <td>...</td>\n",
       "      <td>0</td>\n",
       "      <td>0</td>\n",
       "      <td>0</td>\n",
       "      <td>0</td>\n",
       "      <td>0</td>\n",
       "      <td>0</td>\n",
       "      <td>0</td>\n",
       "      <td>0</td>\n",
       "      <td>1</td>\n",
       "      <td>0</td>\n",
       "    </tr>\n",
       "    <tr>\n",
       "      <th>1</th>\n",
       "      <td>0.3</td>\n",
       "      <td>2.9</td>\n",
       "      <td>35.0</td>\n",
       "      <td>4231</td>\n",
       "      <td>6.74</td>\n",
       "      <td>6.175000</td>\n",
       "      <td>6.280000</td>\n",
       "      <td>6.243333</td>\n",
       "      <td>0.0</td>\n",
       "      <td>2.0</td>\n",
       "      <td>...</td>\n",
       "      <td>0</td>\n",
       "      <td>0</td>\n",
       "      <td>0</td>\n",
       "      <td>0</td>\n",
       "      <td>0</td>\n",
       "      <td>0</td>\n",
       "      <td>0</td>\n",
       "      <td>1</td>\n",
       "      <td>1</td>\n",
       "      <td>0</td>\n",
       "    </tr>\n",
       "    <tr>\n",
       "      <th>2</th>\n",
       "      <td>0.1</td>\n",
       "      <td>3.8</td>\n",
       "      <td>20.0</td>\n",
       "      <td>343</td>\n",
       "      <td>6.29</td>\n",
       "      <td>5.570000</td>\n",
       "      <td>5.630000</td>\n",
       "      <td>6.035000</td>\n",
       "      <td>0.0</td>\n",
       "      <td>5.0</td>\n",
       "      <td>...</td>\n",
       "      <td>0</td>\n",
       "      <td>0</td>\n",
       "      <td>0</td>\n",
       "      <td>0</td>\n",
       "      <td>0</td>\n",
       "      <td>0</td>\n",
       "      <td>0</td>\n",
       "      <td>0</td>\n",
       "      <td>1</td>\n",
       "      <td>0</td>\n",
       "    </tr>\n",
       "    <tr>\n",
       "      <th>3</th>\n",
       "      <td>2.8</td>\n",
       "      <td>0.6</td>\n",
       "      <td>52.0</td>\n",
       "      <td>4231</td>\n",
       "      <td>6.72</td>\n",
       "      <td>6.882000</td>\n",
       "      <td>6.804000</td>\n",
       "      <td>7.570000</td>\n",
       "      <td>1.0</td>\n",
       "      <td>0.0</td>\n",
       "      <td>...</td>\n",
       "      <td>0</td>\n",
       "      <td>1</td>\n",
       "      <td>0</td>\n",
       "      <td>0</td>\n",
       "      <td>0</td>\n",
       "      <td>0</td>\n",
       "      <td>0</td>\n",
       "      <td>1</td>\n",
       "      <td>0</td>\n",
       "      <td>1</td>\n",
       "    </tr>\n",
       "    <tr>\n",
       "      <th>4</th>\n",
       "      <td>1.2</td>\n",
       "      <td>1.3</td>\n",
       "      <td>54.0</td>\n",
       "      <td>4141</td>\n",
       "      <td>7.57</td>\n",
       "      <td>7.028000</td>\n",
       "      <td>6.566000</td>\n",
       "      <td>6.730000</td>\n",
       "      <td>1.0</td>\n",
       "      <td>0.0</td>\n",
       "      <td>...</td>\n",
       "      <td>0</td>\n",
       "      <td>0</td>\n",
       "      <td>0</td>\n",
       "      <td>0</td>\n",
       "      <td>0</td>\n",
       "      <td>0</td>\n",
       "      <td>0</td>\n",
       "      <td>0</td>\n",
       "      <td>0</td>\n",
       "      <td>1</td>\n",
       "    </tr>\n",
       "    <tr>\n",
       "      <th>5</th>\n",
       "      <td>0.8</td>\n",
       "      <td>1.0</td>\n",
       "      <td>46.0</td>\n",
       "      <td>4231</td>\n",
       "      <td>6.89</td>\n",
       "      <td>6.702000</td>\n",
       "      <td>7.168333</td>\n",
       "      <td>8.470000</td>\n",
       "      <td>3.0</td>\n",
       "      <td>1.0</td>\n",
       "      <td>...</td>\n",
       "      <td>0</td>\n",
       "      <td>0</td>\n",
       "      <td>0</td>\n",
       "      <td>1</td>\n",
       "      <td>0</td>\n",
       "      <td>0</td>\n",
       "      <td>0</td>\n",
       "      <td>1</td>\n",
       "      <td>0</td>\n",
       "      <td>1</td>\n",
       "    </tr>\n",
       "    <tr>\n",
       "      <th>6</th>\n",
       "      <td>0.5</td>\n",
       "      <td>1.4</td>\n",
       "      <td>41.0</td>\n",
       "      <td>4231</td>\n",
       "      <td>6.66</td>\n",
       "      <td>6.725000</td>\n",
       "      <td>6.678000</td>\n",
       "      <td>5.970000</td>\n",
       "      <td>0.0</td>\n",
       "      <td>0.0</td>\n",
       "      <td>...</td>\n",
       "      <td>0</td>\n",
       "      <td>0</td>\n",
       "      <td>0</td>\n",
       "      <td>0</td>\n",
       "      <td>0</td>\n",
       "      <td>0</td>\n",
       "      <td>0</td>\n",
       "      <td>0</td>\n",
       "      <td>0</td>\n",
       "      <td>0</td>\n",
       "    </tr>\n",
       "    <tr>\n",
       "      <th>7</th>\n",
       "      <td>1.4</td>\n",
       "      <td>0.9</td>\n",
       "      <td>55.0</td>\n",
       "      <td>4141</td>\n",
       "      <td>6.47</td>\n",
       "      <td>6.417500</td>\n",
       "      <td>5.990000</td>\n",
       "      <td>7.046667</td>\n",
       "      <td>2.0</td>\n",
       "      <td>2.0</td>\n",
       "      <td>...</td>\n",
       "      <td>0</td>\n",
       "      <td>0</td>\n",
       "      <td>0</td>\n",
       "      <td>0</td>\n",
       "      <td>0</td>\n",
       "      <td>0</td>\n",
       "      <td>0</td>\n",
       "      <td>1</td>\n",
       "      <td>0</td>\n",
       "      <td>0</td>\n",
       "    </tr>\n",
       "    <tr>\n",
       "      <th>8</th>\n",
       "      <td>2.7</td>\n",
       "      <td>1.4</td>\n",
       "      <td>54.0</td>\n",
       "      <td>4231</td>\n",
       "      <td>6.49</td>\n",
       "      <td>6.757500</td>\n",
       "      <td>7.344000</td>\n",
       "      <td>6.816667</td>\n",
       "      <td>3.0</td>\n",
       "      <td>1.0</td>\n",
       "      <td>...</td>\n",
       "      <td>0</td>\n",
       "      <td>0</td>\n",
       "      <td>0</td>\n",
       "      <td>0</td>\n",
       "      <td>0</td>\n",
       "      <td>0</td>\n",
       "      <td>0</td>\n",
       "      <td>1</td>\n",
       "      <td>0</td>\n",
       "      <td>1</td>\n",
       "    </tr>\n",
       "    <tr>\n",
       "      <th>9</th>\n",
       "      <td>0.9</td>\n",
       "      <td>1.2</td>\n",
       "      <td>36.0</td>\n",
       "      <td>4411</td>\n",
       "      <td>8.64</td>\n",
       "      <td>7.060000</td>\n",
       "      <td>7.232500</td>\n",
       "      <td>6.805000</td>\n",
       "      <td>2.0</td>\n",
       "      <td>0.0</td>\n",
       "      <td>...</td>\n",
       "      <td>0</td>\n",
       "      <td>0</td>\n",
       "      <td>0</td>\n",
       "      <td>0</td>\n",
       "      <td>0</td>\n",
       "      <td>0</td>\n",
       "      <td>0</td>\n",
       "      <td>0</td>\n",
       "      <td>0</td>\n",
       "      <td>1</td>\n",
       "    </tr>\n",
       "    <tr>\n",
       "      <th>10</th>\n",
       "      <td>1.8</td>\n",
       "      <td>0.6</td>\n",
       "      <td>60.0</td>\n",
       "      <td>4411</td>\n",
       "      <td>6.33</td>\n",
       "      <td>7.467500</td>\n",
       "      <td>7.122000</td>\n",
       "      <td>6.406667</td>\n",
       "      <td>1.0</td>\n",
       "      <td>0.0</td>\n",
       "      <td>...</td>\n",
       "      <td>0</td>\n",
       "      <td>0</td>\n",
       "      <td>0</td>\n",
       "      <td>0</td>\n",
       "      <td>1</td>\n",
       "      <td>0</td>\n",
       "      <td>0</td>\n",
       "      <td>1</td>\n",
       "      <td>0</td>\n",
       "      <td>1</td>\n",
       "    </tr>\n",
       "    <tr>\n",
       "      <th>11</th>\n",
       "      <td>0.4</td>\n",
       "      <td>4.3</td>\n",
       "      <td>37.0</td>\n",
       "      <td>4411</td>\n",
       "      <td>6.68</td>\n",
       "      <td>5.860000</td>\n",
       "      <td>5.998333</td>\n",
       "      <td>6.285000</td>\n",
       "      <td>0.0</td>\n",
       "      <td>4.0</td>\n",
       "      <td>...</td>\n",
       "      <td>0</td>\n",
       "      <td>0</td>\n",
       "      <td>0</td>\n",
       "      <td>0</td>\n",
       "      <td>0</td>\n",
       "      <td>0</td>\n",
       "      <td>0</td>\n",
       "      <td>0</td>\n",
       "      <td>1</td>\n",
       "      <td>0</td>\n",
       "    </tr>\n",
       "    <tr>\n",
       "      <th>12</th>\n",
       "      <td>2.0</td>\n",
       "      <td>0.2</td>\n",
       "      <td>65.0</td>\n",
       "      <td>4411</td>\n",
       "      <td>7.72</td>\n",
       "      <td>7.675000</td>\n",
       "      <td>7.194000</td>\n",
       "      <td>6.623333</td>\n",
       "      <td>2.0</td>\n",
       "      <td>0.0</td>\n",
       "      <td>...</td>\n",
       "      <td>1</td>\n",
       "      <td>0</td>\n",
       "      <td>0</td>\n",
       "      <td>0</td>\n",
       "      <td>0</td>\n",
       "      <td>0</td>\n",
       "      <td>0</td>\n",
       "      <td>1</td>\n",
       "      <td>0</td>\n",
       "      <td>1</td>\n",
       "    </tr>\n",
       "    <tr>\n",
       "      <th>13</th>\n",
       "      <td>1.5</td>\n",
       "      <td>1.9</td>\n",
       "      <td>55.0</td>\n",
       "      <td>4411</td>\n",
       "      <td>6.76</td>\n",
       "      <td>6.542500</td>\n",
       "      <td>6.572500</td>\n",
       "      <td>6.630000</td>\n",
       "      <td>2.0</td>\n",
       "      <td>3.0</td>\n",
       "      <td>...</td>\n",
       "      <td>0</td>\n",
       "      <td>0</td>\n",
       "      <td>0</td>\n",
       "      <td>0</td>\n",
       "      <td>0</td>\n",
       "      <td>0</td>\n",
       "      <td>0</td>\n",
       "      <td>0</td>\n",
       "      <td>1</td>\n",
       "      <td>0</td>\n",
       "    </tr>\n",
       "    <tr>\n",
       "      <th>14</th>\n",
       "      <td>1.2</td>\n",
       "      <td>1.0</td>\n",
       "      <td>63.0</td>\n",
       "      <td>4231</td>\n",
       "      <td>6.24</td>\n",
       "      <td>6.654000</td>\n",
       "      <td>6.520000</td>\n",
       "      <td>6.255000</td>\n",
       "      <td>1.0</td>\n",
       "      <td>2.0</td>\n",
       "      <td>...</td>\n",
       "      <td>0</td>\n",
       "      <td>0</td>\n",
       "      <td>0</td>\n",
       "      <td>0</td>\n",
       "      <td>0</td>\n",
       "      <td>0</td>\n",
       "      <td>0</td>\n",
       "      <td>0</td>\n",
       "      <td>1</td>\n",
       "      <td>0</td>\n",
       "    </tr>\n",
       "    <tr>\n",
       "      <th>15</th>\n",
       "      <td>1.5</td>\n",
       "      <td>0.6</td>\n",
       "      <td>61.0</td>\n",
       "      <td>4411</td>\n",
       "      <td>8.46</td>\n",
       "      <td>7.082000</td>\n",
       "      <td>6.860000</td>\n",
       "      <td>8.000000</td>\n",
       "      <td>3.0</td>\n",
       "      <td>0.0</td>\n",
       "      <td>...</td>\n",
       "      <td>0</td>\n",
       "      <td>0</td>\n",
       "      <td>1</td>\n",
       "      <td>0</td>\n",
       "      <td>0</td>\n",
       "      <td>0</td>\n",
       "      <td>0</td>\n",
       "      <td>1</td>\n",
       "      <td>0</td>\n",
       "      <td>1</td>\n",
       "    </tr>\n",
       "    <tr>\n",
       "      <th>16</th>\n",
       "      <td>2.8</td>\n",
       "      <td>0.3</td>\n",
       "      <td>55.0</td>\n",
       "      <td>4411</td>\n",
       "      <td>6.85</td>\n",
       "      <td>7.022000</td>\n",
       "      <td>7.190000</td>\n",
       "      <td>7.386667</td>\n",
       "      <td>2.0</td>\n",
       "      <td>0.0</td>\n",
       "      <td>...</td>\n",
       "      <td>0</td>\n",
       "      <td>0</td>\n",
       "      <td>0</td>\n",
       "      <td>0</td>\n",
       "      <td>0</td>\n",
       "      <td>1</td>\n",
       "      <td>0</td>\n",
       "      <td>1</td>\n",
       "      <td>0</td>\n",
       "      <td>1</td>\n",
       "    </tr>\n",
       "    <tr>\n",
       "      <th>17</th>\n",
       "      <td>3.2</td>\n",
       "      <td>1.6</td>\n",
       "      <td>49.0</td>\n",
       "      <td>4411</td>\n",
       "      <td>6.28</td>\n",
       "      <td>6.371667</td>\n",
       "      <td>7.492500</td>\n",
       "      <td>8.390000</td>\n",
       "      <td>4.0</td>\n",
       "      <td>1.0</td>\n",
       "      <td>...</td>\n",
       "      <td>0</td>\n",
       "      <td>0</td>\n",
       "      <td>0</td>\n",
       "      <td>0</td>\n",
       "      <td>0</td>\n",
       "      <td>0</td>\n",
       "      <td>0</td>\n",
       "      <td>0</td>\n",
       "      <td>0</td>\n",
       "      <td>1</td>\n",
       "    </tr>\n",
       "    <tr>\n",
       "      <th>18</th>\n",
       "      <td>2.5</td>\n",
       "      <td>0.1</td>\n",
       "      <td>64.0</td>\n",
       "      <td>4231</td>\n",
       "      <td>7.48</td>\n",
       "      <td>7.747500</td>\n",
       "      <td>7.414286</td>\n",
       "      <td>7.516667</td>\n",
       "      <td>5.0</td>\n",
       "      <td>0.0</td>\n",
       "      <td>...</td>\n",
       "      <td>0</td>\n",
       "      <td>1</td>\n",
       "      <td>0</td>\n",
       "      <td>0</td>\n",
       "      <td>0</td>\n",
       "      <td>0</td>\n",
       "      <td>0</td>\n",
       "      <td>0</td>\n",
       "      <td>0</td>\n",
       "      <td>1</td>\n",
       "    </tr>\n",
       "    <tr>\n",
       "      <th>20</th>\n",
       "      <td>1.0</td>\n",
       "      <td>1.8</td>\n",
       "      <td>30.0</td>\n",
       "      <td>4231</td>\n",
       "      <td>5.59</td>\n",
       "      <td>6.078000</td>\n",
       "      <td>6.391429</td>\n",
       "      <td>6.700000</td>\n",
       "      <td>1.0</td>\n",
       "      <td>2.0</td>\n",
       "      <td>...</td>\n",
       "      <td>0</td>\n",
       "      <td>0</td>\n",
       "      <td>0</td>\n",
       "      <td>0</td>\n",
       "      <td>0</td>\n",
       "      <td>0</td>\n",
       "      <td>0</td>\n",
       "      <td>1</td>\n",
       "      <td>1</td>\n",
       "      <td>0</td>\n",
       "    </tr>\n",
       "  </tbody>\n",
       "</table>\n",
       "<p>20 rows × 31 columns</p>\n",
       "</div>"
      ],
      "text/plain": [
       "     xG  xGA  Poss  Formation  act_gk_ratings  act_def_ratings  \\\n",
       "0   1.4  1.3  66.0       4231            5.78         6.330000   \n",
       "1   0.3  2.9  35.0       4231            6.74         6.175000   \n",
       "2   0.1  3.8  20.0        343            6.29         5.570000   \n",
       "3   2.8  0.6  52.0       4231            6.72         6.882000   \n",
       "4   1.2  1.3  54.0       4141            7.57         7.028000   \n",
       "5   0.8  1.0  46.0       4231            6.89         6.702000   \n",
       "6   0.5  1.4  41.0       4231            6.66         6.725000   \n",
       "7   1.4  0.9  55.0       4141            6.47         6.417500   \n",
       "8   2.7  1.4  54.0       4231            6.49         6.757500   \n",
       "9   0.9  1.2  36.0       4411            8.64         7.060000   \n",
       "10  1.8  0.6  60.0       4411            6.33         7.467500   \n",
       "11  0.4  4.3  37.0       4411            6.68         5.860000   \n",
       "12  2.0  0.2  65.0       4411            7.72         7.675000   \n",
       "13  1.5  1.9  55.0       4411            6.76         6.542500   \n",
       "14  1.2  1.0  63.0       4231            6.24         6.654000   \n",
       "15  1.5  0.6  61.0       4411            8.46         7.082000   \n",
       "16  2.8  0.3  55.0       4411            6.85         7.022000   \n",
       "17  3.2  1.6  49.0       4411            6.28         6.371667   \n",
       "18  2.5  0.1  64.0       4231            7.48         7.747500   \n",
       "20  1.0  1.8  30.0       4231            5.59         6.078000   \n",
       "\n",
       "    act_mid_ratings  act_forw_ratings   GF   GA  ...  Newcastle Utd  \\\n",
       "0          6.660000          5.956667  0.0  2.0  ...              0   \n",
       "1          6.280000          6.243333  0.0  2.0  ...              0   \n",
       "2          5.630000          6.035000  0.0  5.0  ...              0   \n",
       "3          6.804000          7.570000  1.0  0.0  ...              0   \n",
       "4          6.566000          6.730000  1.0  0.0  ...              0   \n",
       "5          7.168333          8.470000  3.0  1.0  ...              0   \n",
       "6          6.678000          5.970000  0.0  0.0  ...              0   \n",
       "7          5.990000          7.046667  2.0  2.0  ...              0   \n",
       "8          7.344000          6.816667  3.0  1.0  ...              0   \n",
       "9          7.232500          6.805000  2.0  0.0  ...              0   \n",
       "10         7.122000          6.406667  1.0  0.0  ...              0   \n",
       "11         5.998333          6.285000  0.0  4.0  ...              0   \n",
       "12         7.194000          6.623333  2.0  0.0  ...              1   \n",
       "13         6.572500          6.630000  2.0  3.0  ...              0   \n",
       "14         6.520000          6.255000  1.0  2.0  ...              0   \n",
       "15         6.860000          8.000000  3.0  0.0  ...              0   \n",
       "16         7.190000          7.386667  2.0  0.0  ...              0   \n",
       "17         7.492500          8.390000  4.0  1.0  ...              0   \n",
       "18         7.414286          7.516667  5.0  0.0  ...              0   \n",
       "20         6.391429          6.700000  1.0  2.0  ...              0   \n",
       "\n",
       "    Norwich City  Southampton  Tottenham  Watford  West Ham  Wolves  Home  L  \\\n",
       "0              0            0          0        0         0       0     0  1   \n",
       "1              0            0          0        0         0       0     1  1   \n",
       "2              0            0          0        0         0       0     0  1   \n",
       "3              1            0          0        0         0       0     1  0   \n",
       "4              0            0          0        0         0       0     0  0   \n",
       "5              0            0          1        0         0       0     1  0   \n",
       "6              0            0          0        0         0       0     0  0   \n",
       "7              0            0          0        0         0       0     1  0   \n",
       "8              0            0          0        0         0       0     1  0   \n",
       "9              0            0          0        0         0       0     0  0   \n",
       "10             0            0          0        1         0       0     1  0   \n",
       "11             0            0          0        0         0       0     0  1   \n",
       "12             0            0          0        0         0       0     1  0   \n",
       "13             0            0          0        0         0       0     0  1   \n",
       "14             0            0          0        0         0       0     0  1   \n",
       "15             0            1          0        0         0       0     1  0   \n",
       "16             0            0          0        0         1       0     1  0   \n",
       "17             0            0          0        0         0       0     0  0   \n",
       "18             1            0          0        0         0       0     0  0   \n",
       "20             0            0          0        0         0       0     1  1   \n",
       "\n",
       "    W  \n",
       "0   0  \n",
       "1   0  \n",
       "2   0  \n",
       "3   1  \n",
       "4   1  \n",
       "5   1  \n",
       "6   0  \n",
       "7   0  \n",
       "8   1  \n",
       "9   1  \n",
       "10  1  \n",
       "11  0  \n",
       "12  1  \n",
       "13  0  \n",
       "14  0  \n",
       "15  1  \n",
       "16  1  \n",
       "17  1  \n",
       "18  1  \n",
       "20  0  \n",
       "\n",
       "[20 rows x 31 columns]"
      ]
     },
     "execution_count": 83,
     "metadata": {},
     "output_type": "execute_result"
    }
   ],
   "source": [
    "df"
   ]
  },
  {
   "cell_type": "code",
   "execution_count": 76,
   "id": "92115a95",
   "metadata": {},
   "outputs": [],
   "source": [
    "x_train=df.drop(['GF','GA','L','W'],axis=1)\n",
    "y_train=df[['L','W']]"
   ]
  },
  {
   "cell_type": "code",
   "execution_count": 77,
   "id": "057d5498",
   "metadata": {},
   "outputs": [],
   "source": [
    "y_train_scoring=df[['GF','GA']]"
   ]
  },
  {
   "cell_type": "code",
   "execution_count": 78,
   "id": "f54d8302",
   "metadata": {},
   "outputs": [
    {
     "data": {
      "text/plain": [
       "Index(['xG', 'xGA', 'Poss', 'Formation', 'act_gk_ratings', 'act_def_ratings',\n",
       "       'act_mid_ratings', 'act_forw_ratings', 'Brentford', 'Brighton',\n",
       "       'Burnley', 'Chelsea', 'Crystal Palace', 'Everton', 'Leeds United',\n",
       "       'Leicester City', 'Liverpool', 'Manchester City', 'Manchester Utd',\n",
       "       'Newcastle Utd', 'Norwich City', 'Southampton', 'Tottenham', 'Watford',\n",
       "       'West Ham', 'Wolves', 'Home'],\n",
       "      dtype='object')"
      ]
     },
     "execution_count": 78,
     "metadata": {},
     "output_type": "execute_result"
    }
   ],
   "source": [
    "x_train.columns"
   ]
  },
  {
   "cell_type": "code",
   "execution_count": 79,
   "id": "9d88d9ac",
   "metadata": {},
   "outputs": [],
   "source": [
    "burnley_input=[[2.375,0.95,49.5,4141,6.816666667,6.89625,7.15375,7.568333333,0,0,1,0,0,0,0,0,0,0,0,0,0,0,0,0,0,0,1]]"
   ]
  },
  {
   "cell_type": "markdown",
   "id": "b8c64552",
   "metadata": {},
   "source": [
    "#### Predicting match results"
   ]
  },
  {
   "cell_type": "code",
   "execution_count": 80,
   "id": "184b7cec",
   "metadata": {},
   "outputs": [
    {
     "name": "stdout",
     "output_type": "stream",
     "text": [
      "LOSE------WIN\n"
     ]
    },
    {
     "data": {
      "text/plain": [
       "array([[0, 1]], dtype=uint8)"
      ]
     },
     "execution_count": 80,
     "metadata": {},
     "output_type": "execute_result"
    }
   ],
   "source": [
    "model = LogisticRegression(C=100)\n",
    "lr=MultiOutputClassifier(model)\n",
    "lr.fit(x_train,y_train)\n",
    "#make prediction using input for this match\n",
    "\n",
    "print('LOSE------WIN')\n",
    "lr.predict(burnley_input)\n",
    "#lr.predict(mc_input)"
   ]
  },
  {
   "cell_type": "markdown",
   "id": "5800e7ac",
   "metadata": {},
   "source": [
    "#### Predicting score results"
   ]
  },
  {
   "cell_type": "code",
   "execution_count": 82,
   "id": "242c40bb",
   "metadata": {},
   "outputs": [
    {
     "name": "stdout",
     "output_type": "stream",
     "text": [
      "ARS----BURNLEY\n"
     ]
    },
    {
     "data": {
      "text/plain": [
       "array([[1., 0.]])"
      ]
     },
     "execution_count": 82,
     "metadata": {},
     "output_type": "execute_result"
    }
   ],
   "source": [
    "odel = LogisticRegression(C=100)\n",
    "lr=MultiOutputClassifier(model)\n",
    "lr.fit(x_train,y_train_scoring)\n",
    "\n",
    "print('ARS----BURNLEY')\n",
    "lr.predict(burnley_input)"
   ]
  },
  {
   "cell_type": "markdown",
   "id": "8bf9ae79",
   "metadata": {},
   "source": [
    "# The model predicts Arsenal will win against Burnley with a score of 1-0."
   ]
  },
  {
   "cell_type": "markdown",
   "id": "d663db08",
   "metadata": {},
   "source": [
    "***************"
   ]
  },
  {
   "cell_type": "markdown",
   "id": "1857a9b2",
   "metadata": {},
   "source": [
    "# Prediction vs Wolves (10/2/2022)"
   ]
  },
  {
   "cell_type": "code",
   "execution_count": 29,
   "id": "9301b7cc",
   "metadata": {},
   "outputs": [],
   "source": [
    "df=pd.read_csv('Arsenal season 2021_2022 - Sheet1.csv')"
   ]
  },
  {
   "cell_type": "code",
   "execution_count": 30,
   "id": "5a05a4ba",
   "metadata": {},
   "outputs": [],
   "source": [
    "#df=pd.read_csv('Arsenal season 2021_2022 - Sheet1.csv')\n",
    "drop=['result_prediction','predicted_poss','Day','Date','Round','GF_prediction', 'GA_prediction','Predicted_formation','pred_gk_Ratings','pred_def_ratings', 'pred_mid_ratings', 'pred_forw_ratings','Opponent','Venue','Result','GF_prediction','GA_prediction','predicted_xg','predicted_xga']\n",
    "\n",
    "\n",
    "opponent=pd.get_dummies(df['Opponent'],drop_first=True)\n",
    "venue=pd.get_dummies(df['Venue'],drop_first=True)\n",
    "result=pd.get_dummies(df['Result'],drop_first=True)\n",
    "\n",
    "df=pd.concat([df,opponent,venue,result],axis=1)\n",
    "#NEEDS TO BE CHANGE EVERY WEEK SINCE THERE WILL BE NEW MATCH DATA\n",
    "df=df.iloc[:21]\n",
    "\n",
    "\n",
    "\n",
    "df=df.drop(drop,axis=1)\n",
    "\n",
    "df['Formation'].replace('3-4-2003','3-4-3',inplace=True)\n",
    "#CANNOT INCLUDE THE UPCOMING MATCH PREDICTION SINCE IT IS NAN\n",
    "df['Formation']=df['Formation'].apply(lambda x:int(x.replace('-','')))"
   ]
  },
  {
   "cell_type": "code",
   "execution_count": 32,
   "id": "13e11f9c",
   "metadata": {},
   "outputs": [],
   "source": [
    "x_train=df.drop(['GF','GA','L','W'],axis=1)\n",
    "y_train=df[['L','W']]"
   ]
  },
  {
   "cell_type": "code",
   "execution_count": 33,
   "id": "f9d2e814",
   "metadata": {},
   "outputs": [],
   "source": [
    "y_train_scoring=df[['GF','GA']]"
   ]
  },
  {
   "cell_type": "markdown",
   "id": "6f5876f1",
   "metadata": {},
   "source": [
    "Input we need to pass in"
   ]
  },
  {
   "cell_type": "code",
   "execution_count": 34,
   "id": "97992ccd",
   "metadata": {},
   "outputs": [
    {
     "data": {
      "text/plain": [
       "Index(['xG', 'xGA', 'Poss', 'Formation', 'act_gk_ratings', 'act_def_ratings',\n",
       "       'act_mid_ratings', 'act_forw_ratings', 'Brentford', 'Brighton',\n",
       "       'Burnley', 'Chelsea', 'Crystal Palace', 'Everton', 'Leeds United',\n",
       "       'Leicester City', 'Liverpool', 'Manchester City', 'Manchester Utd',\n",
       "       'Newcastle Utd', 'Norwich City', 'Southampton', 'Tottenham', 'Watford',\n",
       "       'West Ham', 'Wolves', 'Home'],\n",
       "      dtype='object')"
      ]
     },
     "execution_count": 34,
     "metadata": {},
     "output_type": "execute_result"
    }
   ],
   "source": [
    "(x_train.columns)"
   ]
  },
  {
   "cell_type": "code",
   "execution_count": 38,
   "id": "6d9686ce",
   "metadata": {},
   "outputs": [],
   "source": [
    "wolves_input=[[2.0333,0.8,55.5,4231,6.951666667,6.645625,7.159583333,7.579166667,0,0,0,0,0,0,0,0,0,0,0,0,0,0,0,0,0,1,0]]"
   ]
  },
  {
   "cell_type": "markdown",
   "id": "154f9b32",
   "metadata": {},
   "source": [
    "#### Predicting match results"
   ]
  },
  {
   "cell_type": "code",
   "execution_count": 39,
   "id": "8a04a3e7",
   "metadata": {},
   "outputs": [
    {
     "name": "stdout",
     "output_type": "stream",
     "text": [
      "LOSE------WIN\n"
     ]
    },
    {
     "data": {
      "text/plain": [
       "array([[0, 1]], dtype=uint8)"
      ]
     },
     "execution_count": 39,
     "metadata": {},
     "output_type": "execute_result"
    }
   ],
   "source": [
    "model = LogisticRegression(C=100)\n",
    "lr=MultiOutputClassifier(model)\n",
    "lr.fit(x_train,y_train)\n",
    "#make prediction using input for this match\n",
    "\n",
    "print('LOSE------WIN')\n",
    "lr.predict(wolves_input)"
   ]
  },
  {
   "cell_type": "markdown",
   "id": "87dcd047",
   "metadata": {},
   "source": [
    "#### Predicting match scores"
   ]
  },
  {
   "cell_type": "code",
   "execution_count": 42,
   "id": "5527bba3",
   "metadata": {},
   "outputs": [
    {
     "name": "stdout",
     "output_type": "stream",
     "text": [
      "ARS----WOLVES\n"
     ]
    },
    {
     "data": {
      "text/plain": [
       "array([[2., 0.]])"
      ]
     },
     "execution_count": 42,
     "metadata": {},
     "output_type": "execute_result"
    }
   ],
   "source": [
    "model = LogisticRegression(C=100)\n",
    "lr=MultiOutputClassifier(model)\n",
    "lr.fit(x_train,y_train_scoring)\n",
    "\n",
    "print('ARS----WOLVES')\n",
    "lr.predict(wolves_input)"
   ]
  },
  {
   "cell_type": "markdown",
   "id": "2fad0967",
   "metadata": {},
   "source": [
    "# The model predicts Arsenal will win against Wolves with a the score of 2-0."
   ]
  },
  {
   "cell_type": "markdown",
   "id": "ca684570",
   "metadata": {},
   "source": [
    "************"
   ]
  },
  {
   "cell_type": "markdown",
   "id": "6683f12c",
   "metadata": {},
   "source": [
    "# Prediction vs Brentford (19/2/2021)"
   ]
  },
  {
   "cell_type": "code",
   "execution_count": 41,
   "id": "3dab10ee",
   "metadata": {},
   "outputs": [],
   "source": [
    "df=pd.read_csv('Arsenal season 2021_2022 - Sheet1.csv')"
   ]
  },
  {
   "cell_type": "code",
   "execution_count": 42,
   "id": "af2b43e9",
   "metadata": {},
   "outputs": [],
   "source": [
    "#df=pd.read_csv('Arsenal season 2021_2022 - Sheet1.csv')\n",
    "drop=['result_prediction','predicted_poss','Day','Date','Round','GF_prediction', 'GA_prediction','Predicted_formation','pred_gk_Ratings','pred_def_ratings', 'pred_mid_ratings', 'pred_forw_ratings','Opponent','Venue','Result','GF_prediction','GA_prediction','predicted_xg','predicted_xga']\n",
    "\n",
    "\n",
    "opponent=pd.get_dummies(df['Opponent'],drop_first=True)\n",
    "venue=pd.get_dummies(df['Venue'],drop_first=True)\n",
    "result=pd.get_dummies(df['Result'],drop_first=True)\n",
    "\n",
    "df=pd.concat([df,opponent,venue,result],axis=1)\n",
    "#NEEDS TO BE CHANGE EVERY WEEK SINCE THERE WILL BE NEW MATCH DATA\n",
    "df=df.iloc[:22]\n",
    "\n",
    "\n",
    "\n",
    "df=df.drop(drop,axis=1)\n",
    "\n",
    "df['Formation'].replace('3-4-2003','3-4-3',inplace=True)\n",
    "#CANNOT INCLUDE THE UPCOMING MATCH PREDICTION SINCE IT IS NAN\n",
    "df['Formation']=df['Formation'].apply(lambda x:int(x.replace('-','')))"
   ]
  },
  {
   "cell_type": "code",
   "execution_count": 44,
   "id": "98415b58",
   "metadata": {},
   "outputs": [],
   "source": [
    "x_train=df.drop(['GF','GA','L','W'],axis=1)\n",
    "y_train=df[['L','W']]"
   ]
  },
  {
   "cell_type": "code",
   "execution_count": 45,
   "id": "b68e61a6",
   "metadata": {},
   "outputs": [],
   "source": [
    "y_train_scoring=df[['GF','GA']]"
   ]
  },
  {
   "cell_type": "markdown",
   "id": "98d4b102",
   "metadata": {},
   "source": [
    "Input that needs to be passed in"
   ]
  },
  {
   "cell_type": "code",
   "execution_count": 46,
   "id": "f7e9fb83",
   "metadata": {},
   "outputs": [
    {
     "data": {
      "text/plain": [
       "Index(['xG', 'xGA', 'Poss', 'Formation', 'act_gk_ratings', 'act_def_ratings',\n",
       "       'act_mid_ratings', 'act_forw_ratings', 'Brentford', 'Brighton',\n",
       "       'Burnley', 'Chelsea', 'Crystal Palace', 'Everton', 'Leeds United',\n",
       "       'Leicester City', 'Liverpool', 'Manchester City', 'Manchester Utd',\n",
       "       'Newcastle Utd', 'Norwich City', 'Southampton', 'Tottenham', 'Watford',\n",
       "       'West Ham', 'Wolves', 'Home'],\n",
       "      dtype='object')"
      ]
     },
     "execution_count": 46,
     "metadata": {},
     "output_type": "execute_result"
    }
   ],
   "source": [
    "x_train.columns"
   ]
  },
  {
   "cell_type": "code",
   "execution_count": 47,
   "id": "286e4955",
   "metadata": {},
   "outputs": [],
   "source": [
    "brentford_input=[[2.083333333,0.9666666667,52,4231,6.766666667,6.721916667,7.037333333,7.346666667,1,0,0,0,0,0,0,0,0,0,0,0,0,0,0,0,0,0,1]]"
   ]
  },
  {
   "cell_type": "markdown",
   "id": "50a3b199",
   "metadata": {},
   "source": [
    "#### Predicting match results"
   ]
  },
  {
   "cell_type": "code",
   "execution_count": 48,
   "id": "d38826d4",
   "metadata": {},
   "outputs": [
    {
     "name": "stdout",
     "output_type": "stream",
     "text": [
      "LOSE------WIN\n"
     ]
    },
    {
     "data": {
      "text/plain": [
       "array([[0, 1]], dtype=uint8)"
      ]
     },
     "execution_count": 48,
     "metadata": {},
     "output_type": "execute_result"
    }
   ],
   "source": [
    "model = LogisticRegression(C=100)\n",
    "lr=MultiOutputClassifier(model)\n",
    "lr.fit(x_train,y_train)\n",
    "#make prediction using input for this match\n",
    "\n",
    "print('LOSE------WIN')\n",
    "lr.predict(brentford_input)"
   ]
  },
  {
   "cell_type": "markdown",
   "id": "952e055f",
   "metadata": {},
   "source": [
    "#### Predicting match scores"
   ]
  },
  {
   "cell_type": "code",
   "execution_count": 49,
   "id": "c42faf51",
   "metadata": {},
   "outputs": [
    {
     "name": "stdout",
     "output_type": "stream",
     "text": [
      "ARS----WOLVES\n"
     ]
    },
    {
     "data": {
      "text/plain": [
       "array([[1., 0.]])"
      ]
     },
     "execution_count": 49,
     "metadata": {},
     "output_type": "execute_result"
    }
   ],
   "source": [
    "model = LogisticRegression(C=100)\n",
    "lr=MultiOutputClassifier(model)\n",
    "lr.fit(x_train,y_train_scoring)\n",
    "\n",
    "print('ARS----WOLVES')\n",
    "lr.predict(brentford_input)"
   ]
  },
  {
   "cell_type": "markdown",
   "id": "6b56c467",
   "metadata": {},
   "source": [
    "# The model predicts Arsenal will win against Wolves with a the score of 1-0."
   ]
  },
  {
   "cell_type": "markdown",
   "id": "fa970234",
   "metadata": {},
   "source": [
    "***"
   ]
  },
  {
   "cell_type": "markdown",
   "id": "040dc594",
   "metadata": {},
   "source": [
    "# Prediction vs Wolves (24/2/2022)"
   ]
  },
  {
   "cell_type": "code",
   "execution_count": 3,
   "id": "c027b4d6",
   "metadata": {},
   "outputs": [],
   "source": [
    "df=pd.read_csv('Arsenal season 2021_2022 - Sheet1.csv')"
   ]
  },
  {
   "cell_type": "code",
   "execution_count": 5,
   "id": "16139763",
   "metadata": {},
   "outputs": [],
   "source": [
    "#df=pd.read_csv('Arsenal season 2021_2022 - Sheet1.csv')\n",
    "drop=['result_prediction','predicted_poss','Day','Date','Round','GF_prediction', 'GA_prediction','Predicted_formation','pred_gk_Ratings','pred_def_ratings', 'pred_mid_ratings', 'pred_forw_ratings','Opponent','Venue','Result','GF_prediction','GA_prediction','predicted_xg','predicted_xga']\n",
    "\n",
    "\n",
    "opponent=pd.get_dummies(df['Opponent'],drop_first=True)\n",
    "venue=pd.get_dummies(df['Venue'],drop_first=True)\n",
    "result=pd.get_dummies(df['Result'],drop_first=True)\n",
    "\n",
    "df=pd.concat([df,opponent,venue,result],axis=1)\n",
    "#NEEDS TO BE CHANGE EVERY WEEK SINCE THERE WILL BE NEW MATCH DATA\n",
    "df=df.iloc[:23]\n",
    "\n",
    "\n",
    "\n",
    "df=df.drop(drop,axis=1)\n",
    "\n",
    "df['Formation'].replace('3-4-2003','3-4-3',inplace=True)\n",
    "#CANNOT INCLUDE THE UPCOMING MATCH PREDICTION SINCE IT IS NAN\n",
    "df['Formation']=df['Formation'].apply(lambda x:int(x.replace('-','')))"
   ]
  },
  {
   "cell_type": "code",
   "execution_count": 6,
   "id": "544d1143",
   "metadata": {},
   "outputs": [
    {
     "data": {
      "text/html": [
       "<div>\n",
       "<style scoped>\n",
       "    .dataframe tbody tr th:only-of-type {\n",
       "        vertical-align: middle;\n",
       "    }\n",
       "\n",
       "    .dataframe tbody tr th {\n",
       "        vertical-align: top;\n",
       "    }\n",
       "\n",
       "    .dataframe thead th {\n",
       "        text-align: right;\n",
       "    }\n",
       "</style>\n",
       "<table border=\"1\" class=\"dataframe\">\n",
       "  <thead>\n",
       "    <tr style=\"text-align: right;\">\n",
       "      <th></th>\n",
       "      <th>xG</th>\n",
       "      <th>xGA</th>\n",
       "      <th>Poss</th>\n",
       "      <th>Formation</th>\n",
       "      <th>act_gk_ratings</th>\n",
       "      <th>act_def_ratings</th>\n",
       "      <th>act_mid_ratings</th>\n",
       "      <th>act_forw_ratings</th>\n",
       "      <th>GF</th>\n",
       "      <th>GA</th>\n",
       "      <th>...</th>\n",
       "      <th>Newcastle Utd</th>\n",
       "      <th>Norwich City</th>\n",
       "      <th>Southampton</th>\n",
       "      <th>Tottenham</th>\n",
       "      <th>Watford</th>\n",
       "      <th>West Ham</th>\n",
       "      <th>Wolves</th>\n",
       "      <th>Home</th>\n",
       "      <th>L</th>\n",
       "      <th>W</th>\n",
       "    </tr>\n",
       "  </thead>\n",
       "  <tbody>\n",
       "    <tr>\n",
       "      <th>0</th>\n",
       "      <td>1.4</td>\n",
       "      <td>1.3</td>\n",
       "      <td>66.0</td>\n",
       "      <td>4231</td>\n",
       "      <td>5.78</td>\n",
       "      <td>6.330000</td>\n",
       "      <td>6.660000</td>\n",
       "      <td>5.956667</td>\n",
       "      <td>0.0</td>\n",
       "      <td>2.0</td>\n",
       "      <td>...</td>\n",
       "      <td>0</td>\n",
       "      <td>0</td>\n",
       "      <td>0</td>\n",
       "      <td>0</td>\n",
       "      <td>0</td>\n",
       "      <td>0</td>\n",
       "      <td>0</td>\n",
       "      <td>0</td>\n",
       "      <td>1</td>\n",
       "      <td>0</td>\n",
       "    </tr>\n",
       "    <tr>\n",
       "      <th>1</th>\n",
       "      <td>0.3</td>\n",
       "      <td>2.9</td>\n",
       "      <td>35.0</td>\n",
       "      <td>4231</td>\n",
       "      <td>6.74</td>\n",
       "      <td>6.175000</td>\n",
       "      <td>6.280000</td>\n",
       "      <td>6.243333</td>\n",
       "      <td>0.0</td>\n",
       "      <td>2.0</td>\n",
       "      <td>...</td>\n",
       "      <td>0</td>\n",
       "      <td>0</td>\n",
       "      <td>0</td>\n",
       "      <td>0</td>\n",
       "      <td>0</td>\n",
       "      <td>0</td>\n",
       "      <td>0</td>\n",
       "      <td>1</td>\n",
       "      <td>1</td>\n",
       "      <td>0</td>\n",
       "    </tr>\n",
       "    <tr>\n",
       "      <th>2</th>\n",
       "      <td>0.1</td>\n",
       "      <td>3.8</td>\n",
       "      <td>20.0</td>\n",
       "      <td>343</td>\n",
       "      <td>6.29</td>\n",
       "      <td>5.570000</td>\n",
       "      <td>5.630000</td>\n",
       "      <td>6.035000</td>\n",
       "      <td>0.0</td>\n",
       "      <td>5.0</td>\n",
       "      <td>...</td>\n",
       "      <td>0</td>\n",
       "      <td>0</td>\n",
       "      <td>0</td>\n",
       "      <td>0</td>\n",
       "      <td>0</td>\n",
       "      <td>0</td>\n",
       "      <td>0</td>\n",
       "      <td>0</td>\n",
       "      <td>1</td>\n",
       "      <td>0</td>\n",
       "    </tr>\n",
       "    <tr>\n",
       "      <th>3</th>\n",
       "      <td>2.8</td>\n",
       "      <td>0.6</td>\n",
       "      <td>52.0</td>\n",
       "      <td>4231</td>\n",
       "      <td>6.72</td>\n",
       "      <td>6.882000</td>\n",
       "      <td>6.804000</td>\n",
       "      <td>7.570000</td>\n",
       "      <td>1.0</td>\n",
       "      <td>0.0</td>\n",
       "      <td>...</td>\n",
       "      <td>0</td>\n",
       "      <td>1</td>\n",
       "      <td>0</td>\n",
       "      <td>0</td>\n",
       "      <td>0</td>\n",
       "      <td>0</td>\n",
       "      <td>0</td>\n",
       "      <td>1</td>\n",
       "      <td>0</td>\n",
       "      <td>1</td>\n",
       "    </tr>\n",
       "    <tr>\n",
       "      <th>4</th>\n",
       "      <td>1.2</td>\n",
       "      <td>1.3</td>\n",
       "      <td>54.0</td>\n",
       "      <td>4141</td>\n",
       "      <td>7.57</td>\n",
       "      <td>7.028000</td>\n",
       "      <td>6.566000</td>\n",
       "      <td>6.730000</td>\n",
       "      <td>1.0</td>\n",
       "      <td>0.0</td>\n",
       "      <td>...</td>\n",
       "      <td>0</td>\n",
       "      <td>0</td>\n",
       "      <td>0</td>\n",
       "      <td>0</td>\n",
       "      <td>0</td>\n",
       "      <td>0</td>\n",
       "      <td>0</td>\n",
       "      <td>0</td>\n",
       "      <td>0</td>\n",
       "      <td>1</td>\n",
       "    </tr>\n",
       "    <tr>\n",
       "      <th>5</th>\n",
       "      <td>0.8</td>\n",
       "      <td>1.0</td>\n",
       "      <td>46.0</td>\n",
       "      <td>4231</td>\n",
       "      <td>6.89</td>\n",
       "      <td>6.702000</td>\n",
       "      <td>7.168333</td>\n",
       "      <td>8.470000</td>\n",
       "      <td>3.0</td>\n",
       "      <td>1.0</td>\n",
       "      <td>...</td>\n",
       "      <td>0</td>\n",
       "      <td>0</td>\n",
       "      <td>0</td>\n",
       "      <td>1</td>\n",
       "      <td>0</td>\n",
       "      <td>0</td>\n",
       "      <td>0</td>\n",
       "      <td>1</td>\n",
       "      <td>0</td>\n",
       "      <td>1</td>\n",
       "    </tr>\n",
       "    <tr>\n",
       "      <th>6</th>\n",
       "      <td>0.5</td>\n",
       "      <td>1.4</td>\n",
       "      <td>41.0</td>\n",
       "      <td>4231</td>\n",
       "      <td>6.66</td>\n",
       "      <td>6.725000</td>\n",
       "      <td>6.678000</td>\n",
       "      <td>5.970000</td>\n",
       "      <td>0.0</td>\n",
       "      <td>0.0</td>\n",
       "      <td>...</td>\n",
       "      <td>0</td>\n",
       "      <td>0</td>\n",
       "      <td>0</td>\n",
       "      <td>0</td>\n",
       "      <td>0</td>\n",
       "      <td>0</td>\n",
       "      <td>0</td>\n",
       "      <td>0</td>\n",
       "      <td>0</td>\n",
       "      <td>0</td>\n",
       "    </tr>\n",
       "    <tr>\n",
       "      <th>7</th>\n",
       "      <td>1.4</td>\n",
       "      <td>0.9</td>\n",
       "      <td>55.0</td>\n",
       "      <td>4141</td>\n",
       "      <td>6.47</td>\n",
       "      <td>6.417500</td>\n",
       "      <td>5.990000</td>\n",
       "      <td>7.046667</td>\n",
       "      <td>2.0</td>\n",
       "      <td>2.0</td>\n",
       "      <td>...</td>\n",
       "      <td>0</td>\n",
       "      <td>0</td>\n",
       "      <td>0</td>\n",
       "      <td>0</td>\n",
       "      <td>0</td>\n",
       "      <td>0</td>\n",
       "      <td>0</td>\n",
       "      <td>1</td>\n",
       "      <td>0</td>\n",
       "      <td>0</td>\n",
       "    </tr>\n",
       "    <tr>\n",
       "      <th>8</th>\n",
       "      <td>2.7</td>\n",
       "      <td>1.4</td>\n",
       "      <td>54.0</td>\n",
       "      <td>4231</td>\n",
       "      <td>6.49</td>\n",
       "      <td>6.757500</td>\n",
       "      <td>7.344000</td>\n",
       "      <td>6.816667</td>\n",
       "      <td>3.0</td>\n",
       "      <td>1.0</td>\n",
       "      <td>...</td>\n",
       "      <td>0</td>\n",
       "      <td>0</td>\n",
       "      <td>0</td>\n",
       "      <td>0</td>\n",
       "      <td>0</td>\n",
       "      <td>0</td>\n",
       "      <td>0</td>\n",
       "      <td>1</td>\n",
       "      <td>0</td>\n",
       "      <td>1</td>\n",
       "    </tr>\n",
       "    <tr>\n",
       "      <th>9</th>\n",
       "      <td>0.9</td>\n",
       "      <td>1.2</td>\n",
       "      <td>36.0</td>\n",
       "      <td>4411</td>\n",
       "      <td>8.64</td>\n",
       "      <td>7.060000</td>\n",
       "      <td>7.232500</td>\n",
       "      <td>6.805000</td>\n",
       "      <td>2.0</td>\n",
       "      <td>0.0</td>\n",
       "      <td>...</td>\n",
       "      <td>0</td>\n",
       "      <td>0</td>\n",
       "      <td>0</td>\n",
       "      <td>0</td>\n",
       "      <td>0</td>\n",
       "      <td>0</td>\n",
       "      <td>0</td>\n",
       "      <td>0</td>\n",
       "      <td>0</td>\n",
       "      <td>1</td>\n",
       "    </tr>\n",
       "    <tr>\n",
       "      <th>10</th>\n",
       "      <td>1.8</td>\n",
       "      <td>0.6</td>\n",
       "      <td>60.0</td>\n",
       "      <td>4411</td>\n",
       "      <td>6.33</td>\n",
       "      <td>7.467500</td>\n",
       "      <td>7.122000</td>\n",
       "      <td>6.406667</td>\n",
       "      <td>1.0</td>\n",
       "      <td>0.0</td>\n",
       "      <td>...</td>\n",
       "      <td>0</td>\n",
       "      <td>0</td>\n",
       "      <td>0</td>\n",
       "      <td>0</td>\n",
       "      <td>1</td>\n",
       "      <td>0</td>\n",
       "      <td>0</td>\n",
       "      <td>1</td>\n",
       "      <td>0</td>\n",
       "      <td>1</td>\n",
       "    </tr>\n",
       "    <tr>\n",
       "      <th>11</th>\n",
       "      <td>0.4</td>\n",
       "      <td>4.3</td>\n",
       "      <td>37.0</td>\n",
       "      <td>4411</td>\n",
       "      <td>6.68</td>\n",
       "      <td>5.860000</td>\n",
       "      <td>5.998333</td>\n",
       "      <td>6.285000</td>\n",
       "      <td>0.0</td>\n",
       "      <td>4.0</td>\n",
       "      <td>...</td>\n",
       "      <td>0</td>\n",
       "      <td>0</td>\n",
       "      <td>0</td>\n",
       "      <td>0</td>\n",
       "      <td>0</td>\n",
       "      <td>0</td>\n",
       "      <td>0</td>\n",
       "      <td>0</td>\n",
       "      <td>1</td>\n",
       "      <td>0</td>\n",
       "    </tr>\n",
       "    <tr>\n",
       "      <th>12</th>\n",
       "      <td>2.0</td>\n",
       "      <td>0.2</td>\n",
       "      <td>65.0</td>\n",
       "      <td>4411</td>\n",
       "      <td>7.72</td>\n",
       "      <td>7.675000</td>\n",
       "      <td>7.194000</td>\n",
       "      <td>6.623333</td>\n",
       "      <td>2.0</td>\n",
       "      <td>0.0</td>\n",
       "      <td>...</td>\n",
       "      <td>1</td>\n",
       "      <td>0</td>\n",
       "      <td>0</td>\n",
       "      <td>0</td>\n",
       "      <td>0</td>\n",
       "      <td>0</td>\n",
       "      <td>0</td>\n",
       "      <td>1</td>\n",
       "      <td>0</td>\n",
       "      <td>1</td>\n",
       "    </tr>\n",
       "    <tr>\n",
       "      <th>13</th>\n",
       "      <td>1.5</td>\n",
       "      <td>1.9</td>\n",
       "      <td>55.0</td>\n",
       "      <td>4411</td>\n",
       "      <td>6.76</td>\n",
       "      <td>6.542500</td>\n",
       "      <td>6.572500</td>\n",
       "      <td>6.630000</td>\n",
       "      <td>2.0</td>\n",
       "      <td>3.0</td>\n",
       "      <td>...</td>\n",
       "      <td>0</td>\n",
       "      <td>0</td>\n",
       "      <td>0</td>\n",
       "      <td>0</td>\n",
       "      <td>0</td>\n",
       "      <td>0</td>\n",
       "      <td>0</td>\n",
       "      <td>0</td>\n",
       "      <td>1</td>\n",
       "      <td>0</td>\n",
       "    </tr>\n",
       "    <tr>\n",
       "      <th>14</th>\n",
       "      <td>1.2</td>\n",
       "      <td>1.0</td>\n",
       "      <td>63.0</td>\n",
       "      <td>4231</td>\n",
       "      <td>6.24</td>\n",
       "      <td>6.654000</td>\n",
       "      <td>6.520000</td>\n",
       "      <td>6.255000</td>\n",
       "      <td>1.0</td>\n",
       "      <td>2.0</td>\n",
       "      <td>...</td>\n",
       "      <td>0</td>\n",
       "      <td>0</td>\n",
       "      <td>0</td>\n",
       "      <td>0</td>\n",
       "      <td>0</td>\n",
       "      <td>0</td>\n",
       "      <td>0</td>\n",
       "      <td>0</td>\n",
       "      <td>1</td>\n",
       "      <td>0</td>\n",
       "    </tr>\n",
       "    <tr>\n",
       "      <th>15</th>\n",
       "      <td>1.5</td>\n",
       "      <td>0.6</td>\n",
       "      <td>61.0</td>\n",
       "      <td>4411</td>\n",
       "      <td>8.46</td>\n",
       "      <td>7.082000</td>\n",
       "      <td>6.860000</td>\n",
       "      <td>8.000000</td>\n",
       "      <td>3.0</td>\n",
       "      <td>0.0</td>\n",
       "      <td>...</td>\n",
       "      <td>0</td>\n",
       "      <td>0</td>\n",
       "      <td>1</td>\n",
       "      <td>0</td>\n",
       "      <td>0</td>\n",
       "      <td>0</td>\n",
       "      <td>0</td>\n",
       "      <td>1</td>\n",
       "      <td>0</td>\n",
       "      <td>1</td>\n",
       "    </tr>\n",
       "    <tr>\n",
       "      <th>16</th>\n",
       "      <td>2.8</td>\n",
       "      <td>0.3</td>\n",
       "      <td>55.0</td>\n",
       "      <td>4411</td>\n",
       "      <td>6.85</td>\n",
       "      <td>7.022000</td>\n",
       "      <td>7.190000</td>\n",
       "      <td>7.386667</td>\n",
       "      <td>2.0</td>\n",
       "      <td>0.0</td>\n",
       "      <td>...</td>\n",
       "      <td>0</td>\n",
       "      <td>0</td>\n",
       "      <td>0</td>\n",
       "      <td>0</td>\n",
       "      <td>0</td>\n",
       "      <td>1</td>\n",
       "      <td>0</td>\n",
       "      <td>1</td>\n",
       "      <td>0</td>\n",
       "      <td>1</td>\n",
       "    </tr>\n",
       "    <tr>\n",
       "      <th>17</th>\n",
       "      <td>3.2</td>\n",
       "      <td>1.6</td>\n",
       "      <td>49.0</td>\n",
       "      <td>4411</td>\n",
       "      <td>6.28</td>\n",
       "      <td>6.371667</td>\n",
       "      <td>7.492500</td>\n",
       "      <td>8.390000</td>\n",
       "      <td>4.0</td>\n",
       "      <td>1.0</td>\n",
       "      <td>...</td>\n",
       "      <td>0</td>\n",
       "      <td>0</td>\n",
       "      <td>0</td>\n",
       "      <td>0</td>\n",
       "      <td>0</td>\n",
       "      <td>0</td>\n",
       "      <td>0</td>\n",
       "      <td>0</td>\n",
       "      <td>0</td>\n",
       "      <td>1</td>\n",
       "    </tr>\n",
       "    <tr>\n",
       "      <th>18</th>\n",
       "      <td>2.5</td>\n",
       "      <td>0.1</td>\n",
       "      <td>64.0</td>\n",
       "      <td>4231</td>\n",
       "      <td>7.48</td>\n",
       "      <td>7.747500</td>\n",
       "      <td>7.414286</td>\n",
       "      <td>7.516667</td>\n",
       "      <td>5.0</td>\n",
       "      <td>0.0</td>\n",
       "      <td>...</td>\n",
       "      <td>0</td>\n",
       "      <td>1</td>\n",
       "      <td>0</td>\n",
       "      <td>0</td>\n",
       "      <td>0</td>\n",
       "      <td>0</td>\n",
       "      <td>0</td>\n",
       "      <td>0</td>\n",
       "      <td>0</td>\n",
       "      <td>1</td>\n",
       "    </tr>\n",
       "    <tr>\n",
       "      <th>19</th>\n",
       "      <td>1.0</td>\n",
       "      <td>1.8</td>\n",
       "      <td>30.0</td>\n",
       "      <td>4231</td>\n",
       "      <td>5.59</td>\n",
       "      <td>6.078000</td>\n",
       "      <td>6.391429</td>\n",
       "      <td>6.700000</td>\n",
       "      <td>1.0</td>\n",
       "      <td>2.0</td>\n",
       "      <td>...</td>\n",
       "      <td>0</td>\n",
       "      <td>0</td>\n",
       "      <td>0</td>\n",
       "      <td>0</td>\n",
       "      <td>0</td>\n",
       "      <td>0</td>\n",
       "      <td>0</td>\n",
       "      <td>1</td>\n",
       "      <td>1</td>\n",
       "      <td>0</td>\n",
       "    </tr>\n",
       "    <tr>\n",
       "      <th>20</th>\n",
       "      <td>1.2</td>\n",
       "      <td>0.4</td>\n",
       "      <td>74.0</td>\n",
       "      <td>4141</td>\n",
       "      <td>7.05</td>\n",
       "      <td>6.942500</td>\n",
       "      <td>6.856000</td>\n",
       "      <td>6.333333</td>\n",
       "      <td>0.0</td>\n",
       "      <td>0.0</td>\n",
       "      <td>...</td>\n",
       "      <td>0</td>\n",
       "      <td>0</td>\n",
       "      <td>0</td>\n",
       "      <td>0</td>\n",
       "      <td>0</td>\n",
       "      <td>0</td>\n",
       "      <td>0</td>\n",
       "      <td>1</td>\n",
       "      <td>0</td>\n",
       "      <td>0</td>\n",
       "    </tr>\n",
       "    <tr>\n",
       "      <th>21</th>\n",
       "      <td>1.8</td>\n",
       "      <td>1.0</td>\n",
       "      <td>40.0</td>\n",
       "      <td>4231</td>\n",
       "      <td>7.35</td>\n",
       "      <td>7.234000</td>\n",
       "      <td>6.381667</td>\n",
       "      <td>5.926667</td>\n",
       "      <td>1.0</td>\n",
       "      <td>0.0</td>\n",
       "      <td>...</td>\n",
       "      <td>0</td>\n",
       "      <td>0</td>\n",
       "      <td>0</td>\n",
       "      <td>0</td>\n",
       "      <td>0</td>\n",
       "      <td>0</td>\n",
       "      <td>1</td>\n",
       "      <td>0</td>\n",
       "      <td>0</td>\n",
       "      <td>1</td>\n",
       "    </tr>\n",
       "    <tr>\n",
       "      <th>22</th>\n",
       "      <td>2.0</td>\n",
       "      <td>0.6</td>\n",
       "      <td>67.0</td>\n",
       "      <td>4232</td>\n",
       "      <td>6.17</td>\n",
       "      <td>6.670000</td>\n",
       "      <td>7.432000</td>\n",
       "      <td>6.416667</td>\n",
       "      <td>2.0</td>\n",
       "      <td>1.0</td>\n",
       "      <td>...</td>\n",
       "      <td>0</td>\n",
       "      <td>0</td>\n",
       "      <td>0</td>\n",
       "      <td>0</td>\n",
       "      <td>0</td>\n",
       "      <td>0</td>\n",
       "      <td>0</td>\n",
       "      <td>1</td>\n",
       "      <td>0</td>\n",
       "      <td>1</td>\n",
       "    </tr>\n",
       "  </tbody>\n",
       "</table>\n",
       "<p>23 rows × 31 columns</p>\n",
       "</div>"
      ],
      "text/plain": [
       "     xG  xGA  Poss  Formation  act_gk_ratings  act_def_ratings  \\\n",
       "0   1.4  1.3  66.0       4231            5.78         6.330000   \n",
       "1   0.3  2.9  35.0       4231            6.74         6.175000   \n",
       "2   0.1  3.8  20.0        343            6.29         5.570000   \n",
       "3   2.8  0.6  52.0       4231            6.72         6.882000   \n",
       "4   1.2  1.3  54.0       4141            7.57         7.028000   \n",
       "5   0.8  1.0  46.0       4231            6.89         6.702000   \n",
       "6   0.5  1.4  41.0       4231            6.66         6.725000   \n",
       "7   1.4  0.9  55.0       4141            6.47         6.417500   \n",
       "8   2.7  1.4  54.0       4231            6.49         6.757500   \n",
       "9   0.9  1.2  36.0       4411            8.64         7.060000   \n",
       "10  1.8  0.6  60.0       4411            6.33         7.467500   \n",
       "11  0.4  4.3  37.0       4411            6.68         5.860000   \n",
       "12  2.0  0.2  65.0       4411            7.72         7.675000   \n",
       "13  1.5  1.9  55.0       4411            6.76         6.542500   \n",
       "14  1.2  1.0  63.0       4231            6.24         6.654000   \n",
       "15  1.5  0.6  61.0       4411            8.46         7.082000   \n",
       "16  2.8  0.3  55.0       4411            6.85         7.022000   \n",
       "17  3.2  1.6  49.0       4411            6.28         6.371667   \n",
       "18  2.5  0.1  64.0       4231            7.48         7.747500   \n",
       "19  1.0  1.8  30.0       4231            5.59         6.078000   \n",
       "20  1.2  0.4  74.0       4141            7.05         6.942500   \n",
       "21  1.8  1.0  40.0       4231            7.35         7.234000   \n",
       "22  2.0  0.6  67.0       4232            6.17         6.670000   \n",
       "\n",
       "    act_mid_ratings  act_forw_ratings   GF   GA  ...  Newcastle Utd  \\\n",
       "0          6.660000          5.956667  0.0  2.0  ...              0   \n",
       "1          6.280000          6.243333  0.0  2.0  ...              0   \n",
       "2          5.630000          6.035000  0.0  5.0  ...              0   \n",
       "3          6.804000          7.570000  1.0  0.0  ...              0   \n",
       "4          6.566000          6.730000  1.0  0.0  ...              0   \n",
       "5          7.168333          8.470000  3.0  1.0  ...              0   \n",
       "6          6.678000          5.970000  0.0  0.0  ...              0   \n",
       "7          5.990000          7.046667  2.0  2.0  ...              0   \n",
       "8          7.344000          6.816667  3.0  1.0  ...              0   \n",
       "9          7.232500          6.805000  2.0  0.0  ...              0   \n",
       "10         7.122000          6.406667  1.0  0.0  ...              0   \n",
       "11         5.998333          6.285000  0.0  4.0  ...              0   \n",
       "12         7.194000          6.623333  2.0  0.0  ...              1   \n",
       "13         6.572500          6.630000  2.0  3.0  ...              0   \n",
       "14         6.520000          6.255000  1.0  2.0  ...              0   \n",
       "15         6.860000          8.000000  3.0  0.0  ...              0   \n",
       "16         7.190000          7.386667  2.0  0.0  ...              0   \n",
       "17         7.492500          8.390000  4.0  1.0  ...              0   \n",
       "18         7.414286          7.516667  5.0  0.0  ...              0   \n",
       "19         6.391429          6.700000  1.0  2.0  ...              0   \n",
       "20         6.856000          6.333333  0.0  0.0  ...              0   \n",
       "21         6.381667          5.926667  1.0  0.0  ...              0   \n",
       "22         7.432000          6.416667  2.0  1.0  ...              0   \n",
       "\n",
       "    Norwich City  Southampton  Tottenham  Watford  West Ham  Wolves  Home  L  \\\n",
       "0              0            0          0        0         0       0     0  1   \n",
       "1              0            0          0        0         0       0     1  1   \n",
       "2              0            0          0        0         0       0     0  1   \n",
       "3              1            0          0        0         0       0     1  0   \n",
       "4              0            0          0        0         0       0     0  0   \n",
       "5              0            0          1        0         0       0     1  0   \n",
       "6              0            0          0        0         0       0     0  0   \n",
       "7              0            0          0        0         0       0     1  0   \n",
       "8              0            0          0        0         0       0     1  0   \n",
       "9              0            0          0        0         0       0     0  0   \n",
       "10             0            0          0        1         0       0     1  0   \n",
       "11             0            0          0        0         0       0     0  1   \n",
       "12             0            0          0        0         0       0     1  0   \n",
       "13             0            0          0        0         0       0     0  1   \n",
       "14             0            0          0        0         0       0     0  1   \n",
       "15             0            1          0        0         0       0     1  0   \n",
       "16             0            0          0        0         1       0     1  0   \n",
       "17             0            0          0        0         0       0     0  0   \n",
       "18             1            0          0        0         0       0     0  0   \n",
       "19             0            0          0        0         0       0     1  1   \n",
       "20             0            0          0        0         0       0     1  0   \n",
       "21             0            0          0        0         0       1     0  0   \n",
       "22             0            0          0        0         0       0     1  0   \n",
       "\n",
       "    W  \n",
       "0   0  \n",
       "1   0  \n",
       "2   0  \n",
       "3   1  \n",
       "4   1  \n",
       "5   1  \n",
       "6   0  \n",
       "7   0  \n",
       "8   1  \n",
       "9   1  \n",
       "10  1  \n",
       "11  0  \n",
       "12  1  \n",
       "13  0  \n",
       "14  0  \n",
       "15  1  \n",
       "16  1  \n",
       "17  1  \n",
       "18  1  \n",
       "19  0  \n",
       "20  0  \n",
       "21  1  \n",
       "22  1  \n",
       "\n",
       "[23 rows x 31 columns]"
      ]
     },
     "execution_count": 6,
     "metadata": {},
     "output_type": "execute_result"
    }
   ],
   "source": [
    "df"
   ]
  },
  {
   "cell_type": "code",
   "execution_count": 7,
   "id": "e507c720",
   "metadata": {},
   "outputs": [],
   "source": [
    "x_train=df.drop(['GF','GA','L','W'],axis=1)\n",
    "y_train=df[['L','W']]"
   ]
  },
  {
   "cell_type": "code",
   "execution_count": 8,
   "id": "4d272ea5",
   "metadata": {},
   "outputs": [],
   "source": [
    "y_train_scoring=df[['GF','GA']]"
   ]
  },
  {
   "cell_type": "code",
   "execution_count": 9,
   "id": "0e9fc504",
   "metadata": {},
   "outputs": [
    {
     "data": {
      "text/plain": [
       "Index(['xG', 'xGA', 'Poss', 'Formation', 'act_gk_ratings', 'act_def_ratings',\n",
       "       'act_mid_ratings', 'act_forw_ratings', 'Brentford', 'Brighton',\n",
       "       'Burnley', 'Chelsea', 'Crystal Palace', 'Everton', 'Leeds United',\n",
       "       'Leicester City', 'Liverpool', 'Manchester City', 'Manchester Utd',\n",
       "       'Newcastle Utd', 'Norwich City', 'Southampton', 'Tottenham', 'Watford',\n",
       "       'West Ham', 'Wolves', 'Home'],\n",
       "      dtype='object')"
      ]
     },
     "execution_count": 9,
     "metadata": {},
     "output_type": "execute_result"
    }
   ],
   "source": [
    "x_train.columns"
   ]
  },
  {
   "cell_type": "code",
   "execution_count": 10,
   "id": "ed6c4a39",
   "metadata": {},
   "outputs": [],
   "source": [
    "wolves_input=[[1.95,0.9666666667,54,4232,6.653333333,6.859166667,7.105666667,7.12,0,0,0,0,0,0,0,0,0,0,0,0,0,0,0,0,0,1,1]]"
   ]
  },
  {
   "cell_type": "markdown",
   "id": "6552fedf",
   "metadata": {},
   "source": [
    "##### Predicting match results"
   ]
  },
  {
   "cell_type": "code",
   "execution_count": 11,
   "id": "91fccdfe",
   "metadata": {},
   "outputs": [
    {
     "name": "stdout",
     "output_type": "stream",
     "text": [
      "LOSE------WIN\n"
     ]
    },
    {
     "data": {
      "text/plain": [
       "array([[0, 1]], dtype=uint8)"
      ]
     },
     "execution_count": 11,
     "metadata": {},
     "output_type": "execute_result"
    }
   ],
   "source": [
    "model = LogisticRegression(C=100)\n",
    "lr=MultiOutputClassifier(model)\n",
    "lr.fit(x_train,y_train)\n",
    "#make prediction using input for this match\n",
    "\n",
    "print('LOSE------WIN')\n",
    "lr.predict(wolves_input)"
   ]
  },
  {
   "cell_type": "markdown",
   "id": "2a0d80dd",
   "metadata": {},
   "source": [
    "##### Predicting match scores"
   ]
  },
  {
   "cell_type": "code",
   "execution_count": 12,
   "id": "676050d9",
   "metadata": {},
   "outputs": [
    {
     "name": "stdout",
     "output_type": "stream",
     "text": [
      "ARS----WOLVES\n"
     ]
    },
    {
     "data": {
      "text/plain": [
       "array([[1., 0.]])"
      ]
     },
     "execution_count": 12,
     "metadata": {},
     "output_type": "execute_result"
    }
   ],
   "source": [
    "model = LogisticRegression(C=100)\n",
    "lr=MultiOutputClassifier(model)\n",
    "lr.fit(x_train,y_train_scoring)\n",
    "\n",
    "print('ARS----WOLVES')\n",
    "lr.predict(wolves_input)"
   ]
  },
  {
   "cell_type": "markdown",
   "id": "9cebc9bd",
   "metadata": {},
   "source": [
    "# The model predicts Arsenal will win against Wolves with a the score of 1-0"
   ]
  },
  {
   "cell_type": "markdown",
   "id": "afff689c",
   "metadata": {},
   "source": [
    "****"
   ]
  },
  {
   "cell_type": "markdown",
   "id": "4198435f",
   "metadata": {},
   "source": [
    "# Prediction vs Watford (6/3/2022)"
   ]
  },
  {
   "cell_type": "code",
   "execution_count": 3,
   "id": "6dd96afa",
   "metadata": {},
   "outputs": [],
   "source": [
    "df=pd.read_csv('Arsenal season 2021_2022 - Sheet1.csv')"
   ]
  },
  {
   "cell_type": "code",
   "execution_count": 4,
   "id": "0b837da0",
   "metadata": {},
   "outputs": [],
   "source": [
    "#df=pd.read_csv('Arsenal season 2021_2022 - Sheet1.csv')\n",
    "drop=['result_prediction','predicted_poss','Day','Date','Round','GF_prediction', 'GA_prediction','Predicted_formation','pred_gk_Ratings','pred_def_ratings', 'pred_mid_ratings', 'pred_forw_ratings','Opponent','Venue','Result','GF_prediction','GA_prediction','predicted_xg','predicted_xga']\n",
    "\n",
    "\n",
    "opponent=pd.get_dummies(df['Opponent'],drop_first=True)\n",
    "venue=pd.get_dummies(df['Venue'],drop_first=True)\n",
    "result=pd.get_dummies(df['Result'],drop_first=True)\n",
    "\n",
    "df=pd.concat([df,opponent,venue,result],axis=1)\n",
    "#NEEDS TO BE CHANGE EVERY WEEK SINCE THERE WILL BE NEW MATCH DATA\n",
    "df=df.iloc[:24]\n",
    "\n",
    "\n",
    "\n",
    "df=df.drop(drop,axis=1)\n",
    "\n",
    "df['Formation'].replace('3-4-2003','3-4-3',inplace=True)\n",
    "#CANNOT INCLUDE THE UPCOMING MATCH PREDICTION SINCE IT IS NAN\n",
    "df['Formation']=df['Formation'].apply(lambda x:int(x.replace('-','')))"
   ]
  },
  {
   "cell_type": "code",
   "execution_count": 5,
   "id": "acc4766e",
   "metadata": {},
   "outputs": [
    {
     "data": {
      "text/html": [
       "<div>\n",
       "<style scoped>\n",
       "    .dataframe tbody tr th:only-of-type {\n",
       "        vertical-align: middle;\n",
       "    }\n",
       "\n",
       "    .dataframe tbody tr th {\n",
       "        vertical-align: top;\n",
       "    }\n",
       "\n",
       "    .dataframe thead th {\n",
       "        text-align: right;\n",
       "    }\n",
       "</style>\n",
       "<table border=\"1\" class=\"dataframe\">\n",
       "  <thead>\n",
       "    <tr style=\"text-align: right;\">\n",
       "      <th></th>\n",
       "      <th>xG</th>\n",
       "      <th>xGA</th>\n",
       "      <th>Poss</th>\n",
       "      <th>Formation</th>\n",
       "      <th>act_gk_ratings</th>\n",
       "      <th>act_def_ratings</th>\n",
       "      <th>act_mid_ratings</th>\n",
       "      <th>act_forw_ratings</th>\n",
       "      <th>GF</th>\n",
       "      <th>GA</th>\n",
       "      <th>...</th>\n",
       "      <th>Newcastle Utd</th>\n",
       "      <th>Norwich City</th>\n",
       "      <th>Southampton</th>\n",
       "      <th>Tottenham</th>\n",
       "      <th>Watford</th>\n",
       "      <th>West Ham</th>\n",
       "      <th>Wolves</th>\n",
       "      <th>Home</th>\n",
       "      <th>L</th>\n",
       "      <th>W</th>\n",
       "    </tr>\n",
       "  </thead>\n",
       "  <tbody>\n",
       "    <tr>\n",
       "      <th>0</th>\n",
       "      <td>1.4</td>\n",
       "      <td>1.3</td>\n",
       "      <td>66.0</td>\n",
       "      <td>4231</td>\n",
       "      <td>5.78</td>\n",
       "      <td>6.330000</td>\n",
       "      <td>6.660000</td>\n",
       "      <td>5.956667</td>\n",
       "      <td>0.0</td>\n",
       "      <td>2.0</td>\n",
       "      <td>...</td>\n",
       "      <td>0</td>\n",
       "      <td>0</td>\n",
       "      <td>0</td>\n",
       "      <td>0</td>\n",
       "      <td>0</td>\n",
       "      <td>0</td>\n",
       "      <td>0</td>\n",
       "      <td>0</td>\n",
       "      <td>1</td>\n",
       "      <td>0</td>\n",
       "    </tr>\n",
       "    <tr>\n",
       "      <th>1</th>\n",
       "      <td>0.3</td>\n",
       "      <td>2.9</td>\n",
       "      <td>35.0</td>\n",
       "      <td>4231</td>\n",
       "      <td>6.74</td>\n",
       "      <td>6.175000</td>\n",
       "      <td>6.280000</td>\n",
       "      <td>6.243333</td>\n",
       "      <td>0.0</td>\n",
       "      <td>2.0</td>\n",
       "      <td>...</td>\n",
       "      <td>0</td>\n",
       "      <td>0</td>\n",
       "      <td>0</td>\n",
       "      <td>0</td>\n",
       "      <td>0</td>\n",
       "      <td>0</td>\n",
       "      <td>0</td>\n",
       "      <td>1</td>\n",
       "      <td>1</td>\n",
       "      <td>0</td>\n",
       "    </tr>\n",
       "    <tr>\n",
       "      <th>2</th>\n",
       "      <td>0.1</td>\n",
       "      <td>3.8</td>\n",
       "      <td>20.0</td>\n",
       "      <td>343</td>\n",
       "      <td>6.29</td>\n",
       "      <td>5.570000</td>\n",
       "      <td>5.630000</td>\n",
       "      <td>6.035000</td>\n",
       "      <td>0.0</td>\n",
       "      <td>5.0</td>\n",
       "      <td>...</td>\n",
       "      <td>0</td>\n",
       "      <td>0</td>\n",
       "      <td>0</td>\n",
       "      <td>0</td>\n",
       "      <td>0</td>\n",
       "      <td>0</td>\n",
       "      <td>0</td>\n",
       "      <td>0</td>\n",
       "      <td>1</td>\n",
       "      <td>0</td>\n",
       "    </tr>\n",
       "    <tr>\n",
       "      <th>3</th>\n",
       "      <td>2.8</td>\n",
       "      <td>0.6</td>\n",
       "      <td>52.0</td>\n",
       "      <td>4231</td>\n",
       "      <td>6.72</td>\n",
       "      <td>6.882000</td>\n",
       "      <td>6.804000</td>\n",
       "      <td>7.570000</td>\n",
       "      <td>1.0</td>\n",
       "      <td>0.0</td>\n",
       "      <td>...</td>\n",
       "      <td>0</td>\n",
       "      <td>1</td>\n",
       "      <td>0</td>\n",
       "      <td>0</td>\n",
       "      <td>0</td>\n",
       "      <td>0</td>\n",
       "      <td>0</td>\n",
       "      <td>1</td>\n",
       "      <td>0</td>\n",
       "      <td>1</td>\n",
       "    </tr>\n",
       "    <tr>\n",
       "      <th>4</th>\n",
       "      <td>1.2</td>\n",
       "      <td>1.3</td>\n",
       "      <td>54.0</td>\n",
       "      <td>4141</td>\n",
       "      <td>7.57</td>\n",
       "      <td>7.028000</td>\n",
       "      <td>6.566000</td>\n",
       "      <td>6.730000</td>\n",
       "      <td>1.0</td>\n",
       "      <td>0.0</td>\n",
       "      <td>...</td>\n",
       "      <td>0</td>\n",
       "      <td>0</td>\n",
       "      <td>0</td>\n",
       "      <td>0</td>\n",
       "      <td>0</td>\n",
       "      <td>0</td>\n",
       "      <td>0</td>\n",
       "      <td>0</td>\n",
       "      <td>0</td>\n",
       "      <td>1</td>\n",
       "    </tr>\n",
       "    <tr>\n",
       "      <th>5</th>\n",
       "      <td>0.8</td>\n",
       "      <td>1.0</td>\n",
       "      <td>46.0</td>\n",
       "      <td>4231</td>\n",
       "      <td>6.89</td>\n",
       "      <td>6.702000</td>\n",
       "      <td>7.168333</td>\n",
       "      <td>8.470000</td>\n",
       "      <td>3.0</td>\n",
       "      <td>1.0</td>\n",
       "      <td>...</td>\n",
       "      <td>0</td>\n",
       "      <td>0</td>\n",
       "      <td>0</td>\n",
       "      <td>1</td>\n",
       "      <td>0</td>\n",
       "      <td>0</td>\n",
       "      <td>0</td>\n",
       "      <td>1</td>\n",
       "      <td>0</td>\n",
       "      <td>1</td>\n",
       "    </tr>\n",
       "    <tr>\n",
       "      <th>6</th>\n",
       "      <td>0.5</td>\n",
       "      <td>1.4</td>\n",
       "      <td>41.0</td>\n",
       "      <td>4231</td>\n",
       "      <td>6.66</td>\n",
       "      <td>6.725000</td>\n",
       "      <td>6.678000</td>\n",
       "      <td>5.970000</td>\n",
       "      <td>0.0</td>\n",
       "      <td>0.0</td>\n",
       "      <td>...</td>\n",
       "      <td>0</td>\n",
       "      <td>0</td>\n",
       "      <td>0</td>\n",
       "      <td>0</td>\n",
       "      <td>0</td>\n",
       "      <td>0</td>\n",
       "      <td>0</td>\n",
       "      <td>0</td>\n",
       "      <td>0</td>\n",
       "      <td>0</td>\n",
       "    </tr>\n",
       "    <tr>\n",
       "      <th>7</th>\n",
       "      <td>1.4</td>\n",
       "      <td>0.9</td>\n",
       "      <td>55.0</td>\n",
       "      <td>4141</td>\n",
       "      <td>6.47</td>\n",
       "      <td>6.417500</td>\n",
       "      <td>5.990000</td>\n",
       "      <td>7.046667</td>\n",
       "      <td>2.0</td>\n",
       "      <td>2.0</td>\n",
       "      <td>...</td>\n",
       "      <td>0</td>\n",
       "      <td>0</td>\n",
       "      <td>0</td>\n",
       "      <td>0</td>\n",
       "      <td>0</td>\n",
       "      <td>0</td>\n",
       "      <td>0</td>\n",
       "      <td>1</td>\n",
       "      <td>0</td>\n",
       "      <td>0</td>\n",
       "    </tr>\n",
       "    <tr>\n",
       "      <th>8</th>\n",
       "      <td>2.7</td>\n",
       "      <td>1.4</td>\n",
       "      <td>54.0</td>\n",
       "      <td>4231</td>\n",
       "      <td>6.49</td>\n",
       "      <td>6.757500</td>\n",
       "      <td>7.344000</td>\n",
       "      <td>6.816667</td>\n",
       "      <td>3.0</td>\n",
       "      <td>1.0</td>\n",
       "      <td>...</td>\n",
       "      <td>0</td>\n",
       "      <td>0</td>\n",
       "      <td>0</td>\n",
       "      <td>0</td>\n",
       "      <td>0</td>\n",
       "      <td>0</td>\n",
       "      <td>0</td>\n",
       "      <td>1</td>\n",
       "      <td>0</td>\n",
       "      <td>1</td>\n",
       "    </tr>\n",
       "    <tr>\n",
       "      <th>9</th>\n",
       "      <td>0.9</td>\n",
       "      <td>1.2</td>\n",
       "      <td>36.0</td>\n",
       "      <td>4411</td>\n",
       "      <td>8.64</td>\n",
       "      <td>7.060000</td>\n",
       "      <td>7.232500</td>\n",
       "      <td>6.805000</td>\n",
       "      <td>2.0</td>\n",
       "      <td>0.0</td>\n",
       "      <td>...</td>\n",
       "      <td>0</td>\n",
       "      <td>0</td>\n",
       "      <td>0</td>\n",
       "      <td>0</td>\n",
       "      <td>0</td>\n",
       "      <td>0</td>\n",
       "      <td>0</td>\n",
       "      <td>0</td>\n",
       "      <td>0</td>\n",
       "      <td>1</td>\n",
       "    </tr>\n",
       "    <tr>\n",
       "      <th>10</th>\n",
       "      <td>1.8</td>\n",
       "      <td>0.6</td>\n",
       "      <td>60.0</td>\n",
       "      <td>4411</td>\n",
       "      <td>6.33</td>\n",
       "      <td>7.467500</td>\n",
       "      <td>7.122000</td>\n",
       "      <td>6.406667</td>\n",
       "      <td>1.0</td>\n",
       "      <td>0.0</td>\n",
       "      <td>...</td>\n",
       "      <td>0</td>\n",
       "      <td>0</td>\n",
       "      <td>0</td>\n",
       "      <td>0</td>\n",
       "      <td>1</td>\n",
       "      <td>0</td>\n",
       "      <td>0</td>\n",
       "      <td>1</td>\n",
       "      <td>0</td>\n",
       "      <td>1</td>\n",
       "    </tr>\n",
       "    <tr>\n",
       "      <th>11</th>\n",
       "      <td>0.4</td>\n",
       "      <td>4.3</td>\n",
       "      <td>37.0</td>\n",
       "      <td>4411</td>\n",
       "      <td>6.68</td>\n",
       "      <td>5.860000</td>\n",
       "      <td>5.998333</td>\n",
       "      <td>6.285000</td>\n",
       "      <td>0.0</td>\n",
       "      <td>4.0</td>\n",
       "      <td>...</td>\n",
       "      <td>0</td>\n",
       "      <td>0</td>\n",
       "      <td>0</td>\n",
       "      <td>0</td>\n",
       "      <td>0</td>\n",
       "      <td>0</td>\n",
       "      <td>0</td>\n",
       "      <td>0</td>\n",
       "      <td>1</td>\n",
       "      <td>0</td>\n",
       "    </tr>\n",
       "    <tr>\n",
       "      <th>12</th>\n",
       "      <td>2.0</td>\n",
       "      <td>0.2</td>\n",
       "      <td>65.0</td>\n",
       "      <td>4411</td>\n",
       "      <td>7.72</td>\n",
       "      <td>7.675000</td>\n",
       "      <td>7.194000</td>\n",
       "      <td>6.623333</td>\n",
       "      <td>2.0</td>\n",
       "      <td>0.0</td>\n",
       "      <td>...</td>\n",
       "      <td>1</td>\n",
       "      <td>0</td>\n",
       "      <td>0</td>\n",
       "      <td>0</td>\n",
       "      <td>0</td>\n",
       "      <td>0</td>\n",
       "      <td>0</td>\n",
       "      <td>1</td>\n",
       "      <td>0</td>\n",
       "      <td>1</td>\n",
       "    </tr>\n",
       "    <tr>\n",
       "      <th>13</th>\n",
       "      <td>1.5</td>\n",
       "      <td>1.9</td>\n",
       "      <td>55.0</td>\n",
       "      <td>4411</td>\n",
       "      <td>6.76</td>\n",
       "      <td>6.542500</td>\n",
       "      <td>6.572500</td>\n",
       "      <td>6.630000</td>\n",
       "      <td>2.0</td>\n",
       "      <td>3.0</td>\n",
       "      <td>...</td>\n",
       "      <td>0</td>\n",
       "      <td>0</td>\n",
       "      <td>0</td>\n",
       "      <td>0</td>\n",
       "      <td>0</td>\n",
       "      <td>0</td>\n",
       "      <td>0</td>\n",
       "      <td>0</td>\n",
       "      <td>1</td>\n",
       "      <td>0</td>\n",
       "    </tr>\n",
       "    <tr>\n",
       "      <th>14</th>\n",
       "      <td>1.2</td>\n",
       "      <td>1.0</td>\n",
       "      <td>63.0</td>\n",
       "      <td>4231</td>\n",
       "      <td>6.24</td>\n",
       "      <td>6.654000</td>\n",
       "      <td>6.520000</td>\n",
       "      <td>6.255000</td>\n",
       "      <td>1.0</td>\n",
       "      <td>2.0</td>\n",
       "      <td>...</td>\n",
       "      <td>0</td>\n",
       "      <td>0</td>\n",
       "      <td>0</td>\n",
       "      <td>0</td>\n",
       "      <td>0</td>\n",
       "      <td>0</td>\n",
       "      <td>0</td>\n",
       "      <td>0</td>\n",
       "      <td>1</td>\n",
       "      <td>0</td>\n",
       "    </tr>\n",
       "    <tr>\n",
       "      <th>15</th>\n",
       "      <td>1.5</td>\n",
       "      <td>0.6</td>\n",
       "      <td>61.0</td>\n",
       "      <td>4411</td>\n",
       "      <td>8.46</td>\n",
       "      <td>7.082000</td>\n",
       "      <td>6.860000</td>\n",
       "      <td>8.000000</td>\n",
       "      <td>3.0</td>\n",
       "      <td>0.0</td>\n",
       "      <td>...</td>\n",
       "      <td>0</td>\n",
       "      <td>0</td>\n",
       "      <td>1</td>\n",
       "      <td>0</td>\n",
       "      <td>0</td>\n",
       "      <td>0</td>\n",
       "      <td>0</td>\n",
       "      <td>1</td>\n",
       "      <td>0</td>\n",
       "      <td>1</td>\n",
       "    </tr>\n",
       "    <tr>\n",
       "      <th>16</th>\n",
       "      <td>2.8</td>\n",
       "      <td>0.3</td>\n",
       "      <td>55.0</td>\n",
       "      <td>4411</td>\n",
       "      <td>6.85</td>\n",
       "      <td>7.022000</td>\n",
       "      <td>7.190000</td>\n",
       "      <td>7.386667</td>\n",
       "      <td>2.0</td>\n",
       "      <td>0.0</td>\n",
       "      <td>...</td>\n",
       "      <td>0</td>\n",
       "      <td>0</td>\n",
       "      <td>0</td>\n",
       "      <td>0</td>\n",
       "      <td>0</td>\n",
       "      <td>1</td>\n",
       "      <td>0</td>\n",
       "      <td>1</td>\n",
       "      <td>0</td>\n",
       "      <td>1</td>\n",
       "    </tr>\n",
       "    <tr>\n",
       "      <th>17</th>\n",
       "      <td>3.2</td>\n",
       "      <td>1.6</td>\n",
       "      <td>49.0</td>\n",
       "      <td>4411</td>\n",
       "      <td>6.28</td>\n",
       "      <td>6.371667</td>\n",
       "      <td>7.492500</td>\n",
       "      <td>8.390000</td>\n",
       "      <td>4.0</td>\n",
       "      <td>1.0</td>\n",
       "      <td>...</td>\n",
       "      <td>0</td>\n",
       "      <td>0</td>\n",
       "      <td>0</td>\n",
       "      <td>0</td>\n",
       "      <td>0</td>\n",
       "      <td>0</td>\n",
       "      <td>0</td>\n",
       "      <td>0</td>\n",
       "      <td>0</td>\n",
       "      <td>1</td>\n",
       "    </tr>\n",
       "    <tr>\n",
       "      <th>18</th>\n",
       "      <td>2.5</td>\n",
       "      <td>0.1</td>\n",
       "      <td>64.0</td>\n",
       "      <td>4231</td>\n",
       "      <td>7.48</td>\n",
       "      <td>7.747500</td>\n",
       "      <td>7.414286</td>\n",
       "      <td>7.516667</td>\n",
       "      <td>5.0</td>\n",
       "      <td>0.0</td>\n",
       "      <td>...</td>\n",
       "      <td>0</td>\n",
       "      <td>1</td>\n",
       "      <td>0</td>\n",
       "      <td>0</td>\n",
       "      <td>0</td>\n",
       "      <td>0</td>\n",
       "      <td>0</td>\n",
       "      <td>0</td>\n",
       "      <td>0</td>\n",
       "      <td>1</td>\n",
       "    </tr>\n",
       "    <tr>\n",
       "      <th>19</th>\n",
       "      <td>1.0</td>\n",
       "      <td>1.8</td>\n",
       "      <td>30.0</td>\n",
       "      <td>4231</td>\n",
       "      <td>5.59</td>\n",
       "      <td>6.078000</td>\n",
       "      <td>6.391429</td>\n",
       "      <td>6.700000</td>\n",
       "      <td>1.0</td>\n",
       "      <td>2.0</td>\n",
       "      <td>...</td>\n",
       "      <td>0</td>\n",
       "      <td>0</td>\n",
       "      <td>0</td>\n",
       "      <td>0</td>\n",
       "      <td>0</td>\n",
       "      <td>0</td>\n",
       "      <td>0</td>\n",
       "      <td>1</td>\n",
       "      <td>1</td>\n",
       "      <td>0</td>\n",
       "    </tr>\n",
       "    <tr>\n",
       "      <th>20</th>\n",
       "      <td>1.2</td>\n",
       "      <td>0.4</td>\n",
       "      <td>74.0</td>\n",
       "      <td>4141</td>\n",
       "      <td>7.05</td>\n",
       "      <td>6.942500</td>\n",
       "      <td>6.856000</td>\n",
       "      <td>6.333333</td>\n",
       "      <td>0.0</td>\n",
       "      <td>0.0</td>\n",
       "      <td>...</td>\n",
       "      <td>0</td>\n",
       "      <td>0</td>\n",
       "      <td>0</td>\n",
       "      <td>0</td>\n",
       "      <td>0</td>\n",
       "      <td>0</td>\n",
       "      <td>0</td>\n",
       "      <td>1</td>\n",
       "      <td>0</td>\n",
       "      <td>0</td>\n",
       "    </tr>\n",
       "    <tr>\n",
       "      <th>21</th>\n",
       "      <td>1.8</td>\n",
       "      <td>1.0</td>\n",
       "      <td>40.0</td>\n",
       "      <td>4231</td>\n",
       "      <td>7.35</td>\n",
       "      <td>7.234000</td>\n",
       "      <td>6.381667</td>\n",
       "      <td>5.926667</td>\n",
       "      <td>1.0</td>\n",
       "      <td>0.0</td>\n",
       "      <td>...</td>\n",
       "      <td>0</td>\n",
       "      <td>0</td>\n",
       "      <td>0</td>\n",
       "      <td>0</td>\n",
       "      <td>0</td>\n",
       "      <td>0</td>\n",
       "      <td>1</td>\n",
       "      <td>0</td>\n",
       "      <td>0</td>\n",
       "      <td>1</td>\n",
       "    </tr>\n",
       "    <tr>\n",
       "      <th>22</th>\n",
       "      <td>2.0</td>\n",
       "      <td>0.6</td>\n",
       "      <td>67.0</td>\n",
       "      <td>4232</td>\n",
       "      <td>6.17</td>\n",
       "      <td>6.670000</td>\n",
       "      <td>7.432000</td>\n",
       "      <td>6.416667</td>\n",
       "      <td>2.0</td>\n",
       "      <td>1.0</td>\n",
       "      <td>...</td>\n",
       "      <td>0</td>\n",
       "      <td>0</td>\n",
       "      <td>0</td>\n",
       "      <td>0</td>\n",
       "      <td>0</td>\n",
       "      <td>0</td>\n",
       "      <td>0</td>\n",
       "      <td>1</td>\n",
       "      <td>0</td>\n",
       "      <td>1</td>\n",
       "    </tr>\n",
       "    <tr>\n",
       "      <th>23</th>\n",
       "      <td>2.7</td>\n",
       "      <td>1.0</td>\n",
       "      <td>55.0</td>\n",
       "      <td>4231</td>\n",
       "      <td>6.07</td>\n",
       "      <td>6.208000</td>\n",
       "      <td>7.155000</td>\n",
       "      <td>7.127500</td>\n",
       "      <td>2.0</td>\n",
       "      <td>1.0</td>\n",
       "      <td>...</td>\n",
       "      <td>0</td>\n",
       "      <td>0</td>\n",
       "      <td>0</td>\n",
       "      <td>0</td>\n",
       "      <td>0</td>\n",
       "      <td>0</td>\n",
       "      <td>1</td>\n",
       "      <td>1</td>\n",
       "      <td>0</td>\n",
       "      <td>1</td>\n",
       "    </tr>\n",
       "  </tbody>\n",
       "</table>\n",
       "<p>24 rows × 31 columns</p>\n",
       "</div>"
      ],
      "text/plain": [
       "     xG  xGA  Poss  Formation  act_gk_ratings  act_def_ratings  \\\n",
       "0   1.4  1.3  66.0       4231            5.78         6.330000   \n",
       "1   0.3  2.9  35.0       4231            6.74         6.175000   \n",
       "2   0.1  3.8  20.0        343            6.29         5.570000   \n",
       "3   2.8  0.6  52.0       4231            6.72         6.882000   \n",
       "4   1.2  1.3  54.0       4141            7.57         7.028000   \n",
       "5   0.8  1.0  46.0       4231            6.89         6.702000   \n",
       "6   0.5  1.4  41.0       4231            6.66         6.725000   \n",
       "7   1.4  0.9  55.0       4141            6.47         6.417500   \n",
       "8   2.7  1.4  54.0       4231            6.49         6.757500   \n",
       "9   0.9  1.2  36.0       4411            8.64         7.060000   \n",
       "10  1.8  0.6  60.0       4411            6.33         7.467500   \n",
       "11  0.4  4.3  37.0       4411            6.68         5.860000   \n",
       "12  2.0  0.2  65.0       4411            7.72         7.675000   \n",
       "13  1.5  1.9  55.0       4411            6.76         6.542500   \n",
       "14  1.2  1.0  63.0       4231            6.24         6.654000   \n",
       "15  1.5  0.6  61.0       4411            8.46         7.082000   \n",
       "16  2.8  0.3  55.0       4411            6.85         7.022000   \n",
       "17  3.2  1.6  49.0       4411            6.28         6.371667   \n",
       "18  2.5  0.1  64.0       4231            7.48         7.747500   \n",
       "19  1.0  1.8  30.0       4231            5.59         6.078000   \n",
       "20  1.2  0.4  74.0       4141            7.05         6.942500   \n",
       "21  1.8  1.0  40.0       4231            7.35         7.234000   \n",
       "22  2.0  0.6  67.0       4232            6.17         6.670000   \n",
       "23  2.7  1.0  55.0       4231            6.07         6.208000   \n",
       "\n",
       "    act_mid_ratings  act_forw_ratings   GF   GA  ...  Newcastle Utd  \\\n",
       "0          6.660000          5.956667  0.0  2.0  ...              0   \n",
       "1          6.280000          6.243333  0.0  2.0  ...              0   \n",
       "2          5.630000          6.035000  0.0  5.0  ...              0   \n",
       "3          6.804000          7.570000  1.0  0.0  ...              0   \n",
       "4          6.566000          6.730000  1.0  0.0  ...              0   \n",
       "5          7.168333          8.470000  3.0  1.0  ...              0   \n",
       "6          6.678000          5.970000  0.0  0.0  ...              0   \n",
       "7          5.990000          7.046667  2.0  2.0  ...              0   \n",
       "8          7.344000          6.816667  3.0  1.0  ...              0   \n",
       "9          7.232500          6.805000  2.0  0.0  ...              0   \n",
       "10         7.122000          6.406667  1.0  0.0  ...              0   \n",
       "11         5.998333          6.285000  0.0  4.0  ...              0   \n",
       "12         7.194000          6.623333  2.0  0.0  ...              1   \n",
       "13         6.572500          6.630000  2.0  3.0  ...              0   \n",
       "14         6.520000          6.255000  1.0  2.0  ...              0   \n",
       "15         6.860000          8.000000  3.0  0.0  ...              0   \n",
       "16         7.190000          7.386667  2.0  0.0  ...              0   \n",
       "17         7.492500          8.390000  4.0  1.0  ...              0   \n",
       "18         7.414286          7.516667  5.0  0.0  ...              0   \n",
       "19         6.391429          6.700000  1.0  2.0  ...              0   \n",
       "20         6.856000          6.333333  0.0  0.0  ...              0   \n",
       "21         6.381667          5.926667  1.0  0.0  ...              0   \n",
       "22         7.432000          6.416667  2.0  1.0  ...              0   \n",
       "23         7.155000          7.127500  2.0  1.0  ...              0   \n",
       "\n",
       "    Norwich City  Southampton  Tottenham  Watford  West Ham  Wolves  Home  L  \\\n",
       "0              0            0          0        0         0       0     0  1   \n",
       "1              0            0          0        0         0       0     1  1   \n",
       "2              0            0          0        0         0       0     0  1   \n",
       "3              1            0          0        0         0       0     1  0   \n",
       "4              0            0          0        0         0       0     0  0   \n",
       "5              0            0          1        0         0       0     1  0   \n",
       "6              0            0          0        0         0       0     0  0   \n",
       "7              0            0          0        0         0       0     1  0   \n",
       "8              0            0          0        0         0       0     1  0   \n",
       "9              0            0          0        0         0       0     0  0   \n",
       "10             0            0          0        1         0       0     1  0   \n",
       "11             0            0          0        0         0       0     0  1   \n",
       "12             0            0          0        0         0       0     1  0   \n",
       "13             0            0          0        0         0       0     0  1   \n",
       "14             0            0          0        0         0       0     0  1   \n",
       "15             0            1          0        0         0       0     1  0   \n",
       "16             0            0          0        0         1       0     1  0   \n",
       "17             0            0          0        0         0       0     0  0   \n",
       "18             1            0          0        0         0       0     0  0   \n",
       "19             0            0          0        0         0       0     1  1   \n",
       "20             0            0          0        0         0       0     1  0   \n",
       "21             0            0          0        0         0       1     0  0   \n",
       "22             0            0          0        0         0       0     1  0   \n",
       "23             0            0          0        0         0       1     1  0   \n",
       "\n",
       "    W  \n",
       "0   0  \n",
       "1   0  \n",
       "2   0  \n",
       "3   1  \n",
       "4   1  \n",
       "5   1  \n",
       "6   0  \n",
       "7   0  \n",
       "8   1  \n",
       "9   1  \n",
       "10  1  \n",
       "11  0  \n",
       "12  1  \n",
       "13  0  \n",
       "14  0  \n",
       "15  1  \n",
       "16  1  \n",
       "17  1  \n",
       "18  1  \n",
       "19  0  \n",
       "20  0  \n",
       "21  1  \n",
       "22  1  \n",
       "23  1  \n",
       "\n",
       "[24 rows x 31 columns]"
      ]
     },
     "execution_count": 5,
     "metadata": {},
     "output_type": "execute_result"
    }
   ],
   "source": [
    "df"
   ]
  },
  {
   "cell_type": "code",
   "execution_count": 6,
   "id": "81c7e79a",
   "metadata": {},
   "outputs": [],
   "source": [
    "x_train=df.drop(['GF','GA','L','W'],axis=1)\n",
    "y_train=df[['L','W']]"
   ]
  },
  {
   "cell_type": "code",
   "execution_count": 7,
   "id": "bbdc17c0",
   "metadata": {},
   "outputs": [],
   "source": [
    "y_train_scoring=df[['GF','GA']]"
   ]
  },
  {
   "cell_type": "code",
   "execution_count": 8,
   "id": "ccef57a4",
   "metadata": {},
   "outputs": [
    {
     "data": {
      "text/plain": [
       "Index(['xG', 'xGA', 'Poss', 'Formation', 'act_gk_ratings', 'act_def_ratings',\n",
       "       'act_mid_ratings', 'act_forw_ratings', 'Brentford', 'Brighton',\n",
       "       'Burnley', 'Chelsea', 'Crystal Palace', 'Everton', 'Leeds United',\n",
       "       'Leicester City', 'Liverpool', 'Manchester City', 'Manchester Utd',\n",
       "       'Newcastle Utd', 'Norwich City', 'Southampton', 'Tottenham', 'Watford',\n",
       "       'West Ham', 'Wolves', 'Home'],\n",
       "      dtype='object')"
      ]
     },
     "execution_count": 8,
     "metadata": {},
     "output_type": "execute_result"
    }
   ],
   "source": [
    "x_train.columns"
   ]
  },
  {
   "cell_type": "code",
   "execution_count": 9,
   "id": "af83ebe4",
   "metadata": {},
   "outputs": [],
   "source": [
    "watford_input=[[1.866666667,0.8166666667,55,4231,6.618333333,6.65,7.074666667,7.148333333,0,0,0,0,0,0,0,0,0,0,0,0,0,0,0,1,0,0,0]]"
   ]
  },
  {
   "cell_type": "markdown",
   "id": "5fa2052b",
   "metadata": {},
   "source": [
    "#### Predicting match results"
   ]
  },
  {
   "cell_type": "code",
   "execution_count": 10,
   "id": "e5d92570",
   "metadata": {},
   "outputs": [
    {
     "name": "stdout",
     "output_type": "stream",
     "text": [
      "LOSE------WIN\n"
     ]
    },
    {
     "data": {
      "text/plain": [
       "array([[0, 1]], dtype=uint8)"
      ]
     },
     "execution_count": 10,
     "metadata": {},
     "output_type": "execute_result"
    }
   ],
   "source": [
    "model = LogisticRegression(C=100)\n",
    "lr=MultiOutputClassifier(model)\n",
    "lr.fit(x_train,y_train)\n",
    "#make prediction using input for this match\n",
    "\n",
    "print('LOSE------WIN')\n",
    "lr.predict(watford_input)"
   ]
  },
  {
   "cell_type": "markdown",
   "id": "6e120c10",
   "metadata": {},
   "source": [
    "#### Predicting match scores"
   ]
  },
  {
   "cell_type": "code",
   "execution_count": 11,
   "id": "31b9258c",
   "metadata": {},
   "outputs": [
    {
     "name": "stdout",
     "output_type": "stream",
     "text": [
      "ARS----WOLVES\n"
     ]
    },
    {
     "data": {
      "text/plain": [
       "array([[2., 0.]])"
      ]
     },
     "execution_count": 11,
     "metadata": {},
     "output_type": "execute_result"
    }
   ],
   "source": [
    "model = LogisticRegression(C=100)\n",
    "lr=MultiOutputClassifier(model)\n",
    "lr.fit(x_train,y_train_scoring)\n",
    "\n",
    "print('ARS----WOLVES')\n",
    "lr.predict(watford_input)"
   ]
  },
  {
   "cell_type": "markdown",
   "id": "86ed934c",
   "metadata": {},
   "source": [
    "# The model predicts Arsenal will win against Watford with a the score of 2-0"
   ]
  },
  {
   "cell_type": "markdown",
   "id": "b9695c32",
   "metadata": {},
   "source": [
    "******"
   ]
  },
  {
   "cell_type": "code",
   "execution_count": 6,
   "id": "2f028141",
   "metadata": {},
   "outputs": [],
   "source": [
    "df=pd.read_csv('Arsenal season 2021_2022 - Sheet1.csv')"
   ]
  },
  {
   "cell_type": "code",
   "execution_count": 7,
   "id": "26b855c3",
   "metadata": {},
   "outputs": [],
   "source": [
    "drop=['result_prediction','predicted_poss','Day','Date','Round','GF_prediction', 'GA_prediction','Predicted_formation','pred_gk_Ratings','pred_def_ratings', 'pred_mid_ratings', 'pred_forw_ratings','Opponent','Venue','Result','GF_prediction','GA_prediction','predicted_xg','predicted_xga']\n",
    "\n",
    "\n",
    "opponent=pd.get_dummies(df['Opponent'],drop_first=True)\n",
    "venue=pd.get_dummies(df['Venue'],drop_first=True)\n",
    "result=pd.get_dummies(df['Result'],drop_first=True)\n",
    "\n",
    "df=pd.concat([df,opponent,venue,result],axis=1)\n",
    "#NEEDS TO BE CHANGE EVERY WEEK SINCE THERE WILL BE NEW MATCH DATA\n",
    "df=df.iloc[:25]\n",
    "\n",
    "\n",
    "\n",
    "df=df.drop(drop,axis=1)\n",
    "\n",
    "df['Formation'].replace('3-4-2003','3-4-3',inplace=True)\n",
    "#CANNOT INCLUDE THE UPCOMING MATCH PREDICTION SINCE IT IS NAN\n",
    "df['Formation']=df['Formation'].apply(lambda x:int(x.replace('-','')))"
   ]
  },
  {
   "cell_type": "code",
   "execution_count": 9,
   "id": "bdf79de0",
   "metadata": {},
   "outputs": [],
   "source": [
    "x_train=df.drop(['GF','GA','L','W'],axis=1)\n",
    "y_train=df[['L','W']]"
   ]
  },
  {
   "cell_type": "code",
   "execution_count": 10,
   "id": "40fc53fc",
   "metadata": {},
   "outputs": [],
   "source": [
    "y_train_scoring=df[['GF','GA']]"
   ]
  },
  {
   "cell_type": "code",
   "execution_count": 11,
   "id": "fb2ba385",
   "metadata": {},
   "outputs": [
    {
     "data": {
      "text/plain": [
       "Index(['xG', 'xGA', 'Poss', 'Formation', 'act_gk_ratings', 'act_def_ratings',\n",
       "       'act_mid_ratings', 'act_forw_ratings', 'Brentford', 'Brighton',\n",
       "       'Burnley', 'Chelsea', 'Crystal Palace', 'Everton', 'Leeds United',\n",
       "       'Leicester City', 'Liverpool', 'Manchester City', 'Manchester Utd',\n",
       "       'Newcastle Utd', 'Norwich City', 'Southampton', 'Tottenham', 'Watford',\n",
       "       'West Ham', 'Wolves', 'Home'],\n",
       "      dtype='object')"
      ]
     },
     "execution_count": 11,
     "metadata": {},
     "output_type": "execute_result"
    }
   ],
   "source": [
    "x_train.columns"
   ]
  },
  {
   "cell_type": "code",
   "execution_count": 14,
   "id": "15930273",
   "metadata": {},
   "outputs": [],
   "source": [
    "leicester_input=[[1.683333333,1.05,53.66666667,4231,6.463333333,6.605,7.070833333,6.90250,0,0,0,0,0,0,0,1,0,0,0,0,0,0,0,0,0,0,1]]"
   ]
  },
  {
   "cell_type": "code",
   "execution_count": 15,
   "id": "505ff2b4",
   "metadata": {},
   "outputs": [
    {
     "name": "stdout",
     "output_type": "stream",
     "text": [
      "LOSE------WIN\n"
     ]
    },
    {
     "data": {
      "text/plain": [
       "array([[0, 1]], dtype=uint8)"
      ]
     },
     "execution_count": 15,
     "metadata": {},
     "output_type": "execute_result"
    }
   ],
   "source": [
    "model = LogisticRegression(C=100)\n",
    "lr=MultiOutputClassifier(model)\n",
    "lr.fit(x_train,y_train)\n",
    "#make prediction using input for this match\n",
    "\n",
    "print('LOSE------WIN')\n",
    "lr.predict(leicester_input)"
   ]
  },
  {
   "cell_type": "code",
   "execution_count": 17,
   "id": "2f044fcb",
   "metadata": {},
   "outputs": [
    {
     "name": "stdout",
     "output_type": "stream",
     "text": [
      "ARS----Lei\n"
     ]
    },
    {
     "data": {
      "text/plain": [
       "array([[2., 0.]])"
      ]
     },
     "execution_count": 17,
     "metadata": {},
     "output_type": "execute_result"
    }
   ],
   "source": [
    "model = LogisticRegression(C=100)\n",
    "lr=MultiOutputClassifier(model)\n",
    "lr.fit(x_train,y_train_scoring)\n",
    "\n",
    "print('ARS----Lei')\n",
    "lr.predict(leicester_input)"
   ]
  },
  {
   "cell_type": "markdown",
   "id": "474869c1",
   "metadata": {},
   "source": [
    "***"
   ]
  },
  {
   "cell_type": "markdown",
   "id": "e20d4442",
   "metadata": {},
   "source": [
    "# Prediction vs Crystal Palace (4/4/2022)"
   ]
  },
  {
   "cell_type": "code",
   "execution_count": 23,
   "id": "82768a59",
   "metadata": {},
   "outputs": [],
   "source": [
    "df=pd.read_csv('Arsenal season 2021_2022 - Sheet1.csv')"
   ]
  },
  {
   "cell_type": "code",
   "execution_count": 24,
   "id": "65e1d1be",
   "metadata": {},
   "outputs": [],
   "source": [
    "drop=['result_prediction','predicted_poss','Day','Date','Round','GF_prediction', 'GA_prediction','Predicted_formation','pred_gk_Ratings','pred_def_ratings', 'pred_mid_ratings', 'pred_forw_ratings','Opponent','Venue','Result','GF_prediction','GA_prediction','predicted_xg','predicted_xga']\n",
    "\n",
    "\n",
    "opponent=pd.get_dummies(df['Opponent'],drop_first=True)\n",
    "venue=pd.get_dummies(df['Venue'],drop_first=True)\n",
    "result=pd.get_dummies(df['Result'],drop_first=True)\n",
    "\n",
    "df=pd.concat([df,opponent,venue,result],axis=1)\n",
    "#NEEDS TO BE CHANGE EVERY WEEK SINCE THERE WILL BE NEW MATCH DATA\n",
    "df=df.iloc[:28]\n",
    "\n",
    "\n",
    "\n",
    "df=df.drop(drop,axis=1)\n",
    "\n",
    "df['Formation'].replace('3-4-2003','3-4-3',inplace=True)\n",
    "#CANNOT INCLUDE THE UPCOMING MATCH PREDICTION SINCE IT IS NAN\n",
    "df['Formation']=df['Formation'].apply(lambda x:int(x.replace('-','')))"
   ]
  },
  {
   "cell_type": "code",
   "execution_count": 10,
   "id": "9b1c0e13",
   "metadata": {},
   "outputs": [],
   "source": [
    "x_train=df.drop(['GF','GA','L','W'],axis=1)\n",
    "y_train=df[['L','W']]"
   ]
  },
  {
   "cell_type": "code",
   "execution_count": 11,
   "id": "23cc29ce",
   "metadata": {},
   "outputs": [],
   "source": [
    "y_train_scoring=df[['GF','GA']]"
   ]
  },
  {
   "cell_type": "code",
   "execution_count": 12,
   "id": "51c78998",
   "metadata": {},
   "outputs": [
    {
     "data": {
      "text/plain": [
       "Index(['xG', 'xGA', 'Poss', 'Formation', 'act_gk_ratings', 'act_def_ratings',\n",
       "       'act_mid_ratings', 'act_forw_ratings', 'Brentford', 'Brighton',\n",
       "       'Burnley', 'Chelsea', 'Crystal Palace', 'Everton', 'Leeds United',\n",
       "       'Leicester City', 'Liverpool', 'Manchester City', 'Manchester Utd',\n",
       "       'Newcastle Utd', 'Norwich City', 'Southampton', 'Tottenham', 'Watford',\n",
       "       'West Ham', 'Wolves', 'Home'],\n",
       "      dtype='object')"
      ]
     },
     "execution_count": 12,
     "metadata": {},
     "output_type": "execute_result"
    }
   ],
   "source": [
    "x_train.columns"
   ]
  },
  {
   "cell_type": "code",
   "execution_count": 14,
   "id": "dfe5fde1",
   "metadata": {},
   "outputs": [],
   "source": [
    "palace_input=[[1.716666667,0.75,54.66666667,4231,6.415,6.632083333,7.1725,6.8675,0,0,0,0,1,0,0,0,0,0,0,0,0,0,0,0,0,0,0]]"
   ]
  },
  {
   "cell_type": "markdown",
   "id": "943b6517",
   "metadata": {},
   "source": [
    "#### Predicting match result"
   ]
  },
  {
   "cell_type": "code",
   "execution_count": 15,
   "id": "1c80fde3",
   "metadata": {},
   "outputs": [
    {
     "name": "stdout",
     "output_type": "stream",
     "text": [
      "LOSE------WIN\n"
     ]
    },
    {
     "data": {
      "text/plain": [
       "array([[0, 1]], dtype=uint8)"
      ]
     },
     "execution_count": 15,
     "metadata": {},
     "output_type": "execute_result"
    }
   ],
   "source": [
    "model = LogisticRegression(C=100)\n",
    "lr=MultiOutputClassifier(model)\n",
    "lr.fit(x_train,y_train)\n",
    "#make prediction using input for this match\n",
    "\n",
    "print('LOSE------WIN')\n",
    "lr.predict(palace_input)"
   ]
  },
  {
   "cell_type": "markdown",
   "id": "227f94b9",
   "metadata": {},
   "source": [
    "#### Predicting match scores"
   ]
  },
  {
   "cell_type": "code",
   "execution_count": 16,
   "id": "7ccccee5",
   "metadata": {},
   "outputs": [
    {
     "name": "stdout",
     "output_type": "stream",
     "text": [
      "ARS----Lei\n"
     ]
    },
    {
     "data": {
      "text/plain": [
       "array([[2., 0.]])"
      ]
     },
     "execution_count": 16,
     "metadata": {},
     "output_type": "execute_result"
    }
   ],
   "source": [
    "model = LogisticRegression(C=100)\n",
    "lr=MultiOutputClassifier(model)\n",
    "lr.fit(x_train,y_train_scoring)\n",
    "\n",
    "print('ARS----Lei')\n",
    "lr.predict(palace_input)"
   ]
  },
  {
   "cell_type": "markdown",
   "id": "57133025",
   "metadata": {},
   "source": [
    "# The model predict Arsenal will win against Crystal Palace with a score of 2-0"
   ]
  },
  {
   "cell_type": "markdown",
   "id": "769ec2ea",
   "metadata": {},
   "source": [
    "****"
   ]
  },
  {
   "cell_type": "markdown",
   "id": "cc2aad12",
   "metadata": {},
   "source": [
    "# Prediction vs Brighton (9/4/2022)"
   ]
  },
  {
   "cell_type": "code",
   "execution_count": 13,
   "id": "cce9d95c",
   "metadata": {},
   "outputs": [],
   "source": [
    "df=pd.read_csv('Arsenal season 2021_2022 - Sheet1.csv')"
   ]
  },
  {
   "cell_type": "code",
   "execution_count": 14,
   "id": "0b3545da",
   "metadata": {},
   "outputs": [],
   "source": [
    "drop=['result_prediction','predicted_poss','Day','Date','Round','GF_prediction', 'GA_prediction','Predicted_formation','pred_gk_Ratings','pred_def_ratings', 'pred_mid_ratings', 'pred_forw_ratings','Opponent','Venue','Result','GF_prediction','GA_prediction','predicted_xg','predicted_xga']\n",
    "\n",
    "\n",
    "opponent=pd.get_dummies(df['Opponent'],drop_first=True)\n",
    "venue=pd.get_dummies(df['Venue'],drop_first=True)\n",
    "result=pd.get_dummies(df['Result'],drop_first=True)\n",
    "\n",
    "df=pd.concat([df,opponent,venue,result],axis=1)\n",
    "#NEEDS TO BE CHANGE EVERY WEEK SINCE THERE WILL BE NEW MATCH DATA\n",
    "df=df.iloc[:29]\n",
    "\n",
    "\n",
    "\n",
    "df=df.drop(drop,axis=1)\n",
    "\n",
    "df['Formation'].replace('3-4-2003','3-4-3',inplace=True)\n",
    "#CANNOT INCLUDE THE UPCOMING MATCH PREDICTION SINCE IT IS NAN\n",
    "df['Formation']=df['Formation'].apply(lambda x:int(x.replace('-','')))"
   ]
  },
  {
   "cell_type": "code",
   "execution_count": 16,
   "id": "3b480c9f",
   "metadata": {},
   "outputs": [],
   "source": [
    "x_train=df.drop(['GF','GA','L','W'],axis=1)\n",
    "y_train=df[['L','W']]"
   ]
  },
  {
   "cell_type": "code",
   "execution_count": 17,
   "id": "83277c31",
   "metadata": {},
   "outputs": [],
   "source": [
    "y_train_scoring=df[['GF','GA']]"
   ]
  },
  {
   "cell_type": "code",
   "execution_count": 18,
   "id": "2dabdca2",
   "metadata": {},
   "outputs": [
    {
     "data": {
      "text/plain": [
       "Index(['xG', 'xGA', 'Poss', 'Formation', 'act_gk_ratings', 'act_def_ratings',\n",
       "       'act_mid_ratings', 'act_forw_ratings', 'Brentford', 'Brighton',\n",
       "       'Burnley', 'Chelsea', 'Crystal Palace', 'Everton', 'Leeds United',\n",
       "       'Leicester City', 'Liverpool', 'Manchester City', 'Manchester Utd',\n",
       "       'Newcastle Utd', 'Norwich City', 'Southampton', 'Tottenham', 'Watford',\n",
       "       'West Ham', 'Wolves', 'Home'],\n",
       "      dtype='object')"
      ]
     },
     "execution_count": 18,
     "metadata": {},
     "output_type": "execute_result"
    }
   ],
   "source": [
    "x_train.columns"
   ]
  },
  {
   "cell_type": "code",
   "execution_count": 20,
   "id": "535fcec6",
   "metadata": {},
   "outputs": [],
   "source": [
    "brighton_input=[[1.516666667,0.9166666667,54.66666667,4231,6.301666667,6.445,6.7875,6.768333333,0,1,0,0,0,0,0,0,0,0,0,0,0,0,0,0,0,0,1]]"
   ]
  },
  {
   "cell_type": "markdown",
   "id": "e153fda4",
   "metadata": {},
   "source": [
    "#### Predicting match result"
   ]
  },
  {
   "cell_type": "code",
   "execution_count": 22,
   "id": "5646c42a",
   "metadata": {},
   "outputs": [
    {
     "name": "stdout",
     "output_type": "stream",
     "text": [
      "LOSE------WIN\n"
     ]
    },
    {
     "data": {
      "text/plain": [
       "array([[0, 1]], dtype=uint8)"
      ]
     },
     "execution_count": 22,
     "metadata": {},
     "output_type": "execute_result"
    }
   ],
   "source": [
    "model = LogisticRegression(C=100)\n",
    "lr=MultiOutputClassifier(model)\n",
    "lr.fit(x_train,y_train)\n",
    "#make prediction using input for this match\n",
    "\n",
    "print('LOSE------WIN')\n",
    "lr.predict(brighton_input)"
   ]
  },
  {
   "cell_type": "markdown",
   "id": "b29086a7",
   "metadata": {},
   "source": [
    "#### Predicting match scores"
   ]
  },
  {
   "cell_type": "code",
   "execution_count": 24,
   "id": "777d3b24",
   "metadata": {},
   "outputs": [
    {
     "name": "stdout",
     "output_type": "stream",
     "text": [
      "ARS----Bri\n"
     ]
    },
    {
     "data": {
      "text/plain": [
       "array([[2., 0.]])"
      ]
     },
     "execution_count": 24,
     "metadata": {},
     "output_type": "execute_result"
    }
   ],
   "source": [
    "model = LogisticRegression(C=100)\n",
    "lr=MultiOutputClassifier(model)\n",
    "lr.fit(x_train,y_train_scoring)\n",
    "\n",
    "print('ARS----Bri')\n",
    "lr.predict(brighton_input)"
   ]
  },
  {
   "cell_type": "markdown",
   "id": "e3773510",
   "metadata": {},
   "source": [
    "# The model predict Arsenal will win against Brighton with a score of 2-0"
   ]
  },
  {
   "cell_type": "markdown",
   "id": "a6e33674",
   "metadata": {},
   "source": [
    "***"
   ]
  },
  {
   "cell_type": "markdown",
   "id": "0ff8bb3d",
   "metadata": {},
   "source": [
    "# Prediction vs Southampton (16/4/2022)"
   ]
  },
  {
   "cell_type": "code",
   "execution_count": 6,
   "id": "8266ec15",
   "metadata": {},
   "outputs": [],
   "source": [
    "df=pd.read_csv('Arsenal season 2021_2022 - Sheet1.csv')"
   ]
  },
  {
   "cell_type": "code",
   "execution_count": 7,
   "id": "5a688970",
   "metadata": {},
   "outputs": [],
   "source": [
    "drop=['result_prediction','predicted_poss','Day','Date','Round','GF_prediction', 'GA_prediction','Predicted_formation','pred_gk_Ratings','pred_def_ratings', 'pred_mid_ratings', 'pred_forw_ratings','Opponent','Venue','Result','GF_prediction','GA_prediction','predicted_xg','predicted_xga']\n",
    "\n",
    "\n",
    "opponent=pd.get_dummies(df['Opponent'],drop_first=True)\n",
    "venue=pd.get_dummies(df['Venue'],drop_first=True)\n",
    "result=pd.get_dummies(df['Result'],drop_first=True)\n",
    "\n",
    "df=pd.concat([df,opponent,venue,result],axis=1)\n",
    "#NEEDS TO BE CHANGE EVERY WEEK SINCE THERE WILL BE NEW MATCH DATA\n",
    "df=df.iloc[:30]\n",
    "\n",
    "\n",
    "\n",
    "df=df.drop(drop,axis=1)\n",
    "\n",
    "df['Formation'].replace('3-4-2003','3-4-3',inplace=True)\n",
    "#CANNOT INCLUDE THE UPCOMING MATCH PREDICTION SINCE IT IS NAN\n",
    "df['Formation']=df['Formation'].apply(lambda x:int(x.replace('-','')))"
   ]
  },
  {
   "cell_type": "code",
   "execution_count": 9,
   "id": "76e98d51",
   "metadata": {},
   "outputs": [],
   "source": [
    "x_train=df.drop(['GF','GA','L','W'],axis=1)\n",
    "y_train=df[['L','W']]"
   ]
  },
  {
   "cell_type": "code",
   "execution_count": 10,
   "id": "63ffd95b",
   "metadata": {},
   "outputs": [],
   "source": [
    "y_train_scoring=df[['GF','GA']]"
   ]
  },
  {
   "cell_type": "code",
   "execution_count": 11,
   "id": "0672b5d5",
   "metadata": {},
   "outputs": [
    {
     "data": {
      "text/plain": [
       "Index(['xG', 'xGA', 'Poss', 'Formation', 'act_gk_ratings', 'act_def_ratings',\n",
       "       'act_mid_ratings', 'act_forw_ratings', 'Brentford', 'Brighton',\n",
       "       'Burnley', 'Chelsea', 'Crystal Palace', 'Everton', 'Leeds United',\n",
       "       'Leicester City', 'Liverpool', 'Manchester City', 'Manchester Utd',\n",
       "       'Newcastle Utd', 'Norwich City', 'Southampton', 'Tottenham', 'Watford',\n",
       "       'West Ham', 'Wolves', 'Home'],\n",
       "      dtype='object')"
      ]
     },
     "execution_count": 11,
     "metadata": {},
     "output_type": "execute_result"
    }
   ],
   "source": [
    "x_train.columns"
   ]
  },
  {
   "cell_type": "code",
   "execution_count": 25,
   "id": "e459b7c1",
   "metadata": {},
   "outputs": [],
   "source": [
    "southampton_input=[[1.383333333,0.8166666667,56,433,6.221666667,6.620555556,6.685666667,6.499166667,0,0,0,0,0,0,0,0,0,0,0,0,0,1,0,0,0,0,0]]"
   ]
  },
  {
   "cell_type": "markdown",
   "id": "16e4ac2d",
   "metadata": {},
   "source": [
    "#### Predicting match result"
   ]
  },
  {
   "cell_type": "code",
   "execution_count": 26,
   "id": "8c7aa4b3",
   "metadata": {},
   "outputs": [
    {
     "name": "stdout",
     "output_type": "stream",
     "text": [
      "LOSE------WIN\n"
     ]
    },
    {
     "data": {
      "text/plain": [
       "array([[0, 1]], dtype=uint8)"
      ]
     },
     "execution_count": 26,
     "metadata": {},
     "output_type": "execute_result"
    }
   ],
   "source": [
    "model = LogisticRegression(C=100)\n",
    "lr=MultiOutputClassifier(model)\n",
    "lr.fit(x_train,y_train)\n",
    "#make prediction using input for this match\n",
    "\n",
    "print('LOSE------WIN')\n",
    "lr.predict(southampton_input)"
   ]
  },
  {
   "cell_type": "markdown",
   "id": "2f5ee884",
   "metadata": {},
   "source": [
    "#### Predicting match scores¶"
   ]
  },
  {
   "cell_type": "code",
   "execution_count": 27,
   "id": "422128e8",
   "metadata": {},
   "outputs": [
    {
     "name": "stdout",
     "output_type": "stream",
     "text": [
      "ARS----South\n"
     ]
    },
    {
     "data": {
      "text/plain": [
       "array([[5., 5.]])"
      ]
     },
     "execution_count": 27,
     "metadata": {},
     "output_type": "execute_result"
    }
   ],
   "source": [
    "model = LogisticRegression(C=100)\n",
    "lr=MultiOutputClassifier(model)\n",
    "lr.fit(x_train,y_train_scoring)\n",
    "\n",
    "print('ARS----South')\n",
    "lr.predict(southampton_input)"
   ]
  },
  {
   "cell_type": "markdown",
   "id": "73f1b646",
   "metadata": {},
   "source": [
    "# The model predict Arsenal will win against Southampton but predict the score to tie with 5-5."
   ]
  },
  {
   "cell_type": "markdown",
   "id": "40ed0aa8",
   "metadata": {},
   "source": [
    "***"
   ]
  },
  {
   "cell_type": "code",
   "execution_count": 8,
   "id": "0e799dcd",
   "metadata": {},
   "outputs": [],
   "source": [
    "df=pd.read_csv('Arsenal season 2021_2022 - Sheet1.csv')"
   ]
  },
  {
   "cell_type": "code",
   "execution_count": 9,
   "id": "b81841e2",
   "metadata": {},
   "outputs": [],
   "source": [
    "drop=['result_prediction','predicted_poss','Day','Date','Round','GF_prediction', 'GA_prediction','Predicted_formation','pred_gk_Ratings','pred_def_ratings', 'pred_mid_ratings', 'pred_forw_ratings','Opponent','Venue','Result','GF_prediction','GA_prediction','predicted_xg','predicted_xga']\n",
    "\n",
    "\n",
    "opponent=pd.get_dummies(df['Opponent'],drop_first=True)\n",
    "venue=pd.get_dummies(df['Venue'],drop_first=True)\n",
    "result=pd.get_dummies(df['Result'],drop_first=True)\n",
    "\n",
    "df=pd.concat([df,opponent,venue,result],axis=1)\n",
    "#NEEDS TO BE CHANGE EVERY WEEK SINCE THERE WILL BE NEW MATCH DATA\n",
    "df=df.iloc[:31]\n",
    "\n",
    "\n",
    "\n",
    "df=df.drop(drop,axis=1)\n",
    "\n",
    "df['Formation'].replace('3-4-2003','3-4-3',inplace=True)\n",
    "df['Formation'].replace('4-3-2003','4-3-3',inplace=True)\n",
    "\n",
    "#CANNOT INCLUDE THE UPCOMING MATCH PREDICTION SINCE IT IS NAN\n",
    "df['Formation']=df['Formation'].apply(lambda x:int(x.replace('-','')))"
   ]
  },
  {
   "cell_type": "code",
   "execution_count": 11,
   "id": "ab9b66f6",
   "metadata": {},
   "outputs": [],
   "source": [
    "x_train=df.drop(['GF','GA','L','W'],axis=1)\n",
    "y_train=df[['L','W']]"
   ]
  },
  {
   "cell_type": "code",
   "execution_count": 12,
   "id": "9b4af354",
   "metadata": {},
   "outputs": [],
   "source": [
    "y_train_scoring=df[['GF','GA']]"
   ]
  },
  {
   "cell_type": "code",
   "execution_count": 13,
   "id": "5f610fef",
   "metadata": {},
   "outputs": [
    {
     "data": {
      "text/plain": [
       "Index(['xG', 'xGA', 'Poss', 'Formation', 'act_gk_ratings', 'act_def_ratings',\n",
       "       'act_mid_ratings', 'act_forw_ratings', 'Brentford', 'Brighton',\n",
       "       'Burnley', 'Chelsea', 'Crystal Palace', 'Everton', 'Leeds United',\n",
       "       'Leicester City', 'Liverpool', 'Manchester City', 'Manchester Utd',\n",
       "       'Newcastle Utd', 'Norwich City', 'Southampton', 'Tottenham', 'Watford',\n",
       "       'West Ham', 'Wolves', 'Home'],\n",
       "      dtype='object')"
      ]
     },
     "execution_count": 13,
     "metadata": {},
     "output_type": "execute_result"
    }
   ],
   "source": [
    "x_train.columns\n"
   ]
  },
  {
   "cell_type": "code",
   "execution_count": 14,
   "id": "a0b206a4",
   "metadata": {},
   "outputs": [],
   "source": [
    "chelsea_input=[[1.45,0.7,59.16666667,3421,6.3,6.627083333,6.593333333,6.825,0,0,0,1,0,0,0,0,0,0,0,0,0,0,0,0,0,0,0]]"
   ]
  },
  {
   "cell_type": "markdown",
   "id": "1f4e6bc4",
   "metadata": {},
   "source": [
    "#### Predicting match result"
   ]
  },
  {
   "cell_type": "code",
   "execution_count": 15,
   "id": "6e5a8b05",
   "metadata": {},
   "outputs": [
    {
     "name": "stdout",
     "output_type": "stream",
     "text": [
      "LOSE------WIN\n"
     ]
    },
    {
     "data": {
      "text/plain": [
       "array([[0, 1]], dtype=uint8)"
      ]
     },
     "execution_count": 15,
     "metadata": {},
     "output_type": "execute_result"
    }
   ],
   "source": [
    "model = LogisticRegression(C=100)\n",
    "lr=MultiOutputClassifier(model)\n",
    "lr.fit(x_train,y_train)\n",
    "#make prediction using input for this match\n",
    "\n",
    "print('LOSE------WIN')\n",
    "lr.predict(chelsea_input)"
   ]
  },
  {
   "cell_type": "markdown",
   "id": "a623c949",
   "metadata": {},
   "source": [
    "#### Predicting match scores"
   ]
  },
  {
   "cell_type": "code",
   "execution_count": 17,
   "id": "0a203608",
   "metadata": {},
   "outputs": [
    {
     "name": "stdout",
     "output_type": "stream",
     "text": [
      "ARS----Chel\n"
     ]
    },
    {
     "data": {
      "text/plain": [
       "array([[0., 1.]])"
      ]
     },
     "execution_count": 17,
     "metadata": {},
     "output_type": "execute_result"
    }
   ],
   "source": [
    "model = LogisticRegression(C=100)\n",
    "lr=MultiOutputClassifier(model)\n",
    "lr.fit(x_train,y_train_scoring)\n",
    "\n",
    "print('ARS----Chel')\n",
    "lr.predict(chelsea_input)"
   ]
  },
  {
   "cell_type": "markdown",
   "id": "ab736875",
   "metadata": {},
   "source": [
    "# The model predict Arsenal will win against Chelsea but predict the score to be 1-0 for Chelsea."
   ]
  },
  {
   "cell_type": "markdown",
   "id": "f40afdaa",
   "metadata": {},
   "source": [
    "***"
   ]
  },
  {
   "cell_type": "code",
   "execution_count": null,
   "id": "4a1a096f",
   "metadata": {},
   "outputs": [],
   "source": []
  }
 ],
 "metadata": {
  "kernelspec": {
   "display_name": "Python 3 (ipykernel)",
   "language": "python",
   "name": "python3"
  },
  "language_info": {
   "codemirror_mode": {
    "name": "ipython",
    "version": 3
   },
   "file_extension": ".py",
   "mimetype": "text/x-python",
   "name": "python",
   "nbconvert_exporter": "python",
   "pygments_lexer": "ipython3",
   "version": "3.7.8"
  }
 },
 "nbformat": 4,
 "nbformat_minor": 5
}
