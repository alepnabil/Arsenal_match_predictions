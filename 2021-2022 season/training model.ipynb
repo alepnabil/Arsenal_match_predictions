{
 "cells": [
  {
   "cell_type": "code",
   "execution_count": 1,
   "id": "01982a85",
   "metadata": {},
   "outputs": [],
   "source": [
    "import pandas as pd\n",
    "\n",
    "from sklearn.linear_model import LogisticRegression\n",
    "from sklearn.neighbors import KNeighborsClassifier\n",
    "from sklearn.svm import SVC\n",
    "from sklearn.ensemble import RandomForestClassifier\n",
    "from sklearn.naive_bayes import MultinomialNB\n",
    "from sklearn.ensemble import GradientBoostingClassifier\n",
    "from sklearn.ensemble import AdaBoostClassifier\n",
    "from xgboost import XGBClassifier\n",
    "from sklearn.preprocessing import StandardScaler\n",
    "from sklearn.multioutput import MultiOutputClassifier\n",
    "\n",
    "\n",
    "from sklearn.metrics import accuracy_score,confusion_matrix,classification_report,plot_confusion_matrix,roc_auc_score\n",
    "from sklearn.model_selection import cross_val_score\n",
    "\n",
    "from sklearn.model_selection import GridSearchCV\n",
    "from scipy.stats import loguniform\n",
    "\n",
    "\n",
    "import warnings\n",
    "warnings.filterwarnings('ignore')"
   ]
  },
  {
   "cell_type": "code",
   "execution_count": 101,
   "id": "232c69a7",
   "metadata": {},
   "outputs": [],
   "source": [
    "df=pd.read_csv('Arsenal season 2021_2022 - Sheet1 (2).csv')"
   ]
  },
  {
   "cell_type": "code",
   "execution_count": 102,
   "id": "13686b8b",
   "metadata": {},
   "outputs": [],
   "source": [
    "drop=['pred_poss','Day','Date','Round','Prediction','GF_prediction', 'GA_prediction','Predicted_formation','pred_gk_Ratings','pred_def_ratings', 'pred_mid_ratings', 'pred_forw_ratings','Opponent','Venue','Result']\n",
    "\n",
    "\n",
    "opponent=pd.get_dummies(df['Opponent'],drop_first=True)\n",
    "venue=pd.get_dummies(df['Venue'],drop_first=True)\n",
    "result=pd.get_dummies(df['Result'],drop_first=True)\n",
    "\n",
    "df=pd.concat([df,opponent,venue,result],axis=1)\n",
    "df=df.iloc[:18]\n",
    "\n",
    "df=df.drop(drop,axis=1)\n",
    "\n",
    "df['Formation'].replace('3-4-2003','3-4-3',inplace=True)\n",
    "df['Formation']=df['Formation'].apply(lambda x:int(x.replace('-','')))"
   ]
  },
  {
   "cell_type": "markdown",
   "id": "297df137",
   "metadata": {},
   "source": [
    "    - Cannot use KFold validation because it will cause data leakage.\n",
    "    - Cannot use the usual train test split also since it will cause data leakage"
   ]
  },
  {
   "cell_type": "markdown",
   "id": "61e4aaf0",
   "metadata": {},
   "source": [
    "    For grid search cv"
   ]
  },
  {
   "cell_type": "code",
   "execution_count": 104,
   "id": "35d9e0f8",
   "metadata": {},
   "outputs": [],
   "source": [
    "x=df.drop(['GF','GA','L','W'],axis=1)\n",
    "y=df[['L','W']]"
   ]
  },
  {
   "cell_type": "code",
   "execution_count": 4,
   "id": "fe07ca0b",
   "metadata": {},
   "outputs": [],
   "source": [
    "train=df.iloc[:14]\n",
    "test=df.iloc[14:]"
   ]
  },
  {
   "cell_type": "markdown",
   "id": "3cef98fc",
   "metadata": {},
   "source": [
    "    We will just use the data for 14 match (as of 21/12/2021) train our model"
   ]
  },
  {
   "cell_type": "markdown",
   "id": "17b69eb0",
   "metadata": {},
   "source": [
    "## Making predictions for match results"
   ]
  },
  {
   "cell_type": "code",
   "execution_count": 5,
   "id": "4ede6753",
   "metadata": {},
   "outputs": [],
   "source": [
    "x_train=train.drop(['GF','GA','L','W'],axis=1)\n",
    "y_train=train[['L','W']]"
   ]
  },
  {
   "cell_type": "code",
   "execution_count": 6,
   "id": "b9c41033",
   "metadata": {},
   "outputs": [],
   "source": [
    "x_test=test.drop(['GF','GA','L','W'],axis=1)\n",
    "y_test=test[['L','W']]"
   ]
  },
  {
   "cell_type": "markdown",
   "id": "0f9a9613",
   "metadata": {},
   "source": [
    "### Testing several models "
   ]
  },
  {
   "cell_type": "code",
   "execution_count": 7,
   "id": "511a1dfa",
   "metadata": {},
   "outputs": [],
   "source": [
    "classification_model=[\n",
    "    ('lr',LogisticRegression()),\n",
    "    ('knn',KNeighborsClassifier()),\n",
    "    ('svm',SVC()),\n",
    "    ('rf',RandomForestClassifier()),\n",
    "    ('naive',MultinomialNB()),\n",
    "    ('gbm',GradientBoostingClassifier()),\n",
    "    ('ada',AdaBoostClassifier()),\n",
    "    ('xgb',XGBClassifier(eval_metric='mlogloss'))\n",
    "]"
   ]
  },
  {
   "cell_type": "code",
   "execution_count": 9,
   "id": "300157aa",
   "metadata": {},
   "outputs": [
    {
     "name": "stdout",
     "output_type": "stream",
     "text": [
      "              precision    recall  f1-score   support\n",
      "\n",
      "           0       0.00      0.00      0.00         1\n",
      "           1       1.00      1.00      1.00         3\n",
      "\n",
      "   micro avg       1.00      0.75      0.86         4\n",
      "   macro avg       0.50      0.50      0.50         4\n",
      "weighted avg       0.75      0.75      0.75         4\n",
      " samples avg       0.75      0.75      0.75         4\n",
      "\n",
      "lr MODEL ACCURACY : 0.75\n",
      "***********************************************************************************\n",
      "              precision    recall  f1-score   support\n",
      "\n",
      "           0       0.00      0.00      0.00         1\n",
      "           1       0.75      1.00      0.86         3\n",
      "\n",
      "   micro avg       0.75      0.75      0.75         4\n",
      "   macro avg       0.38      0.50      0.43         4\n",
      "weighted avg       0.56      0.75      0.64         4\n",
      " samples avg       0.75      0.75      0.75         4\n",
      "\n",
      "knn MODEL ACCURACY : 0.75\n",
      "***********************************************************************************\n",
      "              precision    recall  f1-score   support\n",
      "\n",
      "           0       0.00      0.00      0.00         1\n",
      "           1       0.75      1.00      0.86         3\n",
      "\n",
      "   micro avg       0.75      0.75      0.75         4\n",
      "   macro avg       0.38      0.50      0.43         4\n",
      "weighted avg       0.56      0.75      0.64         4\n",
      " samples avg       0.75      0.75      0.75         4\n",
      "\n",
      "svm MODEL ACCURACY : 0.75\n",
      "***********************************************************************************\n",
      "              precision    recall  f1-score   support\n",
      "\n",
      "           0       0.00      0.00      0.00         1\n",
      "           1       1.00      1.00      1.00         3\n",
      "\n",
      "   micro avg       1.00      0.75      0.86         4\n",
      "   macro avg       0.50      0.50      0.50         4\n",
      "weighted avg       0.75      0.75      0.75         4\n",
      " samples avg       0.75      0.75      0.75         4\n",
      "\n",
      "rf MODEL ACCURACY : 0.75\n",
      "***********************************************************************************\n",
      "              precision    recall  f1-score   support\n",
      "\n",
      "           0       0.00      0.00      0.00         1\n",
      "           1       0.75      1.00      0.86         3\n",
      "\n",
      "   micro avg       0.75      0.75      0.75         4\n",
      "   macro avg       0.38      0.50      0.43         4\n",
      "weighted avg       0.56      0.75      0.64         4\n",
      " samples avg       0.75      0.75      0.75         4\n",
      "\n",
      "naive MODEL ACCURACY : 0.75\n",
      "***********************************************************************************\n",
      "              precision    recall  f1-score   support\n",
      "\n",
      "           0       0.00      0.00      0.00         1\n",
      "           1       0.67      0.67      0.67         3\n",
      "\n",
      "   micro avg       0.50      0.50      0.50         4\n",
      "   macro avg       0.33      0.33      0.33         4\n",
      "weighted avg       0.50      0.50      0.50         4\n",
      " samples avg       0.50      0.50      0.50         4\n",
      "\n",
      "gbm MODEL ACCURACY : 0.5\n",
      "***********************************************************************************\n",
      "              precision    recall  f1-score   support\n",
      "\n",
      "           0       0.00      0.00      0.00         1\n",
      "           1       0.67      0.67      0.67         3\n",
      "\n",
      "   micro avg       0.50      0.50      0.50         4\n",
      "   macro avg       0.33      0.33      0.33         4\n",
      "weighted avg       0.50      0.50      0.50         4\n",
      " samples avg       0.50      0.50      0.50         4\n",
      "\n",
      "ada MODEL ACCURACY : 0.5\n",
      "***********************************************************************************\n",
      "              precision    recall  f1-score   support\n",
      "\n",
      "           0       0.00      0.00      0.00         1\n",
      "           1       1.00      0.67      0.80         3\n",
      "\n",
      "   micro avg       0.67      0.50      0.57         4\n",
      "   macro avg       0.50      0.33      0.40         4\n",
      "weighted avg       0.75      0.50      0.60         4\n",
      " samples avg       0.50      0.50      0.50         4\n",
      "\n",
      "xgb MODEL ACCURACY : 0.5\n",
      "***********************************************************************************\n"
     ]
    }
   ],
   "source": [
    "for name,model in classification_model:\n",
    "    mod=MultiOutputClassifier(model).fit(x_train,y_train)\n",
    "    prediction=mod.predict(x_test)\n",
    "    result=classification_report(y_test,prediction)\n",
    "    \n",
    "    print(result)\n",
    "    \n",
    "    avg_score=accuracy_score(y_test,prediction)\n",
    "    print(name,'MODEL ACCURACY : {}'.format(avg_score))\n",
    "    print('***********************************************************************************')\n",
    " "
   ]
  },
  {
   "cell_type": "markdown",
   "id": "60cafb32",
   "metadata": {},
   "source": [
    "    There is 4 models that produced the highest accuracy. There is no right answer as to which model produces the best accuracy so probably we will use 4 models to predict."
   ]
  },
  {
   "cell_type": "code",
   "execution_count": 10,
   "id": "65ac2c97",
   "metadata": {},
   "outputs": [
    {
     "name": "stdout",
     "output_type": "stream",
     "text": [
      "ACTUAL RESULTS : \n",
      "    L  W\n",
      "14  1  0\n",
      "15  0  1\n",
      "16  0  1\n",
      "17  0  1\n",
      "***********************************************************************************\n",
      "***********************************************************************************\n",
      "[[0 0]\n",
      " [0 1]\n",
      " [0 1]\n",
      " [0 1]]\n",
      "              precision    recall  f1-score   support\n",
      "\n",
      "           0       0.00      0.00      0.00         1\n",
      "           1       1.00      1.00      1.00         3\n",
      "\n",
      "   micro avg       1.00      0.75      0.86         4\n",
      "   macro avg       0.50      0.50      0.50         4\n",
      "weighted avg       0.75      0.75      0.75         4\n",
      " samples avg       0.75      0.75      0.75         4\n",
      "\n",
      "lr MODEL SCORE IS :  75.0 %\n",
      "***********************************************************************************\n",
      "[[0 1]\n",
      " [0 1]\n",
      " [0 1]\n",
      " [0 1]]\n",
      "              precision    recall  f1-score   support\n",
      "\n",
      "           0       0.00      0.00      0.00         1\n",
      "           1       0.75      1.00      0.86         3\n",
      "\n",
      "   micro avg       0.75      0.75      0.75         4\n",
      "   macro avg       0.38      0.50      0.43         4\n",
      "weighted avg       0.56      0.75      0.64         4\n",
      " samples avg       0.75      0.75      0.75         4\n",
      "\n",
      "knn MODEL SCORE IS :  75.0 %\n",
      "***********************************************************************************\n",
      "[[0 1]\n",
      " [0 1]\n",
      " [0 1]\n",
      " [0 1]]\n",
      "              precision    recall  f1-score   support\n",
      "\n",
      "           0       0.00      0.00      0.00         1\n",
      "           1       0.75      1.00      0.86         3\n",
      "\n",
      "   micro avg       0.75      0.75      0.75         4\n",
      "   macro avg       0.38      0.50      0.43         4\n",
      "weighted avg       0.56      0.75      0.64         4\n",
      " samples avg       0.75      0.75      0.75         4\n",
      "\n",
      "svm MODEL SCORE IS :  75.0 %\n",
      "***********************************************************************************\n",
      "[[0 1]\n",
      " [0 1]\n",
      " [0 1]\n",
      " [0 1]]\n",
      "              precision    recall  f1-score   support\n",
      "\n",
      "           0       0.00      0.00      0.00         1\n",
      "           1       0.75      1.00      0.86         3\n",
      "\n",
      "   micro avg       0.75      0.75      0.75         4\n",
      "   macro avg       0.38      0.50      0.43         4\n",
      "weighted avg       0.56      0.75      0.64         4\n",
      " samples avg       0.75      0.75      0.75         4\n",
      "\n",
      "naive MODEL SCORE IS :  75.0 %\n",
      "***********************************************************************************\n"
     ]
    }
   ],
   "source": [
    "classification_model=[\n",
    "    ('lr',LogisticRegression()),\n",
    "    ('knn',KNeighborsClassifier()),\n",
    "    ('svm',SVC()),\n",
    "    ('naive',MultinomialNB()),\n",
    "]\n",
    "\n",
    "\n",
    "print('ACTUAL RESULTS : ')\n",
    "print(y_test)\n",
    "print('***********************************************************************************')\n",
    "print('***********************************************************************************')\n",
    "\n",
    "for name,model in classification_model:\n",
    "    mod=MultiOutputClassifier(model).fit(x_train,y_train)\n",
    "    prediction=mod.predict(x_test)\n",
    "    print(prediction)\n",
    "    result=classification_report(y_test,prediction)\n",
    "    \n",
    "    print(result)\n",
    "    \n",
    "    avg_score=(accuracy_score(y_test,prediction))*100\n",
    "    print(name,'MODEL SCORE IS :  {}'.format(avg_score), '%')\n",
    "    print('***********************************************************************************')"
   ]
  },
  {
   "cell_type": "markdown",
   "id": "b87db94d",
   "metadata": {},
   "source": [
    "    Here we can see the most accuract model is Logistic Regression since it predicts the first match as a draw which is the nearest to the actual results (lose)."
   ]
  },
  {
   "cell_type": "markdown",
   "id": "f9c7aef4",
   "metadata": {},
   "source": [
    "# Logistic regression hyper parameter tuning"
   ]
  },
  {
   "cell_type": "code",
   "execution_count": 44,
   "id": "1621b77b",
   "metadata": {},
   "outputs": [],
   "source": [
    "def model_score(model,X_train,Y_train,X_test,Y_test,feature_importance=True):\n",
    "    \n",
    "    #fit the model\n",
    "    mod=MultiOutputClassifier(model).fit(X_train,Y_train)\n",
    "    prediction=mod.predict(X_test)   \n",
    "    #see accuracy with normal train test split\n",
    "    print (\"\\nModel classification report :\")\n",
    "    print (\"Accuracy : {}\".format(accuracy_score(y_test,prediction)*100), '%')\n"
   ]
  },
  {
   "cell_type": "code",
   "execution_count": 45,
   "id": "9cc5a030",
   "metadata": {},
   "outputs": [
    {
     "name": "stdout",
     "output_type": "stream",
     "text": [
      "\n",
      "Model classification report :\n",
      "Accuracy : 75.0 %\n"
     ]
    }
   ],
   "source": [
    "model_score(LogisticRegression(),x_train,y_train,x_test,y_test)"
   ]
  },
  {
   "cell_type": "code",
   "execution_count": null,
   "id": "88074e24",
   "metadata": {},
   "outputs": [],
   "source": [
    " 'c_values':[100, 10, 1.0, 0.1, 0.01]"
   ]
  },
  {
   "cell_type": "markdown",
   "id": "430bc5b4",
   "metadata": {},
   "source": [
    "# Need to make our own for loop to use each parameters since grid search does mixed train test split"
   ]
  },
  {
   "cell_type": "code",
   "execution_count": 97,
   "id": "726c6762",
   "metadata": {},
   "outputs": [
    {
     "data": {
      "text/plain": [
       "dict_keys(['estimator__C', 'estimator__class_weight', 'estimator__dual', 'estimator__fit_intercept', 'estimator__intercept_scaling', 'estimator__l1_ratio', 'estimator__max_iter', 'estimator__multi_class', 'estimator__n_jobs', 'estimator__penalty', 'estimator__random_state', 'estimator__solver', 'estimator__tol', 'estimator__verbose', 'estimator__warm_start', 'estimator', 'n_jobs'])"
      ]
     },
     "execution_count": 97,
     "metadata": {},
     "output_type": "execute_result"
    }
   ],
   "source": [
    "param_test1= dict()\n",
    "param_test1['estimator__solver'] = ['newton-cg', 'lbfgs', 'liblinear']\n",
    "param_test1['estimator__penalty'] = ['none', 'l1', 'l2', 'elasticnet']\n",
    "param_test1['estimator__C'] = [100, 10, 1.0, 0.1, 0.01]\n",
    "model=LogisticRegression()\n",
    "lr=MultiOutputClassifier(model)\n",
    "lr.get_params().keys()"
   ]
  },
  {
   "cell_type": "code",
   "execution_count": 107,
   "id": "73a85f3b",
   "metadata": {},
   "outputs": [
    {
     "data": {
      "text/plain": [
       "GridSearchCV(estimator=MultiOutputClassifier(estimator=LogisticRegression()),\n",
       "             param_grid={'estimator__C': [100, 10, 1.0, 0.1, 0.01],\n",
       "                         'estimator__penalty': ['none', 'l1', 'l2',\n",
       "                                                'elasticnet'],\n",
       "                         'estimator__solver': ['newton-cg', 'lbfgs',\n",
       "                                               'liblinear']})"
      ]
     },
     "execution_count": 107,
     "metadata": {},
     "output_type": "execute_result"
    }
   ],
   "source": [
    "gsearch1 = GridSearchCV(estimator = lr,param_grid=param_test1)\n",
    "gsearch1.fit(x,y)"
   ]
  },
  {
   "cell_type": "code",
   "execution_count": 108,
   "id": "81de9aaa",
   "metadata": {},
   "outputs": [
    {
     "data": {
      "text/plain": [
       "0.6833333333333333"
      ]
     },
     "execution_count": 108,
     "metadata": {},
     "output_type": "execute_result"
    }
   ],
   "source": [
    "gsearch1.best_score_"
   ]
  },
  {
   "cell_type": "code",
   "execution_count": 109,
   "id": "d89e9f27",
   "metadata": {},
   "outputs": [
    {
     "data": {
      "text/plain": [
       "{'estimator__C': 10,\n",
       " 'estimator__penalty': 'l1',\n",
       " 'estimator__solver': 'liblinear'}"
      ]
     },
     "execution_count": 109,
     "metadata": {},
     "output_type": "execute_result"
    }
   ],
   "source": [
    "gsearch1.best_params_"
   ]
  },
  {
   "cell_type": "code",
   "execution_count": null,
   "id": "397a592d",
   "metadata": {},
   "outputs": [],
   "source": []
  }
 ],
 "metadata": {
  "kernelspec": {
   "display_name": "Python 3 (ipykernel)",
   "language": "python",
   "name": "python3"
  },
  "language_info": {
   "codemirror_mode": {
    "name": "ipython",
    "version": 3
   },
   "file_extension": ".py",
   "mimetype": "text/x-python",
   "name": "python",
   "nbconvert_exporter": "python",
   "pygments_lexer": "ipython3",
   "version": "3.7.8"
  }
 },
 "nbformat": 4,
 "nbformat_minor": 5
}
