{
 "cells": [
  {
   "cell_type": "code",
   "execution_count": 1,
   "id": "85025f1b",
   "metadata": {},
   "outputs": [],
   "source": [
    "import pandas as pd\n"
   ]
  },
  {
   "cell_type": "code",
   "execution_count": null,
   "id": "21b66235",
   "metadata": {},
   "outputs": [],
   "source": [
    "df = pd.read_csv('D:\\\\Udemy\\\\personal data science projects\\\\Arsenal\\\\2021-2022 season\\\\arsenal_match_preds\\\\2021-2022 season\\\\first_match.csv').drop(df.columns[[0]], axis=1)\n"
   ]
  },
  {
   "cell_type": "code",
   "execution_count": 8,
   "id": "f0fa5d82",
   "metadata": {},
   "outputs": [],
   "source": [
    "df = pd.read_csv('first_match.csv').drop(df.columns[[0]], axis=1)\n"
   ]
  },
  {
   "cell_type": "code",
   "execution_count": 9,
   "id": "e79a4b0a",
   "metadata": {},
   "outputs": [
    {
     "data": {
      "text/html": [
       "<div>\n",
       "<style scoped>\n",
       "    .dataframe tbody tr th:only-of-type {\n",
       "        vertical-align: middle;\n",
       "    }\n",
       "\n",
       "    .dataframe tbody tr th {\n",
       "        vertical-align: top;\n",
       "    }\n",
       "\n",
       "    .dataframe thead th {\n",
       "        text-align: right;\n",
       "    }\n",
       "</style>\n",
       "<table border=\"1\" class=\"dataframe\">\n",
       "  <thead>\n",
       "    <tr style=\"text-align: right;\">\n",
       "      <th></th>\n",
       "      <th>0</th>\n",
       "      <th>0.1</th>\n",
       "    </tr>\n",
       "  </thead>\n",
       "  <tbody>\n",
       "    <tr>\n",
       "      <th>0</th>\n",
       "      <td>David Raya</td>\n",
       "      <td>7.60</td>\n",
       "    </tr>\n",
       "    <tr>\n",
       "      <th>1</th>\n",
       "      <td>Ethan Pinnock</td>\n",
       "      <td>7.57</td>\n",
       "    </tr>\n",
       "    <tr>\n",
       "      <th>2</th>\n",
       "      <td>Kristoffer Ajer</td>\n",
       "      <td>6.71</td>\n",
       "    </tr>\n",
       "    <tr>\n",
       "      <th>3</th>\n",
       "      <td>Pontus Jansson</td>\n",
       "      <td>6.92</td>\n",
       "    </tr>\n",
       "    <tr>\n",
       "      <th>4</th>\n",
       "      <td>Sergi Canós</td>\n",
       "      <td>8.78</td>\n",
       "    </tr>\n",
       "    <tr>\n",
       "      <th>5</th>\n",
       "      <td>Rico Henry</td>\n",
       "      <td>6.79</td>\n",
       "    </tr>\n",
       "    <tr>\n",
       "      <th>6</th>\n",
       "      <td>Christian Nørgaard</td>\n",
       "      <td>7.67</td>\n",
       "    </tr>\n",
       "    <tr>\n",
       "      <th>7</th>\n",
       "      <td>Vitaly Janelt</td>\n",
       "      <td>6.74</td>\n",
       "    </tr>\n",
       "    <tr>\n",
       "      <th>8</th>\n",
       "      <td>Frank Onyeka</td>\n",
       "      <td>7.06</td>\n",
       "    </tr>\n",
       "    <tr>\n",
       "      <th>9</th>\n",
       "      <td>Bryan Mbeumo</td>\n",
       "      <td>7.15</td>\n",
       "    </tr>\n",
       "    <tr>\n",
       "      <th>10</th>\n",
       "      <td>Ivan Toney</td>\n",
       "      <td>7.33</td>\n",
       "    </tr>\n",
       "    <tr>\n",
       "      <th>11</th>\n",
       "      <td>Mads Bidstrup</td>\n",
       "      <td>6.21</td>\n",
       "    </tr>\n",
       "    <tr>\n",
       "      <th>12</th>\n",
       "      <td>Mads Bech Sørensen</td>\n",
       "      <td>6.11</td>\n",
       "    </tr>\n",
       "    <tr>\n",
       "      <th>13</th>\n",
       "      <td>Marcus Forss</td>\n",
       "      <td>5.98</td>\n",
       "    </tr>\n",
       "    <tr>\n",
       "      <th>14</th>\n",
       "      <td>Mads Roerslev</td>\n",
       "      <td>-</td>\n",
       "    </tr>\n",
       "    <tr>\n",
       "      <th>15</th>\n",
       "      <td>Yoane Wissa</td>\n",
       "      <td>-</td>\n",
       "    </tr>\n",
       "    <tr>\n",
       "      <th>16</th>\n",
       "      <td>Saman Ghoddos</td>\n",
       "      <td>-</td>\n",
       "    </tr>\n",
       "    <tr>\n",
       "      <th>17</th>\n",
       "      <td>Halil Dervisoglu</td>\n",
       "      <td>-</td>\n",
       "    </tr>\n",
       "    <tr>\n",
       "      <th>18</th>\n",
       "      <td>Charlie Goode</td>\n",
       "      <td>-</td>\n",
       "    </tr>\n",
       "    <tr>\n",
       "      <th>19</th>\n",
       "      <td>Patrik Gunnarsson</td>\n",
       "      <td>-</td>\n",
       "    </tr>\n",
       "    <tr>\n",
       "      <th>20</th>\n",
       "      <td>Bernd Leno</td>\n",
       "      <td>5.78</td>\n",
       "    </tr>\n",
       "    <tr>\n",
       "      <th>21</th>\n",
       "      <td>Calum Chambers</td>\n",
       "      <td>6.34</td>\n",
       "    </tr>\n",
       "    <tr>\n",
       "      <th>22</th>\n",
       "      <td>Pablo Marí</td>\n",
       "      <td>6.49</td>\n",
       "    </tr>\n",
       "    <tr>\n",
       "      <th>23</th>\n",
       "      <td>Benjamin White</td>\n",
       "      <td>6.02</td>\n",
       "    </tr>\n",
       "    <tr>\n",
       "      <th>24</th>\n",
       "      <td>Kieran Tierney</td>\n",
       "      <td>6.88</td>\n",
       "    </tr>\n",
       "    <tr>\n",
       "      <th>25</th>\n",
       "      <td>Albert Sambi Lokonga</td>\n",
       "      <td>6.66</td>\n",
       "    </tr>\n",
       "    <tr>\n",
       "      <th>26</th>\n",
       "      <td>Granit Xhaka</td>\n",
       "      <td>6.97</td>\n",
       "    </tr>\n",
       "    <tr>\n",
       "      <th>27</th>\n",
       "      <td>Nicolas Pépé</td>\n",
       "      <td>6.67</td>\n",
       "    </tr>\n",
       "    <tr>\n",
       "      <th>28</th>\n",
       "      <td>Emile Smith Rowe</td>\n",
       "      <td>6.76</td>\n",
       "    </tr>\n",
       "    <tr>\n",
       "      <th>29</th>\n",
       "      <td>Gabriel Martinelli</td>\n",
       "      <td>6.07</td>\n",
       "    </tr>\n",
       "    <tr>\n",
       "      <th>30</th>\n",
       "      <td>Folarin Balogun</td>\n",
       "      <td>5.76</td>\n",
       "    </tr>\n",
       "    <tr>\n",
       "      <th>31</th>\n",
       "      <td>Nuno Tavares</td>\n",
       "      <td>6.08</td>\n",
       "    </tr>\n",
       "    <tr>\n",
       "      <th>32</th>\n",
       "      <td>Bukayo Saka</td>\n",
       "      <td>6.25</td>\n",
       "    </tr>\n",
       "    <tr>\n",
       "      <th>33</th>\n",
       "      <td>Reiss Nelson</td>\n",
       "      <td>6.04</td>\n",
       "    </tr>\n",
       "    <tr>\n",
       "      <th>34</th>\n",
       "      <td>Mohamed Elneny</td>\n",
       "      <td>-</td>\n",
       "    </tr>\n",
       "    <tr>\n",
       "      <th>35</th>\n",
       "      <td>Karl Hein</td>\n",
       "      <td>-</td>\n",
       "    </tr>\n",
       "    <tr>\n",
       "      <th>36</th>\n",
       "      <td>Cédric Soares</td>\n",
       "      <td>-</td>\n",
       "    </tr>\n",
       "    <tr>\n",
       "      <th>37</th>\n",
       "      <td>Héctor Bellerín</td>\n",
       "      <td>-</td>\n",
       "    </tr>\n",
       "    <tr>\n",
       "      <th>38</th>\n",
       "      <td>Ainsley Maitland-Niles</td>\n",
       "      <td>-</td>\n",
       "    </tr>\n",
       "    <tr>\n",
       "      <th>39</th>\n",
       "      <td>Rob Holding</td>\n",
       "      <td>-</td>\n",
       "    </tr>\n",
       "  </tbody>\n",
       "</table>\n",
       "</div>"
      ],
      "text/plain": [
       "                         0   0.1\n",
       "0               David Raya  7.60\n",
       "1            Ethan Pinnock  7.57\n",
       "2          Kristoffer Ajer  6.71\n",
       "3           Pontus Jansson  6.92\n",
       "4              Sergi Canós  8.78\n",
       "5               Rico Henry  6.79\n",
       "6       Christian Nørgaard  7.67\n",
       "7            Vitaly Janelt  6.74\n",
       "8             Frank Onyeka  7.06\n",
       "9             Bryan Mbeumo  7.15\n",
       "10              Ivan Toney  7.33\n",
       "11           Mads Bidstrup  6.21\n",
       "12      Mads Bech Sørensen  6.11\n",
       "13            Marcus Forss  5.98\n",
       "14           Mads Roerslev     -\n",
       "15             Yoane Wissa     -\n",
       "16           Saman Ghoddos     -\n",
       "17        Halil Dervisoglu     -\n",
       "18           Charlie Goode     -\n",
       "19       Patrik Gunnarsson     -\n",
       "20              Bernd Leno  5.78\n",
       "21          Calum Chambers  6.34\n",
       "22              Pablo Marí  6.49\n",
       "23          Benjamin White  6.02\n",
       "24          Kieran Tierney  6.88\n",
       "25    Albert Sambi Lokonga  6.66\n",
       "26            Granit Xhaka  6.97\n",
       "27            Nicolas Pépé  6.67\n",
       "28        Emile Smith Rowe  6.76\n",
       "29      Gabriel Martinelli  6.07\n",
       "30         Folarin Balogun  5.76\n",
       "31            Nuno Tavares  6.08\n",
       "32             Bukayo Saka  6.25\n",
       "33            Reiss Nelson  6.04\n",
       "34          Mohamed Elneny     -\n",
       "35               Karl Hein     -\n",
       "36           Cédric Soares     -\n",
       "37         Héctor Bellerín     -\n",
       "38  Ainsley Maitland-Niles     -\n",
       "39             Rob Holding     -"
      ]
     },
     "execution_count": 9,
     "metadata": {},
     "output_type": "execute_result"
    }
   ],
   "source": [
    "df"
   ]
  },
  {
   "cell_type": "code",
   "execution_count": 10,
   "id": "9b724fc0",
   "metadata": {},
   "outputs": [],
   "source": [
    "df.columns=['players','ratings']"
   ]
  },
  {
   "cell_type": "code",
   "execution_count": null,
   "id": "609954af",
   "metadata": {},
   "outputs": [],
   "source": [
    "a['Names'].str.lower().str.contains('mel').any()\n",
    "goalkeeper=df[(df['players'].str.lower().str.contains('leno'))|(df['players'].str.lower().str.contains('xhaka'))]"
   ]
  },
  {
   "cell_type": "code",
   "execution_count": 32,
   "id": "5dc1ef5c",
   "metadata": {},
   "outputs": [],
   "source": [
    "goalkeeper=df[(df['players'].str.lower().str.contains('leno'))|(df['players'].str.lower().str.contains('xhaka'))]"
   ]
  },
  {
   "cell_type": "code",
   "execution_count": 33,
   "id": "c10fbedd",
   "metadata": {},
   "outputs": [
    {
     "data": {
      "text/html": [
       "<div>\n",
       "<style scoped>\n",
       "    .dataframe tbody tr th:only-of-type {\n",
       "        vertical-align: middle;\n",
       "    }\n",
       "\n",
       "    .dataframe tbody tr th {\n",
       "        vertical-align: top;\n",
       "    }\n",
       "\n",
       "    .dataframe thead th {\n",
       "        text-align: right;\n",
       "    }\n",
       "</style>\n",
       "<table border=\"1\" class=\"dataframe\">\n",
       "  <thead>\n",
       "    <tr style=\"text-align: right;\">\n",
       "      <th></th>\n",
       "      <th>players</th>\n",
       "      <th>ratings</th>\n",
       "    </tr>\n",
       "  </thead>\n",
       "  <tbody>\n",
       "    <tr>\n",
       "      <th>20</th>\n",
       "      <td>Bernd Leno</td>\n",
       "      <td>5.78</td>\n",
       "    </tr>\n",
       "    <tr>\n",
       "      <th>26</th>\n",
       "      <td>Granit Xhaka</td>\n",
       "      <td>6.97</td>\n",
       "    </tr>\n",
       "  </tbody>\n",
       "</table>\n",
       "</div>"
      ],
      "text/plain": [
       "         players ratings\n",
       "20    Bernd Leno    5.78\n",
       "26  Granit Xhaka    6.97"
      ]
     },
     "execution_count": 33,
     "metadata": {},
     "output_type": "execute_result"
    }
   ],
   "source": [
    "goalkeeper"
   ]
  },
  {
   "cell_type": "code",
   "execution_count": 46,
   "id": "d9d250a3",
   "metadata": {},
   "outputs": [
    {
     "name": "stderr",
     "output_type": "stream",
     "text": [
      "<ipython-input-46-006da23281ac>:1: SettingWithCopyWarning: \n",
      "A value is trying to be set on a copy of a slice from a DataFrame.\n",
      "Try using .loc[row_indexer,col_indexer] = value instead\n",
      "\n",
      "See the caveats in the documentation: https://pandas.pydata.org/pandas-docs/stable/user_guide/indexing.html#returning-a-view-versus-a-copy\n",
      "  goalkeeper['ratings']=goalkeeper['ratings'].apply(lambda x:(float(x)))\n"
     ]
    }
   ],
   "source": [
    "goalkeeper['ratings']=goalkeeper['ratings'].apply(lambda x:(float(x)))"
   ]
  },
  {
   "cell_type": "code",
   "execution_count": 47,
   "id": "cd4e5fe3",
   "metadata": {},
   "outputs": [
    {
     "data": {
      "text/plain": [
       "20    5.78\n",
       "26    6.97\n",
       "Name: ratings, dtype: float64"
      ]
     },
     "execution_count": 47,
     "metadata": {},
     "output_type": "execute_result"
    }
   ],
   "source": [
    "goalkeeper['ratings']"
   ]
  },
  {
   "cell_type": "code",
   "execution_count": 48,
   "id": "c6d54e1f",
   "metadata": {},
   "outputs": [
    {
     "data": {
      "text/plain": [
       "2"
      ]
     },
     "execution_count": 48,
     "metadata": {},
     "output_type": "execute_result"
    }
   ],
   "source": [
    "len(goalkeeper)"
   ]
  },
  {
   "cell_type": "code",
   "execution_count": 49,
   "id": "3e7fe9ec",
   "metadata": {},
   "outputs": [],
   "source": [
    "count=len(goalkeeper)\n",
    "avg_gk_ratings=sum(goalkeeper['ratings'])/count"
   ]
  },
  {
   "cell_type": "code",
   "execution_count": 50,
   "id": "2641954a",
   "metadata": {},
   "outputs": [
    {
     "data": {
      "text/plain": [
       "6.375"
      ]
     },
     "execution_count": 50,
     "metadata": {},
     "output_type": "execute_result"
    }
   ],
   "source": [
    "avg_gk_ratings"
   ]
  },
  {
   "cell_type": "code",
   "execution_count": null,
   "id": "2e9c521d",
   "metadata": {},
   "outputs": [],
   "source": []
  }
 ],
 "metadata": {
  "kernelspec": {
   "display_name": "Python 3",
   "language": "python",
   "name": "python3"
  },
  "language_info": {
   "codemirror_mode": {
    "name": "ipython",
    "version": 3
   },
   "file_extension": ".py",
   "mimetype": "text/x-python",
   "name": "python",
   "nbconvert_exporter": "python",
   "pygments_lexer": "ipython3",
   "version": "3.9.5"
  }
 },
 "nbformat": 4,
 "nbformat_minor": 5
}
